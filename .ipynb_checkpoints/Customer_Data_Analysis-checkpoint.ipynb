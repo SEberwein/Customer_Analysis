{
 "cells": [
  {
   "cell_type": "markdown",
   "id": "c45bcb17",
   "metadata": {},
   "source": [
    "\n",
    "# Case\n",
    "\n",
    "An auto insurance company has collected some data about its customers including their demographics, education, employment, policy details, vehicle information on which insurance policy is, and claim amounts. I will help the senior management with some business questions that will help them to better understand their customers, improve their services, and improve profitability.\n",
    "\n",
    "## Business Objectives\n",
    "\n",
    "- Retain customers,\n",
    "- analyze relevant customer data,\n",
    "- develop focused customer retention programs.\n",
    "\n",
    "Based on the analysis, take targeted actions to increase profitable customer response, retention, and growth."
   ]
  },
  {
   "cell_type": "markdown",
   "id": "37d691b5",
   "metadata": {},
   "source": [
    "# Importing modules"
   ]
  },
  {
   "cell_type": "code",
   "execution_count": 113,
   "id": "8ac26ab5",
   "metadata": {},
   "outputs": [],
   "source": [
    "# Cleaning\n",
    "import pandas as pd\n",
    "import numpy as np\n",
    "from scipy.stats import mode\n",
    "\n",
    "\n",
    "# Plotting\n",
    "import matplotlib.pyplot as plt\n",
    "import seaborn as sns\n",
    "%matplotlib inline\n",
    "\n",
    "# Modelling\n",
    "from scipy.stats import boxcox\n",
    "from sklearn.preprocessing import PowerTransformer\n",
    "from sklearn.preprocessing import (StandardScaler, MinMaxScaler)\n",
    "from sklearn.preprocessing import OneHotEncoder\n",
    "from sklearn.preprocessing import OrdinalEncoder\n",
    "from sklearn.model_selection import train_test_split\n",
    "from sklearn.linear_model import LinearRegression\n",
    "from sklearn.metrics import r2_score\n",
    "from sklearn.metrics import mean_squared_error as mse\n",
    "from sklearn.metrics import mean_absolute_error as mae\n",
    "from scipy.stats import iqr\n",
    "from scipy.stats import scoreatpercentile as pct\n",
    "from sklearn.linear_model import Ridge\n",
    "from sklearn.linear_model import Lasso\n",
    "from sklearn.neighbors import KNeighborsRegressor\n",
    "from sklearn.feature_selection import VarianceThreshold\n",
    "from sklearn.feature_selection import RFE\n",
    "import statsmodels.api as sm"
   ]
  },
  {
   "cell_type": "markdown",
   "id": "bb12f274",
   "metadata": {},
   "source": [
    "# Functions"
   ]
  },
  {
   "cell_type": "code",
   "execution_count": 114,
   "id": "7f653fa2",
   "metadata": {},
   "outputs": [],
   "source": [
    "# Function to lowercase and replace \" \" by \"_\" in columns\n",
    "def lower_case_replace_space(file):         \n",
    "    file.columns=[i.lower() for i in file.columns]\n",
    "    file.columns=[i.replace(' ','_') for i in file.columns]\n",
    "    return file\n",
    "\n",
    "def standardize_data(df):\n",
    "    df_standardized = pd.DataFrame(list(map(lambda x: list(map(lambda y: y.lower() if type(y)==str else y, x)), df.values)))\n",
    "    df_standardized.columns = df.columns\n",
    "    return df_standardized\n",
    "\n",
    "# Function for renaming of a column\n",
    "def rename_column(file):\n",
    "    file.rename(columns= {'st': 'state'}, inplace=True)\n",
    "    return file\n",
    "\n",
    "# Function to drop columns\n",
    "def drop_columns(file) :\n",
    "    file.drop(columns=['unnamed:_0', 'customer'], inplace=True)\n",
    "    return file\n",
    "\n",
    "# Function to change date to month\n",
    "def month (daytime):\n",
    "    if daytime == 1:\n",
    "        return 'January'\n",
    "    elif daytime == 2:\n",
    "        return 'February'\n",
    "    else:\n",
    "        return daytime\n",
    "\n",
    "# data type correction\n",
    "def data_type_corrector(df):\n",
    "    df.customer_lifetime_value = df.customer_lifetime_value.apply(lambda x: np.round(float(x.strip(\"%\"))*100) if type(x)==str else np.round(x) if x==x else x)\n",
    "    df.number_of_open_complaints = df.number_of_open_complaints.apply(lambda x: np.array(x.split(\"/\"), dtype=int)[1] if type(x)==str else x)\n",
    "    return df\n",
    "\n",
    "# returns distribution plots for numerical data\n",
    "def distrib_plots(num_df):\n",
    "    plt.figure(figsize = (14,12))\n",
    "    for i, col in enumerate(num_df.columns, 1):\n",
    "        plt.subplot(3,3,i)\n",
    "        sns.histplot(num_df[col], bins=20)"
   ]
  },
  {
   "cell_type": "markdown",
   "id": "2cdd49c6",
   "metadata": {},
   "source": [
    "# Loading Data"
   ]
  },
  {
   "cell_type": "code",
   "execution_count": 115,
   "id": "0f7da5fa",
   "metadata": {},
   "outputs": [
    {
     "data": {
      "text/html": [
       "<div>\n",
       "<style scoped>\n",
       "    .dataframe tbody tr th:only-of-type {\n",
       "        vertical-align: middle;\n",
       "    }\n",
       "\n",
       "    .dataframe tbody tr th {\n",
       "        vertical-align: top;\n",
       "    }\n",
       "\n",
       "    .dataframe thead th {\n",
       "        text-align: right;\n",
       "    }\n",
       "</style>\n",
       "<table border=\"1\" class=\"dataframe\">\n",
       "  <thead>\n",
       "    <tr style=\"text-align: right;\">\n",
       "      <th></th>\n",
       "      <th>Unnamed: 0</th>\n",
       "      <th>Customer</th>\n",
       "      <th>State</th>\n",
       "      <th>Customer Lifetime Value</th>\n",
       "      <th>Response</th>\n",
       "      <th>Coverage</th>\n",
       "      <th>Education</th>\n",
       "      <th>Effective To Date</th>\n",
       "      <th>EmploymentStatus</th>\n",
       "      <th>Gender</th>\n",
       "      <th>...</th>\n",
       "      <th>Number of Open Complaints</th>\n",
       "      <th>Number of Policies</th>\n",
       "      <th>Policy Type</th>\n",
       "      <th>Policy</th>\n",
       "      <th>Renew Offer Type</th>\n",
       "      <th>Sales Channel</th>\n",
       "      <th>Total Claim Amount</th>\n",
       "      <th>Vehicle Class</th>\n",
       "      <th>Vehicle Size</th>\n",
       "      <th>Vehicle Type</th>\n",
       "    </tr>\n",
       "  </thead>\n",
       "  <tbody>\n",
       "    <tr>\n",
       "      <th>0</th>\n",
       "      <td>0</td>\n",
       "      <td>DK49336</td>\n",
       "      <td>Arizona</td>\n",
       "      <td>4809.216960</td>\n",
       "      <td>No</td>\n",
       "      <td>Basic</td>\n",
       "      <td>College</td>\n",
       "      <td>2/18/11</td>\n",
       "      <td>Employed</td>\n",
       "      <td>M</td>\n",
       "      <td>...</td>\n",
       "      <td>0.0</td>\n",
       "      <td>9</td>\n",
       "      <td>Corporate Auto</td>\n",
       "      <td>Corporate L3</td>\n",
       "      <td>Offer3</td>\n",
       "      <td>Agent</td>\n",
       "      <td>292.800000</td>\n",
       "      <td>Four-Door Car</td>\n",
       "      <td>Medsize</td>\n",
       "      <td>NaN</td>\n",
       "    </tr>\n",
       "    <tr>\n",
       "      <th>1</th>\n",
       "      <td>1</td>\n",
       "      <td>KX64629</td>\n",
       "      <td>California</td>\n",
       "      <td>2228.525238</td>\n",
       "      <td>No</td>\n",
       "      <td>Basic</td>\n",
       "      <td>College</td>\n",
       "      <td>1/18/11</td>\n",
       "      <td>Unemployed</td>\n",
       "      <td>F</td>\n",
       "      <td>...</td>\n",
       "      <td>0.0</td>\n",
       "      <td>1</td>\n",
       "      <td>Personal Auto</td>\n",
       "      <td>Personal L3</td>\n",
       "      <td>Offer4</td>\n",
       "      <td>Call Center</td>\n",
       "      <td>744.924331</td>\n",
       "      <td>Four-Door Car</td>\n",
       "      <td>Medsize</td>\n",
       "      <td>NaN</td>\n",
       "    </tr>\n",
       "    <tr>\n",
       "      <th>2</th>\n",
       "      <td>2</td>\n",
       "      <td>LZ68649</td>\n",
       "      <td>Washington</td>\n",
       "      <td>14947.917300</td>\n",
       "      <td>No</td>\n",
       "      <td>Basic</td>\n",
       "      <td>Bachelor</td>\n",
       "      <td>2/10/11</td>\n",
       "      <td>Employed</td>\n",
       "      <td>M</td>\n",
       "      <td>...</td>\n",
       "      <td>0.0</td>\n",
       "      <td>2</td>\n",
       "      <td>Personal Auto</td>\n",
       "      <td>Personal L3</td>\n",
       "      <td>Offer3</td>\n",
       "      <td>Call Center</td>\n",
       "      <td>480.000000</td>\n",
       "      <td>SUV</td>\n",
       "      <td>Medsize</td>\n",
       "      <td>A</td>\n",
       "    </tr>\n",
       "    <tr>\n",
       "      <th>3</th>\n",
       "      <td>3</td>\n",
       "      <td>XL78013</td>\n",
       "      <td>Oregon</td>\n",
       "      <td>22332.439460</td>\n",
       "      <td>Yes</td>\n",
       "      <td>Extended</td>\n",
       "      <td>College</td>\n",
       "      <td>1/11/11</td>\n",
       "      <td>Employed</td>\n",
       "      <td>M</td>\n",
       "      <td>...</td>\n",
       "      <td>0.0</td>\n",
       "      <td>2</td>\n",
       "      <td>Corporate Auto</td>\n",
       "      <td>Corporate L3</td>\n",
       "      <td>Offer2</td>\n",
       "      <td>Branch</td>\n",
       "      <td>484.013411</td>\n",
       "      <td>Four-Door Car</td>\n",
       "      <td>Medsize</td>\n",
       "      <td>A</td>\n",
       "    </tr>\n",
       "    <tr>\n",
       "      <th>4</th>\n",
       "      <td>4</td>\n",
       "      <td>QA50777</td>\n",
       "      <td>Oregon</td>\n",
       "      <td>9025.067525</td>\n",
       "      <td>No</td>\n",
       "      <td>Premium</td>\n",
       "      <td>Bachelor</td>\n",
       "      <td>1/17/11</td>\n",
       "      <td>Medical Leave</td>\n",
       "      <td>F</td>\n",
       "      <td>...</td>\n",
       "      <td>NaN</td>\n",
       "      <td>7</td>\n",
       "      <td>Personal Auto</td>\n",
       "      <td>Personal L2</td>\n",
       "      <td>Offer1</td>\n",
       "      <td>Branch</td>\n",
       "      <td>707.925645</td>\n",
       "      <td>Four-Door Car</td>\n",
       "      <td>Medsize</td>\n",
       "      <td>NaN</td>\n",
       "    </tr>\n",
       "  </tbody>\n",
       "</table>\n",
       "<p>5 rows × 26 columns</p>\n",
       "</div>"
      ],
      "text/plain": [
       "   Unnamed: 0 Customer       State  Customer Lifetime Value Response  \\\n",
       "0           0  DK49336     Arizona              4809.216960       No   \n",
       "1           1  KX64629  California              2228.525238       No   \n",
       "2           2  LZ68649  Washington             14947.917300       No   \n",
       "3           3  XL78013      Oregon             22332.439460      Yes   \n",
       "4           4  QA50777      Oregon              9025.067525       No   \n",
       "\n",
       "   Coverage Education Effective To Date EmploymentStatus Gender  ...  \\\n",
       "0     Basic   College           2/18/11         Employed      M  ...   \n",
       "1     Basic   College           1/18/11       Unemployed      F  ...   \n",
       "2     Basic  Bachelor           2/10/11         Employed      M  ...   \n",
       "3  Extended   College           1/11/11         Employed      M  ...   \n",
       "4   Premium  Bachelor           1/17/11    Medical Leave      F  ...   \n",
       "\n",
       "   Number of Open Complaints Number of Policies     Policy Type        Policy  \\\n",
       "0                        0.0                  9  Corporate Auto  Corporate L3   \n",
       "1                        0.0                  1   Personal Auto   Personal L3   \n",
       "2                        0.0                  2   Personal Auto   Personal L3   \n",
       "3                        0.0                  2  Corporate Auto  Corporate L3   \n",
       "4                        NaN                  7   Personal Auto   Personal L2   \n",
       "\n",
       "   Renew Offer Type  Sales Channel  Total Claim Amount  Vehicle Class  \\\n",
       "0            Offer3          Agent          292.800000  Four-Door Car   \n",
       "1            Offer4    Call Center          744.924331  Four-Door Car   \n",
       "2            Offer3    Call Center          480.000000            SUV   \n",
       "3            Offer2         Branch          484.013411  Four-Door Car   \n",
       "4            Offer1         Branch          707.925645  Four-Door Car   \n",
       "\n",
       "  Vehicle Size Vehicle Type  \n",
       "0      Medsize          NaN  \n",
       "1      Medsize          NaN  \n",
       "2      Medsize            A  \n",
       "3      Medsize            A  \n",
       "4      Medsize          NaN  \n",
       "\n",
       "[5 rows x 26 columns]"
      ]
     },
     "execution_count": 115,
     "metadata": {},
     "output_type": "execute_result"
    }
   ],
   "source": [
    "# loading the data\n",
    "insurance_df = pd.read_csv('Data/Data_Marketing_Customer_Analysis_Round2.csv')\n",
    "insurance_df.head()"
   ]
  },
  {
   "cell_type": "markdown",
   "id": "8060a24b",
   "metadata": {},
   "source": [
    "# Cleaning Data"
   ]
  },
  {
   "cell_type": "code",
   "execution_count": 116,
   "id": "ba30a288",
   "metadata": {},
   "outputs": [
    {
     "data": {
      "text/html": [
       "<div>\n",
       "<style scoped>\n",
       "    .dataframe tbody tr th:only-of-type {\n",
       "        vertical-align: middle;\n",
       "    }\n",
       "\n",
       "    .dataframe tbody tr th {\n",
       "        vertical-align: top;\n",
       "    }\n",
       "\n",
       "    .dataframe thead th {\n",
       "        text-align: right;\n",
       "    }\n",
       "</style>\n",
       "<table border=\"1\" class=\"dataframe\">\n",
       "  <thead>\n",
       "    <tr style=\"text-align: right;\">\n",
       "      <th></th>\n",
       "      <th>unnamed:_0</th>\n",
       "      <th>customer</th>\n",
       "      <th>state</th>\n",
       "      <th>customer_lifetime_value</th>\n",
       "      <th>response</th>\n",
       "      <th>coverage</th>\n",
       "      <th>education</th>\n",
       "      <th>effective_to_date</th>\n",
       "      <th>employmentstatus</th>\n",
       "      <th>gender</th>\n",
       "      <th>...</th>\n",
       "      <th>number_of_open_complaints</th>\n",
       "      <th>number_of_policies</th>\n",
       "      <th>policy_type</th>\n",
       "      <th>policy</th>\n",
       "      <th>renew_offer_type</th>\n",
       "      <th>sales_channel</th>\n",
       "      <th>total_claim_amount</th>\n",
       "      <th>vehicle_class</th>\n",
       "      <th>vehicle_size</th>\n",
       "      <th>vehicle_type</th>\n",
       "    </tr>\n",
       "  </thead>\n",
       "  <tbody>\n",
       "    <tr>\n",
       "      <th>0</th>\n",
       "      <td>0</td>\n",
       "      <td>DK49336</td>\n",
       "      <td>Arizona</td>\n",
       "      <td>4809.216960</td>\n",
       "      <td>No</td>\n",
       "      <td>Basic</td>\n",
       "      <td>College</td>\n",
       "      <td>2/18/11</td>\n",
       "      <td>Employed</td>\n",
       "      <td>M</td>\n",
       "      <td>...</td>\n",
       "      <td>0.0</td>\n",
       "      <td>9</td>\n",
       "      <td>Corporate Auto</td>\n",
       "      <td>Corporate L3</td>\n",
       "      <td>Offer3</td>\n",
       "      <td>Agent</td>\n",
       "      <td>292.800000</td>\n",
       "      <td>Four-Door Car</td>\n",
       "      <td>Medsize</td>\n",
       "      <td>NaN</td>\n",
       "    </tr>\n",
       "    <tr>\n",
       "      <th>1</th>\n",
       "      <td>1</td>\n",
       "      <td>KX64629</td>\n",
       "      <td>California</td>\n",
       "      <td>2228.525238</td>\n",
       "      <td>No</td>\n",
       "      <td>Basic</td>\n",
       "      <td>College</td>\n",
       "      <td>1/18/11</td>\n",
       "      <td>Unemployed</td>\n",
       "      <td>F</td>\n",
       "      <td>...</td>\n",
       "      <td>0.0</td>\n",
       "      <td>1</td>\n",
       "      <td>Personal Auto</td>\n",
       "      <td>Personal L3</td>\n",
       "      <td>Offer4</td>\n",
       "      <td>Call Center</td>\n",
       "      <td>744.924331</td>\n",
       "      <td>Four-Door Car</td>\n",
       "      <td>Medsize</td>\n",
       "      <td>NaN</td>\n",
       "    </tr>\n",
       "  </tbody>\n",
       "</table>\n",
       "<p>2 rows × 26 columns</p>\n",
       "</div>"
      ],
      "text/plain": [
       "   unnamed:_0 customer       state  customer_lifetime_value response coverage  \\\n",
       "0           0  DK49336     Arizona              4809.216960       No    Basic   \n",
       "1           1  KX64629  California              2228.525238       No    Basic   \n",
       "\n",
       "  education effective_to_date employmentstatus gender  ...  \\\n",
       "0   College           2/18/11         Employed      M  ...   \n",
       "1   College           1/18/11       Unemployed      F  ...   \n",
       "\n",
       "   number_of_open_complaints number_of_policies     policy_type        policy  \\\n",
       "0                        0.0                  9  Corporate Auto  Corporate L3   \n",
       "1                        0.0                  1   Personal Auto   Personal L3   \n",
       "\n",
       "   renew_offer_type  sales_channel  total_claim_amount  vehicle_class  \\\n",
       "0            Offer3          Agent          292.800000  Four-Door Car   \n",
       "1            Offer4    Call Center          744.924331  Four-Door Car   \n",
       "\n",
       "  vehicle_size vehicle_type  \n",
       "0      Medsize          NaN  \n",
       "1      Medsize          NaN  \n",
       "\n",
       "[2 rows x 26 columns]"
      ]
     },
     "execution_count": 116,
     "metadata": {},
     "output_type": "execute_result"
    }
   ],
   "source": [
    "# standardize data\n",
    "lower_case_replace_space(insurance_df)\n",
    "insurance_df.head(2)"
   ]
  },
  {
   "cell_type": "code",
   "execution_count": 117,
   "id": "c0a2d30b",
   "metadata": {},
   "outputs": [
    {
     "data": {
      "text/html": [
       "<div>\n",
       "<style scoped>\n",
       "    .dataframe tbody tr th:only-of-type {\n",
       "        vertical-align: middle;\n",
       "    }\n",
       "\n",
       "    .dataframe tbody tr th {\n",
       "        vertical-align: top;\n",
       "    }\n",
       "\n",
       "    .dataframe thead th {\n",
       "        text-align: right;\n",
       "    }\n",
       "</style>\n",
       "<table border=\"1\" class=\"dataframe\">\n",
       "  <thead>\n",
       "    <tr style=\"text-align: right;\">\n",
       "      <th></th>\n",
       "      <th>unnamed:_0</th>\n",
       "      <th>customer</th>\n",
       "      <th>state</th>\n",
       "      <th>customer_lifetime_value</th>\n",
       "      <th>response</th>\n",
       "      <th>coverage</th>\n",
       "      <th>education</th>\n",
       "      <th>effective_to_date</th>\n",
       "      <th>employmentstatus</th>\n",
       "      <th>gender</th>\n",
       "      <th>...</th>\n",
       "      <th>number_of_open_complaints</th>\n",
       "      <th>number_of_policies</th>\n",
       "      <th>policy_type</th>\n",
       "      <th>policy</th>\n",
       "      <th>renew_offer_type</th>\n",
       "      <th>sales_channel</th>\n",
       "      <th>total_claim_amount</th>\n",
       "      <th>vehicle_class</th>\n",
       "      <th>vehicle_size</th>\n",
       "      <th>vehicle_type</th>\n",
       "    </tr>\n",
       "  </thead>\n",
       "  <tbody>\n",
       "    <tr>\n",
       "      <th>0</th>\n",
       "      <td>0</td>\n",
       "      <td>dk49336</td>\n",
       "      <td>arizona</td>\n",
       "      <td>4809.216960</td>\n",
       "      <td>no</td>\n",
       "      <td>basic</td>\n",
       "      <td>college</td>\n",
       "      <td>2/18/11</td>\n",
       "      <td>employed</td>\n",
       "      <td>m</td>\n",
       "      <td>...</td>\n",
       "      <td>0.0</td>\n",
       "      <td>9</td>\n",
       "      <td>corporate auto</td>\n",
       "      <td>corporate l3</td>\n",
       "      <td>offer3</td>\n",
       "      <td>agent</td>\n",
       "      <td>292.800000</td>\n",
       "      <td>four-door car</td>\n",
       "      <td>medsize</td>\n",
       "      <td>NaN</td>\n",
       "    </tr>\n",
       "    <tr>\n",
       "      <th>1</th>\n",
       "      <td>1</td>\n",
       "      <td>kx64629</td>\n",
       "      <td>california</td>\n",
       "      <td>2228.525238</td>\n",
       "      <td>no</td>\n",
       "      <td>basic</td>\n",
       "      <td>college</td>\n",
       "      <td>1/18/11</td>\n",
       "      <td>unemployed</td>\n",
       "      <td>f</td>\n",
       "      <td>...</td>\n",
       "      <td>0.0</td>\n",
       "      <td>1</td>\n",
       "      <td>personal auto</td>\n",
       "      <td>personal l3</td>\n",
       "      <td>offer4</td>\n",
       "      <td>call center</td>\n",
       "      <td>744.924331</td>\n",
       "      <td>four-door car</td>\n",
       "      <td>medsize</td>\n",
       "      <td>NaN</td>\n",
       "    </tr>\n",
       "  </tbody>\n",
       "</table>\n",
       "<p>2 rows × 26 columns</p>\n",
       "</div>"
      ],
      "text/plain": [
       "   unnamed:_0 customer       state  customer_lifetime_value response coverage  \\\n",
       "0           0  dk49336     arizona              4809.216960       no    basic   \n",
       "1           1  kx64629  california              2228.525238       no    basic   \n",
       "\n",
       "  education effective_to_date employmentstatus gender  ...  \\\n",
       "0   college           2/18/11         employed      m  ...   \n",
       "1   college           1/18/11       unemployed      f  ...   \n",
       "\n",
       "   number_of_open_complaints number_of_policies     policy_type        policy  \\\n",
       "0                        0.0                  9  corporate auto  corporate l3   \n",
       "1                        0.0                  1   personal auto   personal l3   \n",
       "\n",
       "   renew_offer_type  sales_channel  total_claim_amount  vehicle_class  \\\n",
       "0            offer3          agent          292.800000  four-door car   \n",
       "1            offer4    call center          744.924331  four-door car   \n",
       "\n",
       "  vehicle_size vehicle_type  \n",
       "0      medsize          NaN  \n",
       "1      medsize          NaN  \n",
       "\n",
       "[2 rows x 26 columns]"
      ]
     },
     "execution_count": 117,
     "metadata": {},
     "output_type": "execute_result"
    }
   ],
   "source": [
    "insurance_df = standardize_data(insurance_df)\n",
    "insurance_df.head(2)"
   ]
  },
  {
   "cell_type": "code",
   "execution_count": 118,
   "id": "319fe535",
   "metadata": {},
   "outputs": [
    {
     "data": {
      "text/html": [
       "<div>\n",
       "<style scoped>\n",
       "    .dataframe tbody tr th:only-of-type {\n",
       "        vertical-align: middle;\n",
       "    }\n",
       "\n",
       "    .dataframe tbody tr th {\n",
       "        vertical-align: top;\n",
       "    }\n",
       "\n",
       "    .dataframe thead th {\n",
       "        text-align: right;\n",
       "    }\n",
       "</style>\n",
       "<table border=\"1\" class=\"dataframe\">\n",
       "  <thead>\n",
       "    <tr style=\"text-align: right;\">\n",
       "      <th></th>\n",
       "      <th>state</th>\n",
       "      <th>customer_lifetime_value</th>\n",
       "      <th>response</th>\n",
       "      <th>coverage</th>\n",
       "      <th>education</th>\n",
       "      <th>effective_to_date</th>\n",
       "      <th>employmentstatus</th>\n",
       "      <th>gender</th>\n",
       "      <th>income</th>\n",
       "      <th>location_code</th>\n",
       "      <th>...</th>\n",
       "      <th>number_of_open_complaints</th>\n",
       "      <th>number_of_policies</th>\n",
       "      <th>policy_type</th>\n",
       "      <th>policy</th>\n",
       "      <th>renew_offer_type</th>\n",
       "      <th>sales_channel</th>\n",
       "      <th>total_claim_amount</th>\n",
       "      <th>vehicle_class</th>\n",
       "      <th>vehicle_size</th>\n",
       "      <th>vehicle_type</th>\n",
       "    </tr>\n",
       "  </thead>\n",
       "  <tbody>\n",
       "    <tr>\n",
       "      <th>0</th>\n",
       "      <td>arizona</td>\n",
       "      <td>4809.216960</td>\n",
       "      <td>no</td>\n",
       "      <td>basic</td>\n",
       "      <td>college</td>\n",
       "      <td>2/18/11</td>\n",
       "      <td>employed</td>\n",
       "      <td>m</td>\n",
       "      <td>48029</td>\n",
       "      <td>suburban</td>\n",
       "      <td>...</td>\n",
       "      <td>0.0</td>\n",
       "      <td>9</td>\n",
       "      <td>corporate auto</td>\n",
       "      <td>corporate l3</td>\n",
       "      <td>offer3</td>\n",
       "      <td>agent</td>\n",
       "      <td>292.800000</td>\n",
       "      <td>four-door car</td>\n",
       "      <td>medsize</td>\n",
       "      <td>NaN</td>\n",
       "    </tr>\n",
       "    <tr>\n",
       "      <th>1</th>\n",
       "      <td>california</td>\n",
       "      <td>2228.525238</td>\n",
       "      <td>no</td>\n",
       "      <td>basic</td>\n",
       "      <td>college</td>\n",
       "      <td>1/18/11</td>\n",
       "      <td>unemployed</td>\n",
       "      <td>f</td>\n",
       "      <td>0</td>\n",
       "      <td>suburban</td>\n",
       "      <td>...</td>\n",
       "      <td>0.0</td>\n",
       "      <td>1</td>\n",
       "      <td>personal auto</td>\n",
       "      <td>personal l3</td>\n",
       "      <td>offer4</td>\n",
       "      <td>call center</td>\n",
       "      <td>744.924331</td>\n",
       "      <td>four-door car</td>\n",
       "      <td>medsize</td>\n",
       "      <td>NaN</td>\n",
       "    </tr>\n",
       "  </tbody>\n",
       "</table>\n",
       "<p>2 rows × 24 columns</p>\n",
       "</div>"
      ],
      "text/plain": [
       "        state  customer_lifetime_value response coverage education  \\\n",
       "0     arizona              4809.216960       no    basic   college   \n",
       "1  california              2228.525238       no    basic   college   \n",
       "\n",
       "  effective_to_date employmentstatus gender  income location_code  ...  \\\n",
       "0           2/18/11         employed      m   48029      suburban  ...   \n",
       "1           1/18/11       unemployed      f       0      suburban  ...   \n",
       "\n",
       "  number_of_open_complaints  number_of_policies     policy_type        policy  \\\n",
       "0                       0.0                   9  corporate auto  corporate l3   \n",
       "1                       0.0                   1   personal auto   personal l3   \n",
       "\n",
       "   renew_offer_type  sales_channel total_claim_amount  vehicle_class  \\\n",
       "0            offer3          agent         292.800000  four-door car   \n",
       "1            offer4    call center         744.924331  four-door car   \n",
       "\n",
       "  vehicle_size vehicle_type  \n",
       "0      medsize          NaN  \n",
       "1      medsize          NaN  \n",
       "\n",
       "[2 rows x 24 columns]"
      ]
     },
     "execution_count": 118,
     "metadata": {},
     "output_type": "execute_result"
    }
   ],
   "source": [
    "drop_columns(insurance_df)\n",
    "insurance_df.head(2)"
   ]
  },
  {
   "cell_type": "code",
   "execution_count": 119,
   "id": "fc7ecb4a",
   "metadata": {},
   "outputs": [
    {
     "data": {
      "text/html": [
       "<div>\n",
       "<style scoped>\n",
       "    .dataframe tbody tr th:only-of-type {\n",
       "        vertical-align: middle;\n",
       "    }\n",
       "\n",
       "    .dataframe tbody tr th {\n",
       "        vertical-align: top;\n",
       "    }\n",
       "\n",
       "    .dataframe thead th {\n",
       "        text-align: right;\n",
       "    }\n",
       "</style>\n",
       "<table border=\"1\" class=\"dataframe\">\n",
       "  <thead>\n",
       "    <tr style=\"text-align: right;\">\n",
       "      <th></th>\n",
       "      <th>state</th>\n",
       "      <th>customer_lifetime_value</th>\n",
       "      <th>response</th>\n",
       "      <th>coverage</th>\n",
       "      <th>education</th>\n",
       "      <th>effective_to_date</th>\n",
       "      <th>employmentstatus</th>\n",
       "      <th>gender</th>\n",
       "      <th>income</th>\n",
       "      <th>location_code</th>\n",
       "      <th>...</th>\n",
       "      <th>number_of_open_complaints</th>\n",
       "      <th>number_of_policies</th>\n",
       "      <th>policy_type</th>\n",
       "      <th>policy</th>\n",
       "      <th>renew_offer_type</th>\n",
       "      <th>sales_channel</th>\n",
       "      <th>total_claim_amount</th>\n",
       "      <th>vehicle_class</th>\n",
       "      <th>vehicle_size</th>\n",
       "      <th>vehicle_type</th>\n",
       "    </tr>\n",
       "  </thead>\n",
       "  <tbody>\n",
       "    <tr>\n",
       "      <th>0</th>\n",
       "      <td>arizona</td>\n",
       "      <td>4809.0</td>\n",
       "      <td>no</td>\n",
       "      <td>basic</td>\n",
       "      <td>college</td>\n",
       "      <td>2/18/11</td>\n",
       "      <td>employed</td>\n",
       "      <td>m</td>\n",
       "      <td>48029</td>\n",
       "      <td>suburban</td>\n",
       "      <td>...</td>\n",
       "      <td>0.0</td>\n",
       "      <td>9</td>\n",
       "      <td>corporate auto</td>\n",
       "      <td>corporate l3</td>\n",
       "      <td>offer3</td>\n",
       "      <td>agent</td>\n",
       "      <td>292.800000</td>\n",
       "      <td>four-door car</td>\n",
       "      <td>medsize</td>\n",
       "      <td>NaN</td>\n",
       "    </tr>\n",
       "    <tr>\n",
       "      <th>1</th>\n",
       "      <td>california</td>\n",
       "      <td>2229.0</td>\n",
       "      <td>no</td>\n",
       "      <td>basic</td>\n",
       "      <td>college</td>\n",
       "      <td>1/18/11</td>\n",
       "      <td>unemployed</td>\n",
       "      <td>f</td>\n",
       "      <td>0</td>\n",
       "      <td>suburban</td>\n",
       "      <td>...</td>\n",
       "      <td>0.0</td>\n",
       "      <td>1</td>\n",
       "      <td>personal auto</td>\n",
       "      <td>personal l3</td>\n",
       "      <td>offer4</td>\n",
       "      <td>call center</td>\n",
       "      <td>744.924331</td>\n",
       "      <td>four-door car</td>\n",
       "      <td>medsize</td>\n",
       "      <td>NaN</td>\n",
       "    </tr>\n",
       "  </tbody>\n",
       "</table>\n",
       "<p>2 rows × 24 columns</p>\n",
       "</div>"
      ],
      "text/plain": [
       "        state  customer_lifetime_value response coverage education  \\\n",
       "0     arizona                   4809.0       no    basic   college   \n",
       "1  california                   2229.0       no    basic   college   \n",
       "\n",
       "  effective_to_date employmentstatus gender  income location_code  ...  \\\n",
       "0           2/18/11         employed      m   48029      suburban  ...   \n",
       "1           1/18/11       unemployed      f       0      suburban  ...   \n",
       "\n",
       "  number_of_open_complaints  number_of_policies     policy_type        policy  \\\n",
       "0                       0.0                   9  corporate auto  corporate l3   \n",
       "1                       0.0                   1   personal auto   personal l3   \n",
       "\n",
       "   renew_offer_type  sales_channel total_claim_amount  vehicle_class  \\\n",
       "0            offer3          agent         292.800000  four-door car   \n",
       "1            offer4    call center         744.924331  four-door car   \n",
       "\n",
       "  vehicle_size vehicle_type  \n",
       "0      medsize          NaN  \n",
       "1      medsize          NaN  \n",
       "\n",
       "[2 rows x 24 columns]"
      ]
     },
     "execution_count": 119,
     "metadata": {},
     "output_type": "execute_result"
    }
   ],
   "source": [
    "insurance_df = data_type_corrector(insurance_df)\n",
    "insurance_df.head(2)"
   ]
  },
  {
   "cell_type": "code",
   "execution_count": 120,
   "id": "0da3c85a",
   "metadata": {},
   "outputs": [
    {
     "name": "stdout",
     "output_type": "stream",
     "text": [
      "<class 'pandas.core.frame.DataFrame'>\n",
      "RangeIndex: 10910 entries, 0 to 10909\n",
      "Data columns (total 24 columns):\n",
      " #   Column                         Non-Null Count  Dtype  \n",
      "---  ------                         --------------  -----  \n",
      " 0   state                          10279 non-null  object \n",
      " 1   customer_lifetime_value        10910 non-null  float64\n",
      " 2   response                       10279 non-null  object \n",
      " 3   coverage                       10910 non-null  object \n",
      " 4   education                      10910 non-null  object \n",
      " 5   effective_to_date              10910 non-null  object \n",
      " 6   employmentstatus               10910 non-null  object \n",
      " 7   gender                         10910 non-null  object \n",
      " 8   income                         10910 non-null  int64  \n",
      " 9   location_code                  10910 non-null  object \n",
      " 10  marital_status                 10910 non-null  object \n",
      " 11  monthly_premium_auto           10910 non-null  int64  \n",
      " 12  months_since_last_claim        10277 non-null  float64\n",
      " 13  months_since_policy_inception  10910 non-null  int64  \n",
      " 14  number_of_open_complaints      10277 non-null  float64\n",
      " 15  number_of_policies             10910 non-null  int64  \n",
      " 16  policy_type                    10910 non-null  object \n",
      " 17  policy                         10910 non-null  object \n",
      " 18  renew_offer_type               10910 non-null  object \n",
      " 19  sales_channel                  10910 non-null  object \n",
      " 20  total_claim_amount             10910 non-null  float64\n",
      " 21  vehicle_class                  10288 non-null  object \n",
      " 22  vehicle_size                   10288 non-null  object \n",
      " 23  vehicle_type                   5428 non-null   object \n",
      "dtypes: float64(4), int64(4), object(16)\n",
      "memory usage: 2.0+ MB\n"
     ]
    }
   ],
   "source": [
    "insurance_df.info()"
   ]
  },
  {
   "cell_type": "code",
   "execution_count": 121,
   "id": "e9d2f4f3",
   "metadata": {},
   "outputs": [],
   "source": [
    "# insurance_df = insurance_df.dropna()\n",
    "# len(insurance_df)"
   ]
  },
  {
   "cell_type": "markdown",
   "id": "265c1dc1",
   "metadata": {},
   "source": [
    "### Numerical vs. Categorical "
   ]
  },
  {
   "cell_type": "code",
   "execution_count": 122,
   "id": "d52b4ac4",
   "metadata": {},
   "outputs": [
    {
     "name": "stdout",
     "output_type": "stream",
     "text": [
      "Index(['customer_lifetime_value', 'income', 'monthly_premium_auto',\n",
      "       'months_since_last_claim', 'months_since_policy_inception',\n",
      "       'number_of_open_complaints', 'number_of_policies',\n",
      "       'total_claim_amount'],\n",
      "      dtype='object')\n"
     ]
    }
   ],
   "source": [
    "numerical_data = insurance_df.select_dtypes(include=['int','float']).dtypes.index\n",
    "print(numerical_data)"
   ]
  },
  {
   "cell_type": "code",
   "execution_count": 123,
   "id": "5fbe5807",
   "metadata": {},
   "outputs": [
    {
     "name": "stdout",
     "output_type": "stream",
     "text": [
      "Index(['state', 'response', 'coverage', 'education', 'effective_to_date',\n",
      "       'employmentstatus', 'gender', 'location_code', 'marital_status',\n",
      "       'policy_type', 'policy', 'renew_offer_type', 'sales_channel',\n",
      "       'vehicle_class', 'vehicle_size', 'vehicle_type'],\n",
      "      dtype='object')\n"
     ]
    }
   ],
   "source": [
    "categorical_data = insurance_df.select_dtypes(exclude=['int','float']).dtypes.index\n",
    "print(categorical_data)"
   ]
  },
  {
   "cell_type": "code",
   "execution_count": 124,
   "id": "4a682234",
   "metadata": {},
   "outputs": [
    {
     "ename": "NameError",
     "evalue": "name 'column' is not defined",
     "output_type": "error",
     "traceback": [
      "\u001b[0;31m---------------------------------------------------------------------------\u001b[0m",
      "\u001b[0;31mNameError\u001b[0m                                 Traceback (most recent call last)",
      "\u001b[0;32m/var/folders/cv/t2s5281913s8lgwyscbngltm0000gn/T/ipykernel_3698/1889568255.py\u001b[0m in \u001b[0;36m<module>\u001b[0;34m\u001b[0m\n\u001b[1;32m      1\u001b[0m \u001b[0;31m# check for each categorical column, to detect typos/short forms\u001b[0m\u001b[0;34m\u001b[0m\u001b[0;34m\u001b[0m\u001b[0m\n\u001b[0;32m----> 2\u001b[0;31m \u001b[0minsurance_df\u001b[0m\u001b[0;34m[\u001b[0m\u001b[0mcolumn\u001b[0m\u001b[0;34m]\u001b[0m\u001b[0;34m.\u001b[0m\u001b[0mvalue_counts\u001b[0m\u001b[0;34m(\u001b[0m\u001b[0;34m)\u001b[0m\u001b[0;34m\u001b[0m\u001b[0;34m\u001b[0m\u001b[0m\n\u001b[0m",
      "\u001b[0;31mNameError\u001b[0m: name 'column' is not defined"
     ]
    }
   ],
   "source": [
    "# check for each categorical column, to detect typos/short forms\n",
    "insurance_df[column].value_counts()"
   ]
  },
  {
   "cell_type": "code",
   "execution_count": null,
   "id": "1c2f7e4e",
   "metadata": {},
   "outputs": [],
   "source": [
    "# rearrange columns and drop \n",
    "insurance_df.columns"
   ]
  },
  {
   "cell_type": "code",
   "execution_count": null,
   "id": "99361d82",
   "metadata": {},
   "outputs": [],
   "source": [
    "# rearrange columns and drop \n",
    "insurance_df = insurance_df.reindex(columns=['state', 'customer_lifetime_value', 'response', 'coverage', 'education',\n",
    "       'effective_to_date', 'employmentstatus', 'gender', 'income',\n",
    "       'location_code', 'marital_status', 'monthly_premium_auto',\n",
    "       'months_since_last_claim', 'months_since_policy_inception',\n",
    "       'number_of_open_complaints', 'number_of_policies', 'policy_type',\n",
    "       'policy', 'renew_offer_type', 'sales_channel', 'total_claim_amount',\n",
    "       'vehicle_class', 'vehicle_size', 'vehicle_type'])\n",
    "insurance_df.head()"
   ]
  },
  {
   "cell_type": "markdown",
   "id": "80309088",
   "metadata": {},
   "source": [
    "### Split numerical and categorical data"
   ]
  },
  {
   "cell_type": "code",
   "execution_count": null,
   "id": "5c9b14bd",
   "metadata": {},
   "outputs": [],
   "source": [
    "numerical_df = insurance_df[numerical_data]\n",
    "numerical_df.head()"
   ]
  },
  {
   "cell_type": "code",
   "execution_count": null,
   "id": "7a62d9bb",
   "metadata": {},
   "outputs": [],
   "source": [
    "categorical_df = insurance_df[categorical_data]\n",
    "categorical_df.head()"
   ]
  },
  {
   "cell_type": "markdown",
   "id": "749e4399",
   "metadata": {},
   "source": [
    "## Distribution Plots"
   ]
  },
  {
   "cell_type": "code",
   "execution_count": null,
   "id": "60fe333e",
   "metadata": {},
   "outputs": [],
   "source": [
    "# plot numerical data to visualize potential correlations\n",
    "sns.pairplot(numerical_df)"
   ]
  },
  {
   "cell_type": "markdown",
   "id": "92f99d92",
   "metadata": {},
   "source": [
    "## Histograms"
   ]
  },
  {
   "cell_type": "code",
   "execution_count": null,
   "id": "59111c94",
   "metadata": {},
   "outputs": [],
   "source": [
    "# distribution of the numericals\n",
    "distrib_plots(numerical_df)"
   ]
  },
  {
   "cell_type": "markdown",
   "id": "e3a32f88",
   "metadata": {},
   "source": [
    "## Correlation"
   ]
  },
  {
   "cell_type": "code",
   "execution_count": null,
   "id": "4dac5ab8",
   "metadata": {},
   "outputs": [],
   "source": [
    "insurance_df.corr()"
   ]
  },
  {
   "cell_type": "code",
   "execution_count": null,
   "id": "eb2bd165",
   "metadata": {},
   "outputs": [],
   "source": [
    "corr = insurance_df.corr()\n",
    "mask = np.zeros_like(corr)\n",
    "mask[np.triu_indices_from(mask)] = True\n",
    "with sns.axes_style(\"white\"):\n",
    "    f, ax = plt.subplots(figsize=(9, 7))\n",
    "    ax = sns.heatmap(corr, mask=mask,cmap='coolwarm', vmin=-1,vmax=1,annot=True, square=True)"
   ]
  },
  {
   "cell_type": "code",
   "execution_count": null,
   "id": "3e77cd0f",
   "metadata": {},
   "outputs": [],
   "source": [
    "# check for highly correlated features\n",
    "corr_matrix=insurance_df.corr().abs()\n",
    "upper_triangle=corr_matrix.where(np.triu(np.ones(corr_matrix.shape),k=1).astype(bool))\n",
    "[column for column in upper_triangle.columns if any(upper_triangle[column] > 0.75)]"
   ]
  },
  {
   "cell_type": "markdown",
   "id": "2cc59742",
   "metadata": {},
   "source": [
    "## Response Data "
   ]
  },
  {
   "cell_type": "markdown",
   "id": "b3131877",
   "metadata": {},
   "source": [
    "### Total Response"
   ]
  },
  {
   "cell_type": "code",
   "execution_count": null,
   "id": "7bcee66d",
   "metadata": {},
   "outputs": [],
   "source": [
    "sns.countplot(x=\"Response\", data=insurance_df, palette=sns.color_palette(\"Paired\"))"
   ]
  },
  {
   "cell_type": "markdown",
   "id": "8f5b2c71",
   "metadata": {},
   "source": [
    "###  Response Rate/ Sales Channel\n"
   ]
  },
  {
   "cell_type": "code",
   "execution_count": null,
   "id": "1a9541f1",
   "metadata": {},
   "outputs": [],
   "source": [
    "channel_grp = insurance_df.groupby(['sales_channel'])"
   ]
  },
  {
   "cell_type": "code",
   "execution_count": null,
   "id": "53175e3e",
   "metadata": {},
   "outputs": [],
   "source": [
    "channel_grp['response'].value_counts(normalize=True)"
   ]
  },
  {
   "cell_type": "code",
   "execution_count": null,
   "id": "ce531641",
   "metadata": {},
   "outputs": [],
   "source": [
    "channel_df = pd.DataFrame({'count': insurance_df.groupby([\"sales_channel\", \"response\"]).size()}).reset_index()\n",
    "channel_df"
   ]
  },
  {
   "cell_type": "code",
   "execution_count": null,
   "id": "572cd14e",
   "metadata": {},
   "outputs": [],
   "source": [
    "fig4, ax4 = plt.subplots(figsize = (8,6))\n",
    "ax4.set_title('Response Rate by Sales Channel', size='16', fontweight='bold')\n",
    "\n",
    "sns.barplot(x = channel_df['sales_channel'],y = channel_df['count'], hue = channel_df['response'],palette=sns.color_palette(\"Paired\"), ax = ax4)"
   ]
  },
  {
   "cell_type": "markdown",
   "id": "9df85910",
   "metadata": {},
   "source": [
    "### Response Rate / Total Claims "
   ]
  },
  {
   "cell_type": "code",
   "execution_count": null,
   "id": "cf702f26",
   "metadata": {},
   "outputs": [],
   "source": [
    "print(min(numerical_df['total_claim_amount']))\n",
    "print(max(numerical_df['total_claim_amount']))"
   ]
  },
  {
   "cell_type": "code",
   "execution_count": null,
   "id": "4ae4da0c",
   "metadata": {},
   "outputs": [],
   "source": [
    "sns.countplot(x = pd.cut(insurance_df[\"total_claim_amount\"]\n",
    "                         , bins=[0,500,1000,1500,2000]\n",
    "                         ,labels=[\"< 500\",\"<1000\",\"<1500\",\"<2000\"])\n",
    "              ,y = None, hue=categorical_df[\"response\"], palette=sns.color_palette(\"Paired\"))"
   ]
  },
  {
   "cell_type": "markdown",
   "id": "dfe44342",
   "metadata": {},
   "source": [
    "###  Response Rate/ Income"
   ]
  },
  {
   "cell_type": "code",
   "execution_count": null,
   "id": "1d4d38d1",
   "metadata": {},
   "outputs": [],
   "source": [
    "print(min(numerical_df['income']))\n",
    "print(max(numerical_df['income']))"
   ]
  },
  {
   "cell_type": "code",
   "execution_count": null,
   "id": "534f29c6",
   "metadata": {},
   "outputs": [],
   "source": [
    "sns.countplot(x = pd.cut(insurance_df[\"income\"]\n",
    "                         , bins=[10000,20000,40000,60000,100000]\n",
    "                         ,labels=[\"low\",\"medium\",\"high\",\"very_high\"])\n",
    "              ,y = None, hue=categorical_df[\"response\"], palette=sns.color_palette(\"Paired\"))"
   ]
  },
  {
   "cell_type": "markdown",
   "id": "903aa1bd",
   "metadata": {},
   "source": [
    "### Customer Lifetime Value "
   ]
  },
  {
   "cell_type": "code",
   "execution_count": null,
   "id": "097b0d3f",
   "metadata": {},
   "outputs": [],
   "source": [
    "print(min(numerical_df['customer_lifetime_value']))\n",
    "print(max(numerical_df['customer_lifetime_value']))"
   ]
  },
  {
   "cell_type": "code",
   "execution_count": null,
   "id": "85e524b2",
   "metadata": {},
   "outputs": [],
   "source": [
    "sns.countplot(x = pd.cut(insurance_df['customer_lifetime_value']\n",
    "                         , bins=[0,20000,40000,60000,80000]\n",
    "                         ,labels=[\"low\",\"medium\",\"high\",\"very_high\"])\n",
    "              ,y = None, hue=categorical_df['sales_channel'], palette=sns.color_palette(\"Paired\"))"
   ]
  },
  {
   "cell_type": "markdown",
   "id": "f20ba713",
   "metadata": {},
   "source": [
    "# Modelling\n",
    "- Xy Split\n",
    "- split in numeric & categorical\n",
    "- get dummies\n",
    "- concat\n",
    "- Data Split in Train/Test\n",
    "- Standardize\n",
    "- Model "
   ]
  },
  {
   "cell_type": "markdown",
   "id": "6d4ec05e",
   "metadata": {},
   "source": [
    "## X-y Split\n",
    "Remove the target variable, which you want to make predictions about."
   ]
  },
  {
   "cell_type": "code",
   "execution_count": null,
   "id": "2d1bb108",
   "metadata": {},
   "outputs": [],
   "source": [
    "## drop the target\n",
    "X=insurance_df.drop('total_claim_amount', axis=1)\n",
    "Y=insurance_df['total_claim_amount'] "
   ]
  },
  {
   "cell_type": "code",
   "execution_count": null,
   "id": "128d2219",
   "metadata": {},
   "outputs": [],
   "source": [
    "## handle as categorical variables\n",
    "X.drop(['number_of_open_complaints', 'number_of_policies'], axis=1, inplace=True) "
   ]
  },
  {
   "cell_type": "code",
   "execution_count": null,
   "id": "0a64f185",
   "metadata": {},
   "outputs": [],
   "source": [
    "X=X._get_numeric_data()\n",
    "X.head(2)"
   ]
  },
  {
   "cell_type": "code",
   "execution_count": null,
   "id": "fd6f6ad6",
   "metadata": {},
   "outputs": [],
   "source": [
    "X.reset_index(drop=True)\n",
    "X.head(2)"
   ]
  },
  {
   "cell_type": "code",
   "execution_count": null,
   "id": "36f031bf",
   "metadata": {},
   "outputs": [],
   "source": [
    "## select categorical features\n",
    "categoricals_features= insurance_df.select_dtypes(\"object\")\n",
    "categoricals_features.columns"
   ]
  },
  {
   "cell_type": "code",
   "execution_count": null,
   "id": "f0d33993",
   "metadata": {},
   "outputs": [],
   "source": [
    "## drop columns which (in my objection) don't impact the total claim amount\n",
    "categoricals_features.drop(['effective_to_date', 'sales_channel', 'renew_offer_type'], axis=1, inplace=True) "
   ]
  },
  {
   "cell_type": "code",
   "execution_count": null,
   "id": "5bcd89fe",
   "metadata": {},
   "outputs": [],
   "source": [
    "categoricals_features.columns"
   ]
  },
  {
   "cell_type": "code",
   "execution_count": null,
   "id": "8a09c0d4",
   "metadata": {},
   "outputs": [],
   "source": [
    "categoricals_features=pd.get_dummies(categoricals_features[['state', 'response', 'coverage', 'education', 'employmentstatus',\n",
    "       'gender', 'location_code', 'marital_status', 'policy_type', 'policy',\n",
    "       'vehicle_class', 'vehicle_size', 'vehicle_type']], drop_first=True)\n",
    "categoricals_features.head()"
   ]
  },
  {
   "cell_type": "code",
   "execution_count": null,
   "id": "9e79bc4b",
   "metadata": {},
   "outputs": [],
   "source": [
    "## drop index so the categoricals can be concatinated with the numericals\n",
    "categoricals_features.reset_index(drop=True)\n",
    "categoricals_features.head()"
   ]
  },
  {
   "cell_type": "code",
   "execution_count": null,
   "id": "ca0a843b",
   "metadata": {},
   "outputs": [],
   "source": [
    "X=pd.concat([X,categoricals_features],axis=1)"
   ]
  },
  {
   "cell_type": "markdown",
   "id": "6e47175a",
   "metadata": {},
   "source": [
    "## Data splitting\n",
    "\n",
    "Before creating any model, you want to split into:\n",
    "- Train set 70-80% (to train the model with)\n",
    "- Test set 20-30% (to test your model on) \n"
   ]
  },
  {
   "cell_type": "code",
   "execution_count": null,
   "id": "f1b3f3a0",
   "metadata": {},
   "outputs": [],
   "source": [
    "X.shape ## just to check, if you run into a Value Error"
   ]
  },
  {
   "cell_type": "code",
   "execution_count": null,
   "id": "b97eb27f",
   "metadata": {},
   "outputs": [],
   "source": [
    "Y.shape ## just to check, if you run into a Value Error"
   ]
  },
  {
   "cell_type": "code",
   "execution_count": 125,
   "id": "bdcc35dd",
   "metadata": {},
   "outputs": [],
   "source": [
    "X_train, X_test, y_train, y_test=train_test_split(X, y, test_size=.30,random_state=123)"
   ]
  },
  {
   "cell_type": "markdown",
   "id": "5535ece4",
   "metadata": {},
   "source": [
    "## Normalize/Standardize"
   ]
  },
  {
   "cell_type": "code",
   "execution_count": null,
   "id": "d879d552",
   "metadata": {},
   "outputs": [],
   "source": [
    "##finding the parameters (mean, variance from the training set)\n",
    "std_scaler=StandardScaler().fit(X_train)  \n",
    "X_train_scaled=std_scaler.transform(X_train)"
   ]
  },
  {
   "cell_type": "code",
   "execution_count": 1234,
   "id": "ce537086",
   "metadata": {},
   "outputs": [],
   "source": [
    "X_test_scaled=std_scaler.transform(X_test)"
   ]
  },
  {
   "cell_type": "code",
   "execution_count": 1235,
   "id": "112c90be",
   "metadata": {},
   "outputs": [
    {
     "name": "stdout",
     "output_type": "stream",
     "text": [
      "[[-0.41576668  0.77857914 -0.82777864 ... -0.50637969  0.65563413\n",
      "  -0.48620151]\n",
      " [ 1.23541236  0.30144517 -0.68280706 ...  1.97480275  0.65563413\n",
      "  -0.48620151]\n",
      " [-0.16427994  0.53799582 -0.16090934 ... -0.50637969  0.65563413\n",
      "  -0.48620151]\n",
      " ...\n",
      " [-0.33315365  1.19922291 -0.5958241  ... -0.50637969  0.65563413\n",
      "  -0.48620151]\n",
      " [ 1.64955612 -0.53243274 -0.5958241  ... -0.50637969  0.65563413\n",
      "  -0.48620151]\n",
      " [ 3.06415205 -0.53535069  2.94148262 ... -0.50637969 -1.52524091\n",
      "   2.05676035]]\n",
      "--------\n",
      "[[-0.58362539  0.90772301  0.27400542 ... -0.50637969  0.65563413\n",
      "  -0.48620151]\n",
      " [ 1.50634132 -1.22615071 -0.5958241  ... -0.50637969 -1.52524091\n",
      "   2.05676035]\n",
      " [ 0.16624077 -1.22615071  0.99886335 ... -0.50637969  0.65563413\n",
      "  -0.48620151]\n",
      " ...\n",
      " [-0.45985812 -0.47725399 -0.82777864 ... -0.50637969  0.65563413\n",
      "  -0.48620151]\n",
      " [-0.08556768 -0.19414729  0.01305656 ... -0.50637969  0.65563413\n",
      "  -0.48620151]\n",
      " [-0.60446299  0.39819652  0.21601678 ... -0.50637969  0.65563413\n",
      "  -0.48620151]]\n"
     ]
    }
   ],
   "source": [
    "print(X_train_scaled)\n",
    "print(\"--------\")\n",
    "print(X_test_scaled)"
   ]
  },
  {
   "cell_type": "code",
   "execution_count": 1236,
   "id": "35c1ec3a",
   "metadata": {},
   "outputs": [
    {
     "data": {
      "text/plain": [
       "array([[<AxesSubplot:title={'center':'Customer Lifetime Value'}>,\n",
       "        <AxesSubplot:title={'center':'Income'}>,\n",
       "        <AxesSubplot:title={'center':'Monthly Premium Auto'}>,\n",
       "        <AxesSubplot:title={'center':'Months Since Last Claim'}>,\n",
       "        <AxesSubplot:title={'center':'Months Since Policy Inception'}>,\n",
       "        <AxesSubplot:title={'center':'State_California'}>,\n",
       "        <AxesSubplot:title={'center':'State_Nevada'}>],\n",
       "       [<AxesSubplot:title={'center':'State_Oregon'}>,\n",
       "        <AxesSubplot:title={'center':'State_Washington'}>,\n",
       "        <AxesSubplot:title={'center':'Response_Yes'}>,\n",
       "        <AxesSubplot:title={'center':'Coverage_Extended'}>,\n",
       "        <AxesSubplot:title={'center':'Coverage_Premium'}>,\n",
       "        <AxesSubplot:title={'center':'Education_College'}>,\n",
       "        <AxesSubplot:title={'center':'Education_Doctor'}>],\n",
       "       [<AxesSubplot:title={'center':'Education_High School or Below'}>,\n",
       "        <AxesSubplot:title={'center':'Education_Master'}>,\n",
       "        <AxesSubplot:title={'center':'Month_January'}>,\n",
       "        <AxesSubplot:title={'center':'EmploymentStatus_Employed'}>,\n",
       "        <AxesSubplot:title={'center':'EmploymentStatus_Medical Leave'}>,\n",
       "        <AxesSubplot:title={'center':'EmploymentStatus_Retired'}>,\n",
       "        <AxesSubplot:title={'center':'EmploymentStatus_Unemployed'}>],\n",
       "       [<AxesSubplot:title={'center':'Gender_M'}>,\n",
       "        <AxesSubplot:title={'center':'Location Code_Suburban'}>,\n",
       "        <AxesSubplot:title={'center':'Location Code_Urban'}>,\n",
       "        <AxesSubplot:title={'center':'Marital Status_Married'}>,\n",
       "        <AxesSubplot:title={'center':'Marital Status_Single'}>,\n",
       "        <AxesSubplot:title={'center':'Policy Type_Personal Auto'}>,\n",
       "        <AxesSubplot:title={'center':'Policy Type_Special Auto'}>],\n",
       "       [<AxesSubplot:title={'center':'Policy_Corporate L2'}>,\n",
       "        <AxesSubplot:title={'center':'Policy_Corporate L3'}>,\n",
       "        <AxesSubplot:title={'center':'Policy_Personal L1'}>,\n",
       "        <AxesSubplot:title={'center':'Policy_Personal L2'}>,\n",
       "        <AxesSubplot:title={'center':'Policy_Personal L3'}>,\n",
       "        <AxesSubplot:title={'center':'Policy_Special L1'}>,\n",
       "        <AxesSubplot:title={'center':'Policy_Special L2'}>],\n",
       "       [<AxesSubplot:title={'center':'Policy_Special L3'}>,\n",
       "        <AxesSubplot:title={'center':'Vehicle Class_Luxury Car'}>,\n",
       "        <AxesSubplot:title={'center':'Vehicle Class_Luxury SUV'}>,\n",
       "        <AxesSubplot:title={'center':'Vehicle Class_SUV'}>,\n",
       "        <AxesSubplot:title={'center':'Vehicle Class_Sports Car'}>,\n",
       "        <AxesSubplot:title={'center':'Vehicle Class_Two-Door Car'}>,\n",
       "        <AxesSubplot:title={'center':'Vehicle Size_Medsize'}>],\n",
       "       [<AxesSubplot:title={'center':'Vehicle Size_Small'}>,\n",
       "        <AxesSubplot:>, <AxesSubplot:>, <AxesSubplot:>, <AxesSubplot:>,\n",
       "        <AxesSubplot:>, <AxesSubplot:>]], dtype=object)"
      ]
     },
     "execution_count": 1236,
     "metadata": {},
     "output_type": "execute_result"
    },
    {
     "data": {
      "image/png": "[encoded data removed]",
      "text/plain": [
       "<Figure size 1008x1008 with 49 Axes>"
      ]
     },
     "metadata": {
      "needs_background": "light"
     },
     "output_type": "display_data"
    }
   ],
   "source": [
    "X.hist(figsize=(14,14))"
   ]
  },
  {
   "cell_type": "code",
   "execution_count": 1237,
   "id": "9956d04f",
   "metadata": {},
   "outputs": [],
   "source": [
    "## Power Transformer (uses/searches lambda to end up with a new distribution with smallest skewness)\n",
    "## two methods \n",
    "bc = PowerTransformer(method=\"box-cox\")\n",
    "yj = PowerTransformer(method=\"yeo-johnson\")"
   ]
  },
  {
   "cell_type": "code",
   "execution_count": 1238,
   "id": "17dbab9a",
   "metadata": {},
   "outputs": [
    {
     "data": {
      "text/plain": [
       "<seaborn.axisgrid.FacetGrid at 0x7fcf2b25dfd0>"
      ]
     },
     "execution_count": 1238,
     "metadata": {},
     "output_type": "execute_result"
    },
    {
     "data": {
      "image/png": "[encoded data removed]",
      "text/plain": [
       "<Figure size 402.375x360 with 1 Axes>"
      ]
     },
     "metadata": {
      "needs_background": "light"
     },
     "output_type": "display_data"
    }
   ],
   "source": [
    "income_yj=yj.fit_transform(insurance_df['Income'].to_numpy().reshape(-1,1))\n",
    "sns.displot(income_yj)"
   ]
  },
  {
   "cell_type": "code",
   "execution_count": 1239,
   "id": "2da1f7b0",
   "metadata": {},
   "outputs": [
    {
     "data": {
      "text/plain": [
       "array([0.27067406])"
      ]
     },
     "execution_count": 1239,
     "metadata": {},
     "output_type": "execute_result"
    }
   ],
   "source": [
    "yj.lambdas_"
   ]
  },
  {
   "cell_type": "code",
   "execution_count": 1240,
   "id": "7f9f6e14",
   "metadata": {},
   "outputs": [
    {
     "data": {
      "text/plain": [
       "<seaborn.axisgrid.FacetGrid at 0x7fcf19c98bb0>"
      ]
     },
     "execution_count": 1240,
     "metadata": {},
     "output_type": "execute_result"
    },
    {
     "data": {
      "image/png": "[encoded data removed]",
      "text/plain": [
       "<Figure size 402.375x360 with 1 Axes>"
      ]
     },
     "metadata": {
      "needs_background": "light"
     },
     "output_type": "display_data"
    }
   ],
   "source": [
    "## Quartile Transformer\n",
    "qt = QuantileTransformer(output_distribution='normal')\n",
    "income_qt = qt.fit_transform(insurance_df['Income'].to_numpy().reshape(-1,1))\n",
    "sns.displot(income_qt)"
   ]
  },
  {
   "cell_type": "code",
   "execution_count": 1241,
   "id": "737515fb",
   "metadata": {},
   "outputs": [],
   "source": [
    "## drop Income and replace with transformed income\n",
    "insurance_df[\"income_qt\"]= income_qt\n",
    "insurance_df.drop([\"Income\"],axis=1,inplace=True)"
   ]
  },
  {
   "cell_type": "code",
   "execution_count": 1242,
   "id": "7cdb1022",
   "metadata": {},
   "outputs": [
    {
     "data": {
      "text/plain": [
       "<seaborn.axisgrid.FacetGrid at 0x7fcf19c92e50>"
      ]
     },
     "execution_count": 1242,
     "metadata": {},
     "output_type": "execute_result"
    },
    {
     "data": {
      "image/png": "[encoded data removed]",
      "text/plain": [
       "<Figure size 402.375x360 with 1 Axes>"
      ]
     },
     "metadata": {
      "needs_background": "light"
     },
     "output_type": "display_data"
    }
   ],
   "source": [
    "customer_value_bc=bc.fit_transform(insurance_df['Customer Lifetime Value'].to_numpy().reshape(-1,1))\n",
    "sns.displot(customer_value_bc)"
   ]
  },
  {
   "cell_type": "code",
   "execution_count": 1243,
   "id": "0b6a742c",
   "metadata": {},
   "outputs": [
    {
     "data": {
      "text/plain": [
       "<seaborn.axisgrid.FacetGrid at 0x7fcf3ba3f6d0>"
      ]
     },
     "execution_count": 1243,
     "metadata": {},
     "output_type": "execute_result"
    },
    {
     "data": {
      "image/png": "[encoded data removed]",
      "text/plain": [
       "<Figure size 402.375x360 with 1 Axes>"
      ]
     },
     "metadata": {
      "needs_background": "light"
     },
     "output_type": "display_data"
    }
   ],
   "source": [
    "## Quartile Transformer\n",
    "qt = QuantileTransformer(output_distribution='normal')\n",
    "customer_value_qt = qt.fit_transform(insurance_df['Customer Lifetime Value'].to_numpy().reshape(-1,1))\n",
    "sns.displot(customer_value_qt)"
   ]
  },
  {
   "cell_type": "code",
   "execution_count": 1244,
   "id": "12d09da1",
   "metadata": {},
   "outputs": [],
   "source": [
    "## drop customer lifetime value and replace with transformed income\n",
    "insurance_df[\"customer_value_qt\"]= customer_value_qt\n",
    "insurance_df.drop([\"Customer Lifetime Value\"],axis=1,inplace=True)"
   ]
  },
  {
   "cell_type": "code",
   "execution_count": 1245,
   "id": "3b638ebc",
   "metadata": {},
   "outputs": [
    {
     "data": {
      "text/plain": [
       "<seaborn.axisgrid.FacetGrid at 0x7fcfaea4a670>"
      ]
     },
     "execution_count": 1245,
     "metadata": {},
     "output_type": "execute_result"
    },
    {
     "data": {
      "image/png": "[encoded data removed]",
      "text/plain": [
       "<Figure size 402.375x360 with 1 Axes>"
      ]
     },
     "metadata": {
      "needs_background": "light"
     },
     "output_type": "display_data"
    }
   ],
   "source": [
    "monthly_auto_bc=bc.fit_transform(insurance_df['Monthly Premium Auto'].to_numpy().reshape(-1,1))\n",
    "sns.displot(monthly_auto_bc)"
   ]
  },
  {
   "cell_type": "code",
   "execution_count": 1246,
   "id": "d05f97f6",
   "metadata": {},
   "outputs": [
    {
     "data": {
      "text/plain": [
       "<seaborn.axisgrid.FacetGrid at 0x7fcf19c92ca0>"
      ]
     },
     "execution_count": 1246,
     "metadata": {},
     "output_type": "execute_result"
    },
    {
     "data": {
      "image/png": "[encoded data removed]",
      "text/plain": [
       "<Figure size 402.375x360 with 1 Axes>"
      ]
     },
     "metadata": {
      "needs_background": "light"
     },
     "output_type": "display_data"
    }
   ],
   "source": [
    "qt = QuantileTransformer(output_distribution='normal')\n",
    "monthly_auto_qt = qt.fit_transform(insurance_df['Monthly Premium Auto'].to_numpy().reshape(-1,1))\n",
    "sns.displot(monthly_auto_qt)"
   ]
  },
  {
   "cell_type": "code",
   "execution_count": 1247,
   "id": "8a7aa5ad",
   "metadata": {},
   "outputs": [],
   "source": [
    "## drop Monthly Premium Auto and replace with transformed income\n",
    "insurance_df[\"monthly_auto_qt\"]= monthly_auto_qt\n",
    "insurance_df.drop([\"Monthly Premium Auto\"],axis=1,inplace=True)"
   ]
  },
  {
   "cell_type": "code",
   "execution_count": 1248,
   "id": "7bf1b912",
   "metadata": {},
   "outputs": [
    {
     "data": {
      "text/plain": [
       "<seaborn.axisgrid.FacetGrid at 0x7fcf2b4a2f40>"
      ]
     },
     "execution_count": 1248,
     "metadata": {},
     "output_type": "execute_result"
    },
    {
     "data": {
      "image/png": "[encoded data removed]",
      "text/plain": [
       "<Figure size 402.375x360 with 1 Axes>"
      ]
     },
     "metadata": {
      "needs_background": "light"
     },
     "output_type": "display_data"
    }
   ],
   "source": [
    "last_claim_yj=yj.fit_transform(insurance_df['Months Since Last Claim'].to_numpy().reshape(-1,1))\n",
    "sns.displot(last_claim_yj)"
   ]
  },
  {
   "cell_type": "code",
   "execution_count": 1249,
   "id": "ff4cd007",
   "metadata": {},
   "outputs": [
    {
     "data": {
      "text/plain": [
       "<seaborn.axisgrid.FacetGrid at 0x7fcf4d276520>"
      ]
     },
     "execution_count": 1249,
     "metadata": {},
     "output_type": "execute_result"
    },
    {
     "data": {
      "image/png": "[encoded data removed]",
      "text/plain": [
       "<Figure size 402.375x360 with 1 Axes>"
      ]
     },
     "metadata": {
      "needs_background": "light"
     },
     "output_type": "display_data"
    }
   ],
   "source": [
    "last_claim_qt = qt.fit_transform(insurance_df['Months Since Last Claim'].to_numpy().reshape(-1,1))\n",
    "sns.displot(last_claim_qt)"
   ]
  },
  {
   "cell_type": "code",
   "execution_count": 1250,
   "id": "ef1a9664",
   "metadata": {},
   "outputs": [],
   "source": [
    "## drop Months Since Last Claim and replace with transformed income\n",
    "insurance_df[\"last_claim_qt\"]= last_claim_qt\n",
    "insurance_df.drop([\"Months Since Last Claim\"],axis=1,inplace=True)"
   ]
  },
  {
   "cell_type": "code",
   "execution_count": 1251,
   "id": "53efe305",
   "metadata": {},
   "outputs": [
    {
     "data": {
      "text/plain": [
       "<seaborn.axisgrid.FacetGrid at 0x7fcf2b29be80>"
      ]
     },
     "execution_count": 1251,
     "metadata": {},
     "output_type": "execute_result"
    },
    {
     "data": {
      "image/png": "[encoded data removed]",
      "text/plain": [
       "<Figure size 402.375x360 with 1 Axes>"
      ]
     },
     "metadata": {
      "needs_background": "light"
     },
     "output_type": "display_data"
    }
   ],
   "source": [
    "inspection_yj=yj.fit_transform(insurance_df['Months Since Policy Inception'].to_numpy().reshape(-1,1))\n",
    "sns.displot(inspection_yj)"
   ]
  },
  {
   "cell_type": "code",
   "execution_count": 1252,
   "id": "03f34abd",
   "metadata": {},
   "outputs": [
    {
     "data": {
      "text/plain": [
       "<seaborn.axisgrid.FacetGrid at 0x7fcf1a24e0d0>"
      ]
     },
     "execution_count": 1252,
     "metadata": {},
     "output_type": "execute_result"
    },
    {
     "data": {
      "image/png": "[encoded data removed]",
      "text/plain": [
       "<Figure size 402.375x360 with 1 Axes>"
      ]
     },
     "metadata": {
      "needs_background": "light"
     },
     "output_type": "display_data"
    }
   ],
   "source": [
    "inspection_qt = qt.fit_transform(insurance_df['Months Since Policy Inception'].to_numpy().reshape(-1,1))\n",
    "sns.displot(inspection_qt)"
   ]
  },
  {
   "cell_type": "code",
   "execution_count": 1253,
   "id": "d304818f",
   "metadata": {},
   "outputs": [],
   "source": [
    "## drop Months Since Policy Inception and replace with transformed income\n",
    "insurance_df[\"inspection_qt\"]= inspection_qt\n",
    "insurance_df.drop([\"Months Since Policy Inception\"],axis=1,inplace=True)"
   ]
  },
  {
   "cell_type": "code",
   "execution_count": null,
   "id": "074f3032",
   "metadata": {},
   "outputs": [],
   "source": []
  },
  {
   "cell_type": "markdown",
   "id": "e8f2f72b",
   "metadata": {},
   "source": [
    "# Apply Linear Regression"
   ]
  },
  {
   "cell_type": "code",
   "execution_count": 1254,
   "id": "cf0c5786",
   "metadata": {},
   "outputs": [
    {
     "data": {
      "text/plain": [
       "Index(['Customer Lifetime Value', 'Income', 'Monthly Premium Auto',\n",
       "       'Months Since Last Claim', 'Months Since Policy Inception',\n",
       "       'State_California', 'State_Nevada', 'State_Oregon', 'State_Washington',\n",
       "       'Response_Yes', 'Coverage_Extended', 'Coverage_Premium',\n",
       "       'Education_College', 'Education_Doctor',\n",
       "       'Education_High School or Below', 'Education_Master', 'Month_January',\n",
       "       'EmploymentStatus_Employed', 'EmploymentStatus_Medical Leave',\n",
       "       'EmploymentStatus_Retired', 'EmploymentStatus_Unemployed', 'Gender_M',\n",
       "       'Location Code_Suburban', 'Location Code_Urban',\n",
       "       'Marital Status_Married', 'Marital Status_Single',\n",
       "       'Policy Type_Personal Auto', 'Policy Type_Special Auto',\n",
       "       'Policy_Corporate L2', 'Policy_Corporate L3', 'Policy_Personal L1',\n",
       "       'Policy_Personal L2', 'Policy_Personal L3', 'Policy_Special L1',\n",
       "       'Policy_Special L2', 'Policy_Special L3', 'Vehicle Class_Luxury Car',\n",
       "       'Vehicle Class_Luxury SUV', 'Vehicle Class_SUV',\n",
       "       'Vehicle Class_Sports Car', 'Vehicle Class_Two-Door Car',\n",
       "       'Vehicle Size_Medsize', 'Vehicle Size_Small'],\n",
       "      dtype='object')"
      ]
     },
     "execution_count": 1254,
     "metadata": {},
     "output_type": "execute_result"
    }
   ],
   "source": [
    "X.columns"
   ]
  },
  {
   "cell_type": "code",
   "execution_count": 1255,
   "id": "b327934b",
   "metadata": {},
   "outputs": [
    {
     "data": {
      "text/plain": [
       "LinearRegression()"
      ]
     },
     "execution_count": 1255,
     "metadata": {},
     "output_type": "execute_result"
    }
   ],
   "source": [
    "## Model fitting\n",
    "model=LinearRegression()    # model\n",
    "model.fit(X_train_scaled, y_train)   # model train"
   ]
  },
  {
   "cell_type": "code",
   "execution_count": 1256,
   "id": "a3b14c8f",
   "metadata": {},
   "outputs": [
    {
     "data": {
      "text/plain": [
       "array([-1.82191142e+00, -8.26858714e+00,  1.59658112e+02,  4.16083846e+00,\n",
       "       -1.04268714e+00, -9.27502904e-01, -3.26442614e+00, -4.62533426e+00,\n",
       "       -1.49044777e+00, -8.48979541e+00,  1.71852510e+00,  2.82792338e+00,\n",
       "       -7.65851089e+00, -3.00627439e+00,  2.96966734e+00, -5.43855190e+00,\n",
       "       -1.37471159e+00, -4.17104082e+00,  5.32490546e+00, -2.65274491e+00,\n",
       "        2.77372295e+01,  1.01500076e+01,  1.84942666e+02,  8.63225172e+01,\n",
       "       -4.23893831e+00,  2.80158883e+01,  6.36143883e+13, -6.79503801e+13,\n",
       "       -4.99660989e+00, -2.45247909e+00, -5.11721044e+13, -6.16587843e+13,\n",
       "       -7.09869146e+13,  2.84171730e+13,  4.43151337e+13,  4.46528369e+13,\n",
       "        1.15805089e+01,  8.58041189e+00,  4.74423726e+00, -1.64279797e+00,\n",
       "        1.56616388e-01, -4.24339837e+00, -5.96506777e-01])"
      ]
     },
     "execution_count": 1256,
     "metadata": {},
     "output_type": "execute_result"
    }
   ],
   "source": [
    "model.coef_"
   ]
  },
  {
   "cell_type": "code",
   "execution_count": 1257,
   "id": "87dbfefa",
   "metadata": {},
   "outputs": [
    {
     "data": {
      "text/plain": [
       "436.1617650622665"
      ]
     },
     "execution_count": 1257,
     "metadata": {},
     "output_type": "execute_result"
    }
   ],
   "source": [
    "model.intercept_"
   ]
  },
  {
   "cell_type": "code",
   "execution_count": 1258,
   "id": "234bf801",
   "metadata": {},
   "outputs": [],
   "source": [
    "## Making prediction\n",
    "y_pred=model.predict(X_test_scaled)   # model prediction\n",
    "##y_pred_train=model.predict(X_train_scaled)"
   ]
  },
  {
   "cell_type": "markdown",
   "id": "84cb48cd",
   "metadata": {},
   "source": [
    "# Evaluating Model performance"
   ]
  },
  {
   "cell_type": "code",
   "execution_count": 1259,
   "id": "6c823700",
   "metadata": {},
   "outputs": [
    {
     "data": {
      "text/plain": [
       "6783      480.073548\n",
       "3775      525.600000\n",
       "1481      921.600000\n",
       "5094     1008.569798\n",
       "6298      640.800000\n",
       "            ...     \n",
       "5646      495.670802\n",
       "10541     446.084760\n",
       "9882      468.000000\n",
       "2952      146.950756\n",
       "10529       0.769185\n",
       "Name: Total Claim Amount, Length: 1363, dtype: float64"
      ]
     },
     "execution_count": 1259,
     "metadata": {},
     "output_type": "execute_result"
    }
   ],
   "source": [
    "y_test"
   ]
  },
  {
   "cell_type": "code",
   "execution_count": 1260,
   "id": "0294b254",
   "metadata": {},
   "outputs": [
    {
     "data": {
      "text/plain": [
       "array([371.05688948, 552.4661921 , 818.3943945 , ..., 400.74438948,\n",
       "       126.60376448, 202.1443945 ])"
      ]
     },
     "execution_count": 1260,
     "metadata": {},
     "output_type": "execute_result"
    }
   ],
   "source": [
    "y_pred"
   ]
  },
  {
   "cell_type": "code",
   "execution_count": 1261,
   "id": "97812553",
   "metadata": {},
   "outputs": [],
   "source": [
    "result=pd.DataFrame({\"y_test\":y_test,\"y_pred\":y_pred})"
   ]
  },
  {
   "cell_type": "code",
   "execution_count": 1262,
   "id": "ea2c881f",
   "metadata": {},
   "outputs": [
    {
     "data": {
      "text/plain": [
       "[<matplotlib.lines.Line2D at 0x7fcfaf009640>]"
      ]
     },
     "execution_count": 1262,
     "metadata": {},
     "output_type": "execute_result"
    },
    {
     "data": {
      "image/png": "[encoded data removed]",
      "text/plain": [
       "<Figure size 1008x288 with 3 Axes>"
      ]
     },
     "metadata": {
      "needs_background": "light"
     },
     "output_type": "display_data"
    }
   ],
   "source": [
    "# Make an scatter plot y_pred vs y\n",
    "# What kind of plot you will get if all the all the predictions are ok?\n",
    "# A stright line\n",
    "\n",
    "fig, ax = plt.subplots(1,3,figsize=(14,4))\n",
    "ax[0].plot(y_pred, y_test, 'o')\n",
    "ax[0].set_xlabel(\"y_test\")\n",
    "ax[0].set_ylabel(\"y_pred\")\n",
    "ax[0].set_title(\"Test Set -Predicted vs real\")\n",
    "\n",
    "# Get a histogram of the residuals ie: y - y_pred.  Homoscdasticity\n",
    "# It resembles a normal distribution?\n",
    "ax[1].hist(y_test - y_pred)\n",
    "ax[1].set_xlabel(\"Test y-y_pred\")\n",
    "ax[1].set_title(\"Test Set Residual histogram\")\n",
    "\n",
    "ax[2].plot(y_pred,y_test - y_pred,\"o\")\n",
    "ax[2].set_xlabel(\"predited\")\n",
    "ax[2].set_ylabel(\"residuals\")\n",
    "ax[2].set_title(\"Residuals by Predicted\")\n",
    "ax[2].plot(y_pred,np.zeros(len(y_pred)),linestyle='dashed')"
   ]
  },
  {
   "cell_type": "code",
   "execution_count": 1263,
   "id": "138e36db",
   "metadata": {},
   "outputs": [
    {
     "name": "stdout",
     "output_type": "stream",
     "text": [
      "18269.55985409686\n",
      "94.54471773467915\n",
      "0.7896699365265063\n"
     ]
    }
   ],
   "source": [
    "## Error metrics\n",
    "print(mse(y_test,y_pred))\n",
    "print(mae(y_test,y_pred))\n",
    "print(r2_score(y_test, y_pred))"
   ]
  },
  {
   "cell_type": "markdown",
   "id": "a62641a3",
   "metadata": {},
   "source": [
    "#### Label encoding"
   ]
  },
  {
   "cell_type": "code",
   "execution_count": 1264,
   "id": "3a45ea68",
   "metadata": {},
   "outputs": [],
   "source": [
    "## Label encoder for Number of Policies\n",
    "## Import label encoder \n",
    "#from sklearn import preprocessing\n",
    "## label_encoder object knows how to understand word labels. \n",
    "#label_encoder = preprocessing.LabelEncoder()\n",
    "## Encode labels in column ''. \n",
    "#insurance_df['State']= label_encoder.fit_transform(insurance_df['State']) \n",
    "#insurance_df.head()"
   ]
  },
  {
   "cell_type": "code",
   "execution_count": null,
   "id": "60c4b0ce",
   "metadata": {},
   "outputs": [],
   "source": []
  }
 ],
 "metadata": {
  "kernelspec": {
   "display_name": "Python 3 (ipykernel)",
   "language": "python",
   "name": "python3"
  },
  "language_info": {
   "codemirror_mode": {
    "name": "ipython",
    "version": 3
   },
   "file_extension": ".py",
   "mimetype": "text/x-python",
   "name": "python",
   "nbconvert_exporter": "python",
   "pygments_lexer": "ipython3",
   "version": "3.9.7"
  },
  "toc": {
   "base_numbering": 1,
   "nav_menu": {},
   "number_sections": true,
   "sideBar": true,
   "skip_h1_title": true,
   "title_cell": "Table of Contents",
   "title_sidebar": "Contents",
   "toc_cell": false,
   "toc_position": {
    "height": "calc(100% - 180px)",
    "left": "10px",
    "top": "150px",
    "width": "320px"
   },
   "toc_section_display": true,
   "toc_window_display": true
  }
 },
 "nbformat": 4,
 "nbformat_minor": 5
}
