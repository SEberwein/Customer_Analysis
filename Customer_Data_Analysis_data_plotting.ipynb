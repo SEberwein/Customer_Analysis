{
 "cells": [
  {
   "cell_type": "markdown",
   "id": "c45bcb17",
   "metadata": {},
   "source": [
    "# Data Plotting\n",
    "## Import Data"
   ]
  },
  {
   "cell_type": "code",
   "execution_count": 1168,
   "id": "8ac26ab5",
   "metadata": {},
   "outputs": [],
   "source": [
    "import numpy as np\n",
    "import pandas as pd\n",
    "import matplotlib.pyplot as plt\n",
    "%matplotlib inline\n",
    "import seaborn as sns"
   ]
  },
  {
   "cell_type": "code",
   "execution_count": 1169,
   "id": "0f7da5fa",
   "metadata": {},
   "outputs": [
    {
     "data": {
      "text/html": [
       "<div>\n",
       "<style scoped>\n",
       "    .dataframe tbody tr th:only-of-type {\n",
       "        vertical-align: middle;\n",
       "    }\n",
       "\n",
       "    .dataframe tbody tr th {\n",
       "        vertical-align: top;\n",
       "    }\n",
       "\n",
       "    .dataframe thead th {\n",
       "        text-align: right;\n",
       "    }\n",
       "</style>\n",
       "<table border=\"1\" class=\"dataframe\">\n",
       "  <thead>\n",
       "    <tr style=\"text-align: right;\">\n",
       "      <th></th>\n",
       "      <th>Unnamed: 0</th>\n",
       "      <th>Customer</th>\n",
       "      <th>State</th>\n",
       "      <th>Customer Lifetime Value</th>\n",
       "      <th>Response</th>\n",
       "      <th>Coverage</th>\n",
       "      <th>Education</th>\n",
       "      <th>Effective To Date</th>\n",
       "      <th>EmploymentStatus</th>\n",
       "      <th>Gender</th>\n",
       "      <th>...</th>\n",
       "      <th>Number of Open Complaints</th>\n",
       "      <th>Number of Policies</th>\n",
       "      <th>Policy Type</th>\n",
       "      <th>Policy</th>\n",
       "      <th>Renew Offer Type</th>\n",
       "      <th>Sales Channel</th>\n",
       "      <th>Total Claim Amount</th>\n",
       "      <th>Vehicle Class</th>\n",
       "      <th>Vehicle Size</th>\n",
       "      <th>Vehicle Type</th>\n",
       "    </tr>\n",
       "  </thead>\n",
       "  <tbody>\n",
       "    <tr>\n",
       "      <th>0</th>\n",
       "      <td>0</td>\n",
       "      <td>DK49336</td>\n",
       "      <td>Arizona</td>\n",
       "      <td>4809.216960</td>\n",
       "      <td>No</td>\n",
       "      <td>Basic</td>\n",
       "      <td>College</td>\n",
       "      <td>2/18/11</td>\n",
       "      <td>Employed</td>\n",
       "      <td>M</td>\n",
       "      <td>...</td>\n",
       "      <td>0.0</td>\n",
       "      <td>9</td>\n",
       "      <td>Corporate Auto</td>\n",
       "      <td>Corporate L3</td>\n",
       "      <td>Offer3</td>\n",
       "      <td>Agent</td>\n",
       "      <td>292.800000</td>\n",
       "      <td>Four-Door Car</td>\n",
       "      <td>Medsize</td>\n",
       "      <td>NaN</td>\n",
       "    </tr>\n",
       "    <tr>\n",
       "      <th>1</th>\n",
       "      <td>1</td>\n",
       "      <td>KX64629</td>\n",
       "      <td>California</td>\n",
       "      <td>2228.525238</td>\n",
       "      <td>No</td>\n",
       "      <td>Basic</td>\n",
       "      <td>College</td>\n",
       "      <td>1/18/11</td>\n",
       "      <td>Unemployed</td>\n",
       "      <td>F</td>\n",
       "      <td>...</td>\n",
       "      <td>0.0</td>\n",
       "      <td>1</td>\n",
       "      <td>Personal Auto</td>\n",
       "      <td>Personal L3</td>\n",
       "      <td>Offer4</td>\n",
       "      <td>Call Center</td>\n",
       "      <td>744.924331</td>\n",
       "      <td>Four-Door Car</td>\n",
       "      <td>Medsize</td>\n",
       "      <td>NaN</td>\n",
       "    </tr>\n",
       "    <tr>\n",
       "      <th>2</th>\n",
       "      <td>2</td>\n",
       "      <td>LZ68649</td>\n",
       "      <td>Washington</td>\n",
       "      <td>14947.917300</td>\n",
       "      <td>No</td>\n",
       "      <td>Basic</td>\n",
       "      <td>Bachelor</td>\n",
       "      <td>2/10/11</td>\n",
       "      <td>Employed</td>\n",
       "      <td>M</td>\n",
       "      <td>...</td>\n",
       "      <td>0.0</td>\n",
       "      <td>2</td>\n",
       "      <td>Personal Auto</td>\n",
       "      <td>Personal L3</td>\n",
       "      <td>Offer3</td>\n",
       "      <td>Call Center</td>\n",
       "      <td>480.000000</td>\n",
       "      <td>SUV</td>\n",
       "      <td>Medsize</td>\n",
       "      <td>A</td>\n",
       "    </tr>\n",
       "    <tr>\n",
       "      <th>3</th>\n",
       "      <td>3</td>\n",
       "      <td>XL78013</td>\n",
       "      <td>Oregon</td>\n",
       "      <td>22332.439460</td>\n",
       "      <td>Yes</td>\n",
       "      <td>Extended</td>\n",
       "      <td>College</td>\n",
       "      <td>1/11/11</td>\n",
       "      <td>Employed</td>\n",
       "      <td>M</td>\n",
       "      <td>...</td>\n",
       "      <td>0.0</td>\n",
       "      <td>2</td>\n",
       "      <td>Corporate Auto</td>\n",
       "      <td>Corporate L3</td>\n",
       "      <td>Offer2</td>\n",
       "      <td>Branch</td>\n",
       "      <td>484.013411</td>\n",
       "      <td>Four-Door Car</td>\n",
       "      <td>Medsize</td>\n",
       "      <td>A</td>\n",
       "    </tr>\n",
       "    <tr>\n",
       "      <th>4</th>\n",
       "      <td>4</td>\n",
       "      <td>QA50777</td>\n",
       "      <td>Oregon</td>\n",
       "      <td>9025.067525</td>\n",
       "      <td>No</td>\n",
       "      <td>Premium</td>\n",
       "      <td>Bachelor</td>\n",
       "      <td>1/17/11</td>\n",
       "      <td>Medical Leave</td>\n",
       "      <td>F</td>\n",
       "      <td>...</td>\n",
       "      <td>NaN</td>\n",
       "      <td>7</td>\n",
       "      <td>Personal Auto</td>\n",
       "      <td>Personal L2</td>\n",
       "      <td>Offer1</td>\n",
       "      <td>Branch</td>\n",
       "      <td>707.925645</td>\n",
       "      <td>Four-Door Car</td>\n",
       "      <td>Medsize</td>\n",
       "      <td>NaN</td>\n",
       "    </tr>\n",
       "  </tbody>\n",
       "</table>\n",
       "<p>5 rows × 26 columns</p>\n",
       "</div>"
      ],
      "text/plain": [
       "   Unnamed: 0 Customer       State  Customer Lifetime Value Response  \\\n",
       "0           0  DK49336     Arizona              4809.216960       No   \n",
       "1           1  KX64629  California              2228.525238       No   \n",
       "2           2  LZ68649  Washington             14947.917300       No   \n",
       "3           3  XL78013      Oregon             22332.439460      Yes   \n",
       "4           4  QA50777      Oregon              9025.067525       No   \n",
       "\n",
       "   Coverage Education Effective To Date EmploymentStatus Gender  ...  \\\n",
       "0     Basic   College           2/18/11         Employed      M  ...   \n",
       "1     Basic   College           1/18/11       Unemployed      F  ...   \n",
       "2     Basic  Bachelor           2/10/11         Employed      M  ...   \n",
       "3  Extended   College           1/11/11         Employed      M  ...   \n",
       "4   Premium  Bachelor           1/17/11    Medical Leave      F  ...   \n",
       "\n",
       "   Number of Open Complaints Number of Policies     Policy Type        Policy  \\\n",
       "0                        0.0                  9  Corporate Auto  Corporate L3   \n",
       "1                        0.0                  1   Personal Auto   Personal L3   \n",
       "2                        0.0                  2   Personal Auto   Personal L3   \n",
       "3                        0.0                  2  Corporate Auto  Corporate L3   \n",
       "4                        NaN                  7   Personal Auto   Personal L2   \n",
       "\n",
       "   Renew Offer Type  Sales Channel  Total Claim Amount  Vehicle Class  \\\n",
       "0            Offer3          Agent          292.800000  Four-Door Car   \n",
       "1            Offer4    Call Center          744.924331  Four-Door Car   \n",
       "2            Offer3    Call Center          480.000000            SUV   \n",
       "3            Offer2         Branch          484.013411  Four-Door Car   \n",
       "4            Offer1         Branch          707.925645  Four-Door Car   \n",
       "\n",
       "  Vehicle Size Vehicle Type  \n",
       "0      Medsize          NaN  \n",
       "1      Medsize          NaN  \n",
       "2      Medsize            A  \n",
       "3      Medsize            A  \n",
       "4      Medsize          NaN  \n",
       "\n",
       "[5 rows x 26 columns]"
      ]
     },
     "execution_count": 1169,
     "metadata": {},
     "output_type": "execute_result"
    }
   ],
   "source": [
    "insurance_df = pd.read_csv('Data/Data_Marketing_Customer_Analysis_Round2.csv')\n",
    "insurance_df.head()"
   ]
  },
  {
   "cell_type": "code",
   "execution_count": 1170,
   "id": "e9d2f4f3",
   "metadata": {},
   "outputs": [],
   "source": [
    "insurance_df = insurance_df.dropna()"
   ]
  },
  {
   "cell_type": "code",
   "execution_count": 1171,
   "id": "96a657a7",
   "metadata": {},
   "outputs": [
    {
     "name": "stdout",
     "output_type": "stream",
     "text": [
      "<class 'pandas.core.frame.DataFrame'>\n",
      "Int64Index: 4543 entries, 2 to 10908\n",
      "Data columns (total 26 columns):\n",
      " #   Column                         Non-Null Count  Dtype  \n",
      "---  ------                         --------------  -----  \n",
      " 0   Unnamed: 0                     4543 non-null   int64  \n",
      " 1   Customer                       4543 non-null   object \n",
      " 2   State                          4543 non-null   object \n",
      " 3   Customer Lifetime Value        4543 non-null   float64\n",
      " 4   Response                       4543 non-null   object \n",
      " 5   Coverage                       4543 non-null   object \n",
      " 6   Education                      4543 non-null   object \n",
      " 7   Effective To Date              4543 non-null   object \n",
      " 8   EmploymentStatus               4543 non-null   object \n",
      " 9   Gender                         4543 non-null   object \n",
      " 10  Income                         4543 non-null   int64  \n",
      " 11  Location Code                  4543 non-null   object \n",
      " 12  Marital Status                 4543 non-null   object \n",
      " 13  Monthly Premium Auto           4543 non-null   int64  \n",
      " 14  Months Since Last Claim        4543 non-null   float64\n",
      " 15  Months Since Policy Inception  4543 non-null   int64  \n",
      " 16  Number of Open Complaints      4543 non-null   float64\n",
      " 17  Number of Policies             4543 non-null   int64  \n",
      " 18  Policy Type                    4543 non-null   object \n",
      " 19  Policy                         4543 non-null   object \n",
      " 20  Renew Offer Type               4543 non-null   object \n",
      " 21  Sales Channel                  4543 non-null   object \n",
      " 22  Total Claim Amount             4543 non-null   float64\n",
      " 23  Vehicle Class                  4543 non-null   object \n",
      " 24  Vehicle Size                   4543 non-null   object \n",
      " 25  Vehicle Type                   4543 non-null   object \n",
      "dtypes: float64(4), int64(5), object(17)\n",
      "memory usage: 958.3+ KB\n"
     ]
    }
   ],
   "source": [
    "insurance_df.info()"
   ]
  },
  {
   "cell_type": "code",
   "execution_count": 1172,
   "id": "27d7c267",
   "metadata": {},
   "outputs": [
    {
     "data": {
      "text/plain": [
       "4543"
      ]
     },
     "execution_count": 1172,
     "metadata": {},
     "output_type": "execute_result"
    }
   ],
   "source": [
    "len(insurance_df)"
   ]
  },
  {
   "cell_type": "code",
   "execution_count": 1173,
   "id": "5aeeb257",
   "metadata": {},
   "outputs": [],
   "source": [
    "# drop unnamed column\n",
    "\n",
    "def drop_columns(column) :\n",
    "    column.drop(columns=['Unnamed: 0'], inplace=True)\n",
    "    return column"
   ]
  },
  {
   "cell_type": "code",
   "execution_count": 1174,
   "id": "d1f3b536",
   "metadata": {},
   "outputs": [
    {
     "data": {
      "text/html": [
       "<div>\n",
       "<style scoped>\n",
       "    .dataframe tbody tr th:only-of-type {\n",
       "        vertical-align: middle;\n",
       "    }\n",
       "\n",
       "    .dataframe tbody tr th {\n",
       "        vertical-align: top;\n",
       "    }\n",
       "\n",
       "    .dataframe thead th {\n",
       "        text-align: right;\n",
       "    }\n",
       "</style>\n",
       "<table border=\"1\" class=\"dataframe\">\n",
       "  <thead>\n",
       "    <tr style=\"text-align: right;\">\n",
       "      <th></th>\n",
       "      <th>Customer</th>\n",
       "      <th>State</th>\n",
       "      <th>Customer Lifetime Value</th>\n",
       "      <th>Response</th>\n",
       "      <th>Coverage</th>\n",
       "      <th>Education</th>\n",
       "      <th>Effective To Date</th>\n",
       "      <th>EmploymentStatus</th>\n",
       "      <th>Gender</th>\n",
       "      <th>Income</th>\n",
       "      <th>...</th>\n",
       "      <th>Number of Open Complaints</th>\n",
       "      <th>Number of Policies</th>\n",
       "      <th>Policy Type</th>\n",
       "      <th>Policy</th>\n",
       "      <th>Renew Offer Type</th>\n",
       "      <th>Sales Channel</th>\n",
       "      <th>Total Claim Amount</th>\n",
       "      <th>Vehicle Class</th>\n",
       "      <th>Vehicle Size</th>\n",
       "      <th>Vehicle Type</th>\n",
       "    </tr>\n",
       "  </thead>\n",
       "  <tbody>\n",
       "    <tr>\n",
       "      <th>2</th>\n",
       "      <td>LZ68649</td>\n",
       "      <td>Washington</td>\n",
       "      <td>14947.91730</td>\n",
       "      <td>No</td>\n",
       "      <td>Basic</td>\n",
       "      <td>Bachelor</td>\n",
       "      <td>2/10/11</td>\n",
       "      <td>Employed</td>\n",
       "      <td>M</td>\n",
       "      <td>22139</td>\n",
       "      <td>...</td>\n",
       "      <td>0.0</td>\n",
       "      <td>2</td>\n",
       "      <td>Personal Auto</td>\n",
       "      <td>Personal L3</td>\n",
       "      <td>Offer3</td>\n",
       "      <td>Call Center</td>\n",
       "      <td>480.000000</td>\n",
       "      <td>SUV</td>\n",
       "      <td>Medsize</td>\n",
       "      <td>A</td>\n",
       "    </tr>\n",
       "    <tr>\n",
       "      <th>3</th>\n",
       "      <td>XL78013</td>\n",
       "      <td>Oregon</td>\n",
       "      <td>22332.43946</td>\n",
       "      <td>Yes</td>\n",
       "      <td>Extended</td>\n",
       "      <td>College</td>\n",
       "      <td>1/11/11</td>\n",
       "      <td>Employed</td>\n",
       "      <td>M</td>\n",
       "      <td>49078</td>\n",
       "      <td>...</td>\n",
       "      <td>0.0</td>\n",
       "      <td>2</td>\n",
       "      <td>Corporate Auto</td>\n",
       "      <td>Corporate L3</td>\n",
       "      <td>Offer2</td>\n",
       "      <td>Branch</td>\n",
       "      <td>484.013411</td>\n",
       "      <td>Four-Door Car</td>\n",
       "      <td>Medsize</td>\n",
       "      <td>A</td>\n",
       "    </tr>\n",
       "  </tbody>\n",
       "</table>\n",
       "<p>2 rows × 25 columns</p>\n",
       "</div>"
      ],
      "text/plain": [
       "  Customer       State  Customer Lifetime Value Response  Coverage Education  \\\n",
       "2  LZ68649  Washington              14947.91730       No     Basic  Bachelor   \n",
       "3  XL78013      Oregon              22332.43946      Yes  Extended   College   \n",
       "\n",
       "  Effective To Date EmploymentStatus Gender  Income  ...  \\\n",
       "2           2/10/11         Employed      M   22139  ...   \n",
       "3           1/11/11         Employed      M   49078  ...   \n",
       "\n",
       "  Number of Open Complaints Number of Policies     Policy Type        Policy  \\\n",
       "2                       0.0                  2   Personal Auto   Personal L3   \n",
       "3                       0.0                  2  Corporate Auto  Corporate L3   \n",
       "\n",
       "   Renew Offer Type  Sales Channel  Total Claim Amount  Vehicle Class  \\\n",
       "2            Offer3    Call Center          480.000000            SUV   \n",
       "3            Offer2         Branch          484.013411  Four-Door Car   \n",
       "\n",
       "  Vehicle Size Vehicle Type  \n",
       "2      Medsize            A  \n",
       "3      Medsize            A  \n",
       "\n",
       "[2 rows x 25 columns]"
      ]
     },
     "execution_count": 1174,
     "metadata": {},
     "output_type": "execute_result"
    }
   ],
   "source": [
    "drop_columns(insurance_df)\n",
    "insurance_df.head(2)"
   ]
  },
  {
   "cell_type": "markdown",
   "id": "265c1dc1",
   "metadata": {},
   "source": [
    "### Numerical vs. Categorical "
   ]
  },
  {
   "cell_type": "code",
   "execution_count": 1175,
   "id": "d52b4ac4",
   "metadata": {},
   "outputs": [
    {
     "name": "stdout",
     "output_type": "stream",
     "text": [
      "Index(['Customer Lifetime Value', 'Income', 'Monthly Premium Auto',\n",
      "       'Months Since Last Claim', 'Months Since Policy Inception',\n",
      "       'Number of Open Complaints', 'Number of Policies',\n",
      "       'Total Claim Amount'],\n",
      "      dtype='object')\n"
     ]
    }
   ],
   "source": [
    "numerical_data = insurance_df.select_dtypes(include=['int','float']).dtypes.index\n",
    "print(numerical_data)"
   ]
  },
  {
   "cell_type": "code",
   "execution_count": 1176,
   "id": "5fbe5807",
   "metadata": {},
   "outputs": [
    {
     "name": "stdout",
     "output_type": "stream",
     "text": [
      "Index(['Customer', 'State', 'Response', 'Coverage', 'Education',\n",
      "       'Effective To Date', 'EmploymentStatus', 'Gender', 'Location Code',\n",
      "       'Marital Status', 'Policy Type', 'Policy', 'Renew Offer Type',\n",
      "       'Sales Channel', 'Vehicle Class', 'Vehicle Size', 'Vehicle Type'],\n",
      "      dtype='object')\n"
     ]
    }
   ],
   "source": [
    "categorical_data = insurance_df.select_dtypes(exclude=['int','float']).dtypes.index\n",
    "print(categorical_data)"
   ]
  },
  {
   "cell_type": "markdown",
   "id": "a2e232aa",
   "metadata": {},
   "source": [
    "### Daytime format\n",
    "\n",
    "Get the months from the dates given."
   ]
  },
  {
   "cell_type": "code",
   "execution_count": 1177,
   "id": "5b7e81b3",
   "metadata": {},
   "outputs": [
    {
     "data": {
      "text/html": [
       "<div>\n",
       "<style scoped>\n",
       "    .dataframe tbody tr th:only-of-type {\n",
       "        vertical-align: middle;\n",
       "    }\n",
       "\n",
       "    .dataframe tbody tr th {\n",
       "        vertical-align: top;\n",
       "    }\n",
       "\n",
       "    .dataframe thead th {\n",
       "        text-align: right;\n",
       "    }\n",
       "</style>\n",
       "<table border=\"1\" class=\"dataframe\">\n",
       "  <thead>\n",
       "    <tr style=\"text-align: right;\">\n",
       "      <th></th>\n",
       "      <th>Customer</th>\n",
       "      <th>State</th>\n",
       "      <th>Customer Lifetime Value</th>\n",
       "      <th>Response</th>\n",
       "      <th>Coverage</th>\n",
       "      <th>Education</th>\n",
       "      <th>Effective To Date</th>\n",
       "      <th>EmploymentStatus</th>\n",
       "      <th>Gender</th>\n",
       "      <th>Income</th>\n",
       "      <th>...</th>\n",
       "      <th>Number of Policies</th>\n",
       "      <th>Policy Type</th>\n",
       "      <th>Policy</th>\n",
       "      <th>Renew Offer Type</th>\n",
       "      <th>Sales Channel</th>\n",
       "      <th>Total Claim Amount</th>\n",
       "      <th>Vehicle Class</th>\n",
       "      <th>Vehicle Size</th>\n",
       "      <th>Vehicle Type</th>\n",
       "      <th>Month</th>\n",
       "    </tr>\n",
       "  </thead>\n",
       "  <tbody>\n",
       "    <tr>\n",
       "      <th>2</th>\n",
       "      <td>LZ68649</td>\n",
       "      <td>Washington</td>\n",
       "      <td>14947.917300</td>\n",
       "      <td>No</td>\n",
       "      <td>Basic</td>\n",
       "      <td>Bachelor</td>\n",
       "      <td>2/10/11</td>\n",
       "      <td>Employed</td>\n",
       "      <td>M</td>\n",
       "      <td>22139</td>\n",
       "      <td>...</td>\n",
       "      <td>2</td>\n",
       "      <td>Personal Auto</td>\n",
       "      <td>Personal L3</td>\n",
       "      <td>Offer3</td>\n",
       "      <td>Call Center</td>\n",
       "      <td>480.000000</td>\n",
       "      <td>SUV</td>\n",
       "      <td>Medsize</td>\n",
       "      <td>A</td>\n",
       "      <td>2</td>\n",
       "    </tr>\n",
       "    <tr>\n",
       "      <th>3</th>\n",
       "      <td>XL78013</td>\n",
       "      <td>Oregon</td>\n",
       "      <td>22332.439460</td>\n",
       "      <td>Yes</td>\n",
       "      <td>Extended</td>\n",
       "      <td>College</td>\n",
       "      <td>1/11/11</td>\n",
       "      <td>Employed</td>\n",
       "      <td>M</td>\n",
       "      <td>49078</td>\n",
       "      <td>...</td>\n",
       "      <td>2</td>\n",
       "      <td>Corporate Auto</td>\n",
       "      <td>Corporate L3</td>\n",
       "      <td>Offer2</td>\n",
       "      <td>Branch</td>\n",
       "      <td>484.013411</td>\n",
       "      <td>Four-Door Car</td>\n",
       "      <td>Medsize</td>\n",
       "      <td>A</td>\n",
       "      <td>1</td>\n",
       "    </tr>\n",
       "    <tr>\n",
       "      <th>10</th>\n",
       "      <td>HG93801</td>\n",
       "      <td>Arizona</td>\n",
       "      <td>5154.764074</td>\n",
       "      <td>No</td>\n",
       "      <td>Extended</td>\n",
       "      <td>High School or Below</td>\n",
       "      <td>1/2/11</td>\n",
       "      <td>Employed</td>\n",
       "      <td>M</td>\n",
       "      <td>82730</td>\n",
       "      <td>...</td>\n",
       "      <td>1</td>\n",
       "      <td>Corporate Auto</td>\n",
       "      <td>Corporate L3</td>\n",
       "      <td>Offer2</td>\n",
       "      <td>Branch</td>\n",
       "      <td>442.521087</td>\n",
       "      <td>SUV</td>\n",
       "      <td>Large</td>\n",
       "      <td>A</td>\n",
       "      <td>1</td>\n",
       "    </tr>\n",
       "    <tr>\n",
       "      <th>13</th>\n",
       "      <td>KR82385</td>\n",
       "      <td>California</td>\n",
       "      <td>5454.587929</td>\n",
       "      <td>No</td>\n",
       "      <td>Basic</td>\n",
       "      <td>Master</td>\n",
       "      <td>1/26/11</td>\n",
       "      <td>Employed</td>\n",
       "      <td>M</td>\n",
       "      <td>66334</td>\n",
       "      <td>...</td>\n",
       "      <td>4</td>\n",
       "      <td>Personal Auto</td>\n",
       "      <td>Personal L3</td>\n",
       "      <td>Offer4</td>\n",
       "      <td>Call Center</td>\n",
       "      <td>331.200000</td>\n",
       "      <td>Two-Door Car</td>\n",
       "      <td>Medsize</td>\n",
       "      <td>A</td>\n",
       "      <td>1</td>\n",
       "    </tr>\n",
       "    <tr>\n",
       "      <th>16</th>\n",
       "      <td>FH51383</td>\n",
       "      <td>California</td>\n",
       "      <td>5326.677654</td>\n",
       "      <td>No</td>\n",
       "      <td>Basic</td>\n",
       "      <td>High School or Below</td>\n",
       "      <td>2/7/11</td>\n",
       "      <td>Employed</td>\n",
       "      <td>F</td>\n",
       "      <td>76717</td>\n",
       "      <td>...</td>\n",
       "      <td>6</td>\n",
       "      <td>Personal Auto</td>\n",
       "      <td>Personal L3</td>\n",
       "      <td>Offer4</td>\n",
       "      <td>Call Center</td>\n",
       "      <td>300.528579</td>\n",
       "      <td>Two-Door Car</td>\n",
       "      <td>Large</td>\n",
       "      <td>A</td>\n",
       "      <td>2</td>\n",
       "    </tr>\n",
       "  </tbody>\n",
       "</table>\n",
       "<p>5 rows × 26 columns</p>\n",
       "</div>"
      ],
      "text/plain": [
       "   Customer       State  Customer Lifetime Value Response  Coverage  \\\n",
       "2   LZ68649  Washington             14947.917300       No     Basic   \n",
       "3   XL78013      Oregon             22332.439460      Yes  Extended   \n",
       "10  HG93801     Arizona              5154.764074       No  Extended   \n",
       "13  KR82385  California              5454.587929       No     Basic   \n",
       "16  FH51383  California              5326.677654       No     Basic   \n",
       "\n",
       "               Education Effective To Date EmploymentStatus Gender  Income  \\\n",
       "2               Bachelor           2/10/11         Employed      M   22139   \n",
       "3                College           1/11/11         Employed      M   49078   \n",
       "10  High School or Below            1/2/11         Employed      M   82730   \n",
       "13                Master           1/26/11         Employed      M   66334   \n",
       "16  High School or Below            2/7/11         Employed      F   76717   \n",
       "\n",
       "    ... Number of Policies     Policy Type        Policy  Renew Offer Type  \\\n",
       "2   ...                  2   Personal Auto   Personal L3            Offer3   \n",
       "3   ...                  2  Corporate Auto  Corporate L3            Offer2   \n",
       "10  ...                  1  Corporate Auto  Corporate L3            Offer2   \n",
       "13  ...                  4   Personal Auto   Personal L3            Offer4   \n",
       "16  ...                  6   Personal Auto   Personal L3            Offer4   \n",
       "\n",
       "    Sales Channel  Total Claim Amount  Vehicle Class Vehicle Size  \\\n",
       "2     Call Center          480.000000            SUV      Medsize   \n",
       "3          Branch          484.013411  Four-Door Car      Medsize   \n",
       "10         Branch          442.521087            SUV        Large   \n",
       "13    Call Center          331.200000   Two-Door Car      Medsize   \n",
       "16    Call Center          300.528579   Two-Door Car        Large   \n",
       "\n",
       "   Vehicle Type Month  \n",
       "2             A     2  \n",
       "3             A     1  \n",
       "10            A     1  \n",
       "13            A     1  \n",
       "16            A     2  \n",
       "\n",
       "[5 rows x 26 columns]"
      ]
     },
     "execution_count": 1177,
     "metadata": {},
     "output_type": "execute_result"
    }
   ],
   "source": [
    "insurance_df['Month'] = pd.DatetimeIndex(insurance_df['Effective To Date']).month\n",
    "insurance_df.head()"
   ]
  },
  {
   "cell_type": "code",
   "execution_count": 1178,
   "id": "64874da1",
   "metadata": {},
   "outputs": [],
   "source": [
    "def month (daytime):\n",
    "    if daytime == 1:\n",
    "        return 'January'\n",
    "    elif daytime == 2:\n",
    "        return 'February'\n",
    "    else:\n",
    "        return daytime"
   ]
  },
  {
   "cell_type": "code",
   "execution_count": 1179,
   "id": "a4b25bf3",
   "metadata": {},
   "outputs": [
    {
     "data": {
      "text/html": [
       "<div>\n",
       "<style scoped>\n",
       "    .dataframe tbody tr th:only-of-type {\n",
       "        vertical-align: middle;\n",
       "    }\n",
       "\n",
       "    .dataframe tbody tr th {\n",
       "        vertical-align: top;\n",
       "    }\n",
       "\n",
       "    .dataframe thead th {\n",
       "        text-align: right;\n",
       "    }\n",
       "</style>\n",
       "<table border=\"1\" class=\"dataframe\">\n",
       "  <thead>\n",
       "    <tr style=\"text-align: right;\">\n",
       "      <th></th>\n",
       "      <th>Customer</th>\n",
       "      <th>State</th>\n",
       "      <th>Customer Lifetime Value</th>\n",
       "      <th>Response</th>\n",
       "      <th>Coverage</th>\n",
       "      <th>Education</th>\n",
       "      <th>Effective To Date</th>\n",
       "      <th>EmploymentStatus</th>\n",
       "      <th>Gender</th>\n",
       "      <th>Income</th>\n",
       "      <th>...</th>\n",
       "      <th>Number of Policies</th>\n",
       "      <th>Policy Type</th>\n",
       "      <th>Policy</th>\n",
       "      <th>Renew Offer Type</th>\n",
       "      <th>Sales Channel</th>\n",
       "      <th>Total Claim Amount</th>\n",
       "      <th>Vehicle Class</th>\n",
       "      <th>Vehicle Size</th>\n",
       "      <th>Vehicle Type</th>\n",
       "      <th>Month</th>\n",
       "    </tr>\n",
       "  </thead>\n",
       "  <tbody>\n",
       "    <tr>\n",
       "      <th>2</th>\n",
       "      <td>LZ68649</td>\n",
       "      <td>Washington</td>\n",
       "      <td>14947.917300</td>\n",
       "      <td>No</td>\n",
       "      <td>Basic</td>\n",
       "      <td>Bachelor</td>\n",
       "      <td>2/10/11</td>\n",
       "      <td>Employed</td>\n",
       "      <td>M</td>\n",
       "      <td>22139</td>\n",
       "      <td>...</td>\n",
       "      <td>2</td>\n",
       "      <td>Personal Auto</td>\n",
       "      <td>Personal L3</td>\n",
       "      <td>Offer3</td>\n",
       "      <td>Call Center</td>\n",
       "      <td>480.000000</td>\n",
       "      <td>SUV</td>\n",
       "      <td>Medsize</td>\n",
       "      <td>A</td>\n",
       "      <td>February</td>\n",
       "    </tr>\n",
       "    <tr>\n",
       "      <th>3</th>\n",
       "      <td>XL78013</td>\n",
       "      <td>Oregon</td>\n",
       "      <td>22332.439460</td>\n",
       "      <td>Yes</td>\n",
       "      <td>Extended</td>\n",
       "      <td>College</td>\n",
       "      <td>1/11/11</td>\n",
       "      <td>Employed</td>\n",
       "      <td>M</td>\n",
       "      <td>49078</td>\n",
       "      <td>...</td>\n",
       "      <td>2</td>\n",
       "      <td>Corporate Auto</td>\n",
       "      <td>Corporate L3</td>\n",
       "      <td>Offer2</td>\n",
       "      <td>Branch</td>\n",
       "      <td>484.013411</td>\n",
       "      <td>Four-Door Car</td>\n",
       "      <td>Medsize</td>\n",
       "      <td>A</td>\n",
       "      <td>January</td>\n",
       "    </tr>\n",
       "    <tr>\n",
       "      <th>10</th>\n",
       "      <td>HG93801</td>\n",
       "      <td>Arizona</td>\n",
       "      <td>5154.764074</td>\n",
       "      <td>No</td>\n",
       "      <td>Extended</td>\n",
       "      <td>High School or Below</td>\n",
       "      <td>1/2/11</td>\n",
       "      <td>Employed</td>\n",
       "      <td>M</td>\n",
       "      <td>82730</td>\n",
       "      <td>...</td>\n",
       "      <td>1</td>\n",
       "      <td>Corporate Auto</td>\n",
       "      <td>Corporate L3</td>\n",
       "      <td>Offer2</td>\n",
       "      <td>Branch</td>\n",
       "      <td>442.521087</td>\n",
       "      <td>SUV</td>\n",
       "      <td>Large</td>\n",
       "      <td>A</td>\n",
       "      <td>January</td>\n",
       "    </tr>\n",
       "    <tr>\n",
       "      <th>13</th>\n",
       "      <td>KR82385</td>\n",
       "      <td>California</td>\n",
       "      <td>5454.587929</td>\n",
       "      <td>No</td>\n",
       "      <td>Basic</td>\n",
       "      <td>Master</td>\n",
       "      <td>1/26/11</td>\n",
       "      <td>Employed</td>\n",
       "      <td>M</td>\n",
       "      <td>66334</td>\n",
       "      <td>...</td>\n",
       "      <td>4</td>\n",
       "      <td>Personal Auto</td>\n",
       "      <td>Personal L3</td>\n",
       "      <td>Offer4</td>\n",
       "      <td>Call Center</td>\n",
       "      <td>331.200000</td>\n",
       "      <td>Two-Door Car</td>\n",
       "      <td>Medsize</td>\n",
       "      <td>A</td>\n",
       "      <td>January</td>\n",
       "    </tr>\n",
       "    <tr>\n",
       "      <th>16</th>\n",
       "      <td>FH51383</td>\n",
       "      <td>California</td>\n",
       "      <td>5326.677654</td>\n",
       "      <td>No</td>\n",
       "      <td>Basic</td>\n",
       "      <td>High School or Below</td>\n",
       "      <td>2/7/11</td>\n",
       "      <td>Employed</td>\n",
       "      <td>F</td>\n",
       "      <td>76717</td>\n",
       "      <td>...</td>\n",
       "      <td>6</td>\n",
       "      <td>Personal Auto</td>\n",
       "      <td>Personal L3</td>\n",
       "      <td>Offer4</td>\n",
       "      <td>Call Center</td>\n",
       "      <td>300.528579</td>\n",
       "      <td>Two-Door Car</td>\n",
       "      <td>Large</td>\n",
       "      <td>A</td>\n",
       "      <td>February</td>\n",
       "    </tr>\n",
       "  </tbody>\n",
       "</table>\n",
       "<p>5 rows × 26 columns</p>\n",
       "</div>"
      ],
      "text/plain": [
       "   Customer       State  Customer Lifetime Value Response  Coverage  \\\n",
       "2   LZ68649  Washington             14947.917300       No     Basic   \n",
       "3   XL78013      Oregon             22332.439460      Yes  Extended   \n",
       "10  HG93801     Arizona              5154.764074       No  Extended   \n",
       "13  KR82385  California              5454.587929       No     Basic   \n",
       "16  FH51383  California              5326.677654       No     Basic   \n",
       "\n",
       "               Education Effective To Date EmploymentStatus Gender  Income  \\\n",
       "2               Bachelor           2/10/11         Employed      M   22139   \n",
       "3                College           1/11/11         Employed      M   49078   \n",
       "10  High School or Below            1/2/11         Employed      M   82730   \n",
       "13                Master           1/26/11         Employed      M   66334   \n",
       "16  High School or Below            2/7/11         Employed      F   76717   \n",
       "\n",
       "    ... Number of Policies     Policy Type        Policy  Renew Offer Type  \\\n",
       "2   ...                  2   Personal Auto   Personal L3            Offer3   \n",
       "3   ...                  2  Corporate Auto  Corporate L3            Offer2   \n",
       "10  ...                  1  Corporate Auto  Corporate L3            Offer2   \n",
       "13  ...                  4   Personal Auto   Personal L3            Offer4   \n",
       "16  ...                  6   Personal Auto   Personal L3            Offer4   \n",
       "\n",
       "    Sales Channel  Total Claim Amount  Vehicle Class Vehicle Size  \\\n",
       "2     Call Center          480.000000            SUV      Medsize   \n",
       "3          Branch          484.013411  Four-Door Car      Medsize   \n",
       "10         Branch          442.521087            SUV        Large   \n",
       "13    Call Center          331.200000   Two-Door Car      Medsize   \n",
       "16    Call Center          300.528579   Two-Door Car        Large   \n",
       "\n",
       "   Vehicle Type     Month  \n",
       "2             A  February  \n",
       "3             A   January  \n",
       "10            A   January  \n",
       "13            A   January  \n",
       "16            A  February  \n",
       "\n",
       "[5 rows x 26 columns]"
      ]
     },
     "execution_count": 1179,
     "metadata": {},
     "output_type": "execute_result"
    }
   ],
   "source": [
    "insurance_df['Month'] = list(map(month, insurance_df['Month']))\n",
    "insurance_df.head()"
   ]
  },
  {
   "cell_type": "code",
   "execution_count": 1180,
   "id": "1c2f7e4e",
   "metadata": {},
   "outputs": [
    {
     "data": {
      "text/plain": [
       "Index(['Customer', 'State', 'Customer Lifetime Value', 'Response', 'Coverage',\n",
       "       'Education', 'Effective To Date', 'EmploymentStatus', 'Gender',\n",
       "       'Income', 'Location Code', 'Marital Status', 'Monthly Premium Auto',\n",
       "       'Months Since Last Claim', 'Months Since Policy Inception',\n",
       "       'Number of Open Complaints', 'Number of Policies', 'Policy Type',\n",
       "       'Policy', 'Renew Offer Type', 'Sales Channel', 'Total Claim Amount',\n",
       "       'Vehicle Class', 'Vehicle Size', 'Vehicle Type', 'Month'],\n",
       "      dtype='object')"
      ]
     },
     "execution_count": 1180,
     "metadata": {},
     "output_type": "execute_result"
    }
   ],
   "source": [
    "# Move the month column to a new position in the frame\n",
    "\n",
    "insurance_df.columns"
   ]
  },
  {
   "cell_type": "code",
   "execution_count": 1181,
   "id": "99361d82",
   "metadata": {},
   "outputs": [
    {
     "data": {
      "text/html": [
       "<div>\n",
       "<style scoped>\n",
       "    .dataframe tbody tr th:only-of-type {\n",
       "        vertical-align: middle;\n",
       "    }\n",
       "\n",
       "    .dataframe tbody tr th {\n",
       "        vertical-align: top;\n",
       "    }\n",
       "\n",
       "    .dataframe thead th {\n",
       "        text-align: right;\n",
       "    }\n",
       "</style>\n",
       "<table border=\"1\" class=\"dataframe\">\n",
       "  <thead>\n",
       "    <tr style=\"text-align: right;\">\n",
       "      <th></th>\n",
       "      <th>Customer</th>\n",
       "      <th>State</th>\n",
       "      <th>Customer Lifetime Value</th>\n",
       "      <th>Response</th>\n",
       "      <th>Coverage</th>\n",
       "      <th>Education</th>\n",
       "      <th>Effective To Date</th>\n",
       "      <th>Month</th>\n",
       "      <th>EmploymentStatus</th>\n",
       "      <th>Gender</th>\n",
       "      <th>...</th>\n",
       "      <th>Number of Open Complaints</th>\n",
       "      <th>Number of Policies</th>\n",
       "      <th>Policy Type</th>\n",
       "      <th>Policy</th>\n",
       "      <th>Renew Offer Type</th>\n",
       "      <th>Sales Channel</th>\n",
       "      <th>Total Claim Amount</th>\n",
       "      <th>Vehicle Class</th>\n",
       "      <th>Vehicle Size</th>\n",
       "      <th>Vehicle Type</th>\n",
       "    </tr>\n",
       "  </thead>\n",
       "  <tbody>\n",
       "    <tr>\n",
       "      <th>2</th>\n",
       "      <td>LZ68649</td>\n",
       "      <td>Washington</td>\n",
       "      <td>14947.917300</td>\n",
       "      <td>No</td>\n",
       "      <td>Basic</td>\n",
       "      <td>Bachelor</td>\n",
       "      <td>2/10/11</td>\n",
       "      <td>February</td>\n",
       "      <td>Employed</td>\n",
       "      <td>M</td>\n",
       "      <td>...</td>\n",
       "      <td>0.0</td>\n",
       "      <td>2</td>\n",
       "      <td>Personal Auto</td>\n",
       "      <td>Personal L3</td>\n",
       "      <td>Offer3</td>\n",
       "      <td>Call Center</td>\n",
       "      <td>480.000000</td>\n",
       "      <td>SUV</td>\n",
       "      <td>Medsize</td>\n",
       "      <td>A</td>\n",
       "    </tr>\n",
       "    <tr>\n",
       "      <th>3</th>\n",
       "      <td>XL78013</td>\n",
       "      <td>Oregon</td>\n",
       "      <td>22332.439460</td>\n",
       "      <td>Yes</td>\n",
       "      <td>Extended</td>\n",
       "      <td>College</td>\n",
       "      <td>1/11/11</td>\n",
       "      <td>January</td>\n",
       "      <td>Employed</td>\n",
       "      <td>M</td>\n",
       "      <td>...</td>\n",
       "      <td>0.0</td>\n",
       "      <td>2</td>\n",
       "      <td>Corporate Auto</td>\n",
       "      <td>Corporate L3</td>\n",
       "      <td>Offer2</td>\n",
       "      <td>Branch</td>\n",
       "      <td>484.013411</td>\n",
       "      <td>Four-Door Car</td>\n",
       "      <td>Medsize</td>\n",
       "      <td>A</td>\n",
       "    </tr>\n",
       "    <tr>\n",
       "      <th>10</th>\n",
       "      <td>HG93801</td>\n",
       "      <td>Arizona</td>\n",
       "      <td>5154.764074</td>\n",
       "      <td>No</td>\n",
       "      <td>Extended</td>\n",
       "      <td>High School or Below</td>\n",
       "      <td>1/2/11</td>\n",
       "      <td>January</td>\n",
       "      <td>Employed</td>\n",
       "      <td>M</td>\n",
       "      <td>...</td>\n",
       "      <td>0.0</td>\n",
       "      <td>1</td>\n",
       "      <td>Corporate Auto</td>\n",
       "      <td>Corporate L3</td>\n",
       "      <td>Offer2</td>\n",
       "      <td>Branch</td>\n",
       "      <td>442.521087</td>\n",
       "      <td>SUV</td>\n",
       "      <td>Large</td>\n",
       "      <td>A</td>\n",
       "    </tr>\n",
       "    <tr>\n",
       "      <th>13</th>\n",
       "      <td>KR82385</td>\n",
       "      <td>California</td>\n",
       "      <td>5454.587929</td>\n",
       "      <td>No</td>\n",
       "      <td>Basic</td>\n",
       "      <td>Master</td>\n",
       "      <td>1/26/11</td>\n",
       "      <td>January</td>\n",
       "      <td>Employed</td>\n",
       "      <td>M</td>\n",
       "      <td>...</td>\n",
       "      <td>0.0</td>\n",
       "      <td>4</td>\n",
       "      <td>Personal Auto</td>\n",
       "      <td>Personal L3</td>\n",
       "      <td>Offer4</td>\n",
       "      <td>Call Center</td>\n",
       "      <td>331.200000</td>\n",
       "      <td>Two-Door Car</td>\n",
       "      <td>Medsize</td>\n",
       "      <td>A</td>\n",
       "    </tr>\n",
       "    <tr>\n",
       "      <th>16</th>\n",
       "      <td>FH51383</td>\n",
       "      <td>California</td>\n",
       "      <td>5326.677654</td>\n",
       "      <td>No</td>\n",
       "      <td>Basic</td>\n",
       "      <td>High School or Below</td>\n",
       "      <td>2/7/11</td>\n",
       "      <td>February</td>\n",
       "      <td>Employed</td>\n",
       "      <td>F</td>\n",
       "      <td>...</td>\n",
       "      <td>0.0</td>\n",
       "      <td>6</td>\n",
       "      <td>Personal Auto</td>\n",
       "      <td>Personal L3</td>\n",
       "      <td>Offer4</td>\n",
       "      <td>Call Center</td>\n",
       "      <td>300.528579</td>\n",
       "      <td>Two-Door Car</td>\n",
       "      <td>Large</td>\n",
       "      <td>A</td>\n",
       "    </tr>\n",
       "  </tbody>\n",
       "</table>\n",
       "<p>5 rows × 26 columns</p>\n",
       "</div>"
      ],
      "text/plain": [
       "   Customer       State  Customer Lifetime Value Response  Coverage  \\\n",
       "2   LZ68649  Washington             14947.917300       No     Basic   \n",
       "3   XL78013      Oregon             22332.439460      Yes  Extended   \n",
       "10  HG93801     Arizona              5154.764074       No  Extended   \n",
       "13  KR82385  California              5454.587929       No     Basic   \n",
       "16  FH51383  California              5326.677654       No     Basic   \n",
       "\n",
       "               Education Effective To Date     Month EmploymentStatus Gender  \\\n",
       "2               Bachelor           2/10/11  February         Employed      M   \n",
       "3                College           1/11/11   January         Employed      M   \n",
       "10  High School or Below            1/2/11   January         Employed      M   \n",
       "13                Master           1/26/11   January         Employed      M   \n",
       "16  High School or Below            2/7/11  February         Employed      F   \n",
       "\n",
       "    ...  Number of Open Complaints Number of Policies     Policy Type  \\\n",
       "2   ...                        0.0                  2   Personal Auto   \n",
       "3   ...                        0.0                  2  Corporate Auto   \n",
       "10  ...                        0.0                  1  Corporate Auto   \n",
       "13  ...                        0.0                  4   Personal Auto   \n",
       "16  ...                        0.0                  6   Personal Auto   \n",
       "\n",
       "          Policy  Renew Offer Type  Sales Channel  Total Claim Amount  \\\n",
       "2    Personal L3            Offer3    Call Center          480.000000   \n",
       "3   Corporate L3            Offer2         Branch          484.013411   \n",
       "10  Corporate L3            Offer2         Branch          442.521087   \n",
       "13   Personal L3            Offer4    Call Center          331.200000   \n",
       "16   Personal L3            Offer4    Call Center          300.528579   \n",
       "\n",
       "    Vehicle Class Vehicle Size Vehicle Type  \n",
       "2             SUV      Medsize            A  \n",
       "3   Four-Door Car      Medsize            A  \n",
       "10            SUV        Large            A  \n",
       "13   Two-Door Car      Medsize            A  \n",
       "16   Two-Door Car        Large            A  \n",
       "\n",
       "[5 rows x 26 columns]"
      ]
     },
     "execution_count": 1181,
     "metadata": {},
     "output_type": "execute_result"
    }
   ],
   "source": [
    "insurance_df = insurance_df.reindex(columns=['Customer', 'State', 'Customer Lifetime Value',\n",
    "       'Response', 'Coverage', 'Education', 'Effective To Date', 'Month',\n",
    "       'EmploymentStatus', 'Gender', 'Income', 'Location Code',\n",
    "       'Marital Status', 'Monthly Premium Auto', 'Months Since Last Claim',\n",
    "       'Months Since Policy Inception', 'Number of Open Complaints',\n",
    "       'Number of Policies', 'Policy Type', 'Policy', 'Renew Offer Type',\n",
    "       'Sales Channel', 'Total Claim Amount', 'Vehicle Class', 'Vehicle Size',\n",
    "       'Vehicle Type'])\n",
    "\n",
    "insurance_df.head()"
   ]
  },
  {
   "cell_type": "markdown",
   "id": "43555db3",
   "metadata": {},
   "source": [
    "### Group by month"
   ]
  },
  {
   "cell_type": "code",
   "execution_count": 1182,
   "id": "1f54fae7",
   "metadata": {},
   "outputs": [
    {
     "data": {
      "text/html": [
       "<div>\n",
       "<style scoped>\n",
       "    .dataframe tbody tr th:only-of-type {\n",
       "        vertical-align: middle;\n",
       "    }\n",
       "\n",
       "    .dataframe tbody tr th {\n",
       "        vertical-align: top;\n",
       "    }\n",
       "\n",
       "    .dataframe thead th {\n",
       "        text-align: right;\n",
       "    }\n",
       "</style>\n",
       "<table border=\"1\" class=\"dataframe\">\n",
       "  <thead>\n",
       "    <tr style=\"text-align: right;\">\n",
       "      <th></th>\n",
       "      <th>Customer</th>\n",
       "      <th>State</th>\n",
       "      <th>Customer Lifetime Value</th>\n",
       "      <th>Response</th>\n",
       "      <th>Coverage</th>\n",
       "      <th>Education</th>\n",
       "      <th>Effective To Date</th>\n",
       "      <th>Month</th>\n",
       "      <th>EmploymentStatus</th>\n",
       "      <th>Gender</th>\n",
       "      <th>...</th>\n",
       "      <th>Number of Open Complaints</th>\n",
       "      <th>Number of Policies</th>\n",
       "      <th>Policy Type</th>\n",
       "      <th>Policy</th>\n",
       "      <th>Renew Offer Type</th>\n",
       "      <th>Sales Channel</th>\n",
       "      <th>Total Claim Amount</th>\n",
       "      <th>Vehicle Class</th>\n",
       "      <th>Vehicle Size</th>\n",
       "      <th>Vehicle Type</th>\n",
       "    </tr>\n",
       "  </thead>\n",
       "  <tbody>\n",
       "    <tr>\n",
       "      <th>3</th>\n",
       "      <td>XL78013</td>\n",
       "      <td>Oregon</td>\n",
       "      <td>22332.439460</td>\n",
       "      <td>Yes</td>\n",
       "      <td>Extended</td>\n",
       "      <td>College</td>\n",
       "      <td>1/11/11</td>\n",
       "      <td>January</td>\n",
       "      <td>Employed</td>\n",
       "      <td>M</td>\n",
       "      <td>...</td>\n",
       "      <td>0.0</td>\n",
       "      <td>2</td>\n",
       "      <td>Corporate Auto</td>\n",
       "      <td>Corporate L3</td>\n",
       "      <td>Offer2</td>\n",
       "      <td>Branch</td>\n",
       "      <td>484.013411</td>\n",
       "      <td>Four-Door Car</td>\n",
       "      <td>Medsize</td>\n",
       "      <td>A</td>\n",
       "    </tr>\n",
       "    <tr>\n",
       "      <th>10</th>\n",
       "      <td>HG93801</td>\n",
       "      <td>Arizona</td>\n",
       "      <td>5154.764074</td>\n",
       "      <td>No</td>\n",
       "      <td>Extended</td>\n",
       "      <td>High School or Below</td>\n",
       "      <td>1/2/11</td>\n",
       "      <td>January</td>\n",
       "      <td>Employed</td>\n",
       "      <td>M</td>\n",
       "      <td>...</td>\n",
       "      <td>0.0</td>\n",
       "      <td>1</td>\n",
       "      <td>Corporate Auto</td>\n",
       "      <td>Corporate L3</td>\n",
       "      <td>Offer2</td>\n",
       "      <td>Branch</td>\n",
       "      <td>442.521087</td>\n",
       "      <td>SUV</td>\n",
       "      <td>Large</td>\n",
       "      <td>A</td>\n",
       "    </tr>\n",
       "    <tr>\n",
       "      <th>13</th>\n",
       "      <td>KR82385</td>\n",
       "      <td>California</td>\n",
       "      <td>5454.587929</td>\n",
       "      <td>No</td>\n",
       "      <td>Basic</td>\n",
       "      <td>Master</td>\n",
       "      <td>1/26/11</td>\n",
       "      <td>January</td>\n",
       "      <td>Employed</td>\n",
       "      <td>M</td>\n",
       "      <td>...</td>\n",
       "      <td>0.0</td>\n",
       "      <td>4</td>\n",
       "      <td>Personal Auto</td>\n",
       "      <td>Personal L3</td>\n",
       "      <td>Offer4</td>\n",
       "      <td>Call Center</td>\n",
       "      <td>331.200000</td>\n",
       "      <td>Two-Door Car</td>\n",
       "      <td>Medsize</td>\n",
       "      <td>A</td>\n",
       "    </tr>\n",
       "    <tr>\n",
       "      <th>17</th>\n",
       "      <td>TR26615</td>\n",
       "      <td>Oregon</td>\n",
       "      <td>2497.531509</td>\n",
       "      <td>No</td>\n",
       "      <td>Basic</td>\n",
       "      <td>High School or Below</td>\n",
       "      <td>1/17/11</td>\n",
       "      <td>January</td>\n",
       "      <td>Unemployed</td>\n",
       "      <td>M</td>\n",
       "      <td>...</td>\n",
       "      <td>0.0</td>\n",
       "      <td>1</td>\n",
       "      <td>Corporate Auto</td>\n",
       "      <td>Corporate L2</td>\n",
       "      <td>Offer2</td>\n",
       "      <td>Branch</td>\n",
       "      <td>272.381465</td>\n",
       "      <td>Two-Door Car</td>\n",
       "      <td>Medsize</td>\n",
       "      <td>A</td>\n",
       "    </tr>\n",
       "    <tr>\n",
       "      <th>22</th>\n",
       "      <td>EQ62488</td>\n",
       "      <td>Oregon</td>\n",
       "      <td>15031.564500</td>\n",
       "      <td>No</td>\n",
       "      <td>Basic</td>\n",
       "      <td>College</td>\n",
       "      <td>1/15/11</td>\n",
       "      <td>January</td>\n",
       "      <td>Employed</td>\n",
       "      <td>F</td>\n",
       "      <td>...</td>\n",
       "      <td>0.0</td>\n",
       "      <td>8</td>\n",
       "      <td>Personal Auto</td>\n",
       "      <td>Personal L3</td>\n",
       "      <td>Offer2</td>\n",
       "      <td>Call Center</td>\n",
       "      <td>907.200000</td>\n",
       "      <td>Luxury Car</td>\n",
       "      <td>Large</td>\n",
       "      <td>A</td>\n",
       "    </tr>\n",
       "    <tr>\n",
       "      <th>...</th>\n",
       "      <td>...</td>\n",
       "      <td>...</td>\n",
       "      <td>...</td>\n",
       "      <td>...</td>\n",
       "      <td>...</td>\n",
       "      <td>...</td>\n",
       "      <td>...</td>\n",
       "      <td>...</td>\n",
       "      <td>...</td>\n",
       "      <td>...</td>\n",
       "      <td>...</td>\n",
       "      <td>...</td>\n",
       "      <td>...</td>\n",
       "      <td>...</td>\n",
       "      <td>...</td>\n",
       "      <td>...</td>\n",
       "      <td>...</td>\n",
       "      <td>...</td>\n",
       "      <td>...</td>\n",
       "      <td>...</td>\n",
       "      <td>...</td>\n",
       "    </tr>\n",
       "    <tr>\n",
       "      <th>10896</th>\n",
       "      <td>HT87217</td>\n",
       "      <td>Oregon</td>\n",
       "      <td>19776.566540</td>\n",
       "      <td>No</td>\n",
       "      <td>Extended</td>\n",
       "      <td>High School or Below</td>\n",
       "      <td>1/16/11</td>\n",
       "      <td>January</td>\n",
       "      <td>Employed</td>\n",
       "      <td>F</td>\n",
       "      <td>...</td>\n",
       "      <td>0.0</td>\n",
       "      <td>2</td>\n",
       "      <td>Personal Auto</td>\n",
       "      <td>Personal L2</td>\n",
       "      <td>Offer3</td>\n",
       "      <td>Agent</td>\n",
       "      <td>256.813837</td>\n",
       "      <td>Four-Door Car</td>\n",
       "      <td>Medsize</td>\n",
       "      <td>A</td>\n",
       "    </tr>\n",
       "    <tr>\n",
       "      <th>10897</th>\n",
       "      <td>MM70762</td>\n",
       "      <td>Arizona</td>\n",
       "      <td>9075.768214</td>\n",
       "      <td>Yes</td>\n",
       "      <td>Basic</td>\n",
       "      <td>Master</td>\n",
       "      <td>1/26/11</td>\n",
       "      <td>January</td>\n",
       "      <td>Employed</td>\n",
       "      <td>M</td>\n",
       "      <td>...</td>\n",
       "      <td>0.0</td>\n",
       "      <td>8</td>\n",
       "      <td>Personal Auto</td>\n",
       "      <td>Personal L1</td>\n",
       "      <td>Offer1</td>\n",
       "      <td>Agent</td>\n",
       "      <td>158.077504</td>\n",
       "      <td>Sports Car</td>\n",
       "      <td>Medsize</td>\n",
       "      <td>A</td>\n",
       "    </tr>\n",
       "    <tr>\n",
       "      <th>10902</th>\n",
       "      <td>PP30874</td>\n",
       "      <td>California</td>\n",
       "      <td>3579.023825</td>\n",
       "      <td>No</td>\n",
       "      <td>Extended</td>\n",
       "      <td>High School or Below</td>\n",
       "      <td>1/24/11</td>\n",
       "      <td>January</td>\n",
       "      <td>Employed</td>\n",
       "      <td>F</td>\n",
       "      <td>...</td>\n",
       "      <td>2.0</td>\n",
       "      <td>1</td>\n",
       "      <td>Personal Auto</td>\n",
       "      <td>Personal L2</td>\n",
       "      <td>Offer2</td>\n",
       "      <td>Agent</td>\n",
       "      <td>655.200000</td>\n",
       "      <td>Four-Door Car</td>\n",
       "      <td>Medsize</td>\n",
       "      <td>A</td>\n",
       "    </tr>\n",
       "    <tr>\n",
       "      <th>10903</th>\n",
       "      <td>SU71163</td>\n",
       "      <td>Arizona</td>\n",
       "      <td>2771.663013</td>\n",
       "      <td>No</td>\n",
       "      <td>Basic</td>\n",
       "      <td>College</td>\n",
       "      <td>1/7/11</td>\n",
       "      <td>January</td>\n",
       "      <td>Employed</td>\n",
       "      <td>M</td>\n",
       "      <td>...</td>\n",
       "      <td>4.0</td>\n",
       "      <td>1</td>\n",
       "      <td>Personal Auto</td>\n",
       "      <td>Personal L2</td>\n",
       "      <td>Offer2</td>\n",
       "      <td>Branch</td>\n",
       "      <td>355.200000</td>\n",
       "      <td>Two-Door Car</td>\n",
       "      <td>Medsize</td>\n",
       "      <td>A</td>\n",
       "    </tr>\n",
       "    <tr>\n",
       "      <th>10906</th>\n",
       "      <td>KX53892</td>\n",
       "      <td>Oregon</td>\n",
       "      <td>5259.444853</td>\n",
       "      <td>No</td>\n",
       "      <td>Basic</td>\n",
       "      <td>College</td>\n",
       "      <td>1/6/11</td>\n",
       "      <td>January</td>\n",
       "      <td>Employed</td>\n",
       "      <td>F</td>\n",
       "      <td>...</td>\n",
       "      <td>0.0</td>\n",
       "      <td>6</td>\n",
       "      <td>Personal Auto</td>\n",
       "      <td>Personal L3</td>\n",
       "      <td>Offer2</td>\n",
       "      <td>Branch</td>\n",
       "      <td>273.018929</td>\n",
       "      <td>Four-Door Car</td>\n",
       "      <td>Medsize</td>\n",
       "      <td>A</td>\n",
       "    </tr>\n",
       "  </tbody>\n",
       "</table>\n",
       "<p>2409 rows × 26 columns</p>\n",
       "</div>"
      ],
      "text/plain": [
       "      Customer       State  Customer Lifetime Value Response  Coverage  \\\n",
       "3      XL78013      Oregon             22332.439460      Yes  Extended   \n",
       "10     HG93801     Arizona              5154.764074       No  Extended   \n",
       "13     KR82385  California              5454.587929       No     Basic   \n",
       "17     TR26615      Oregon              2497.531509       No     Basic   \n",
       "22     EQ62488      Oregon             15031.564500       No     Basic   \n",
       "...        ...         ...                      ...      ...       ...   \n",
       "10896  HT87217      Oregon             19776.566540       No  Extended   \n",
       "10897  MM70762     Arizona              9075.768214      Yes     Basic   \n",
       "10902  PP30874  California              3579.023825       No  Extended   \n",
       "10903  SU71163     Arizona              2771.663013       No     Basic   \n",
       "10906  KX53892      Oregon              5259.444853       No     Basic   \n",
       "\n",
       "                  Education Effective To Date    Month EmploymentStatus  \\\n",
       "3                   College           1/11/11  January         Employed   \n",
       "10     High School or Below            1/2/11  January         Employed   \n",
       "13                   Master           1/26/11  January         Employed   \n",
       "17     High School or Below           1/17/11  January       Unemployed   \n",
       "22                  College           1/15/11  January         Employed   \n",
       "...                     ...               ...      ...              ...   \n",
       "10896  High School or Below           1/16/11  January         Employed   \n",
       "10897                Master           1/26/11  January         Employed   \n",
       "10902  High School or Below           1/24/11  January         Employed   \n",
       "10903               College            1/7/11  January         Employed   \n",
       "10906               College            1/6/11  January         Employed   \n",
       "\n",
       "      Gender  ...  Number of Open Complaints Number of Policies  \\\n",
       "3          M  ...                        0.0                  2   \n",
       "10         M  ...                        0.0                  1   \n",
       "13         M  ...                        0.0                  4   \n",
       "17         M  ...                        0.0                  1   \n",
       "22         F  ...                        0.0                  8   \n",
       "...      ...  ...                        ...                ...   \n",
       "10896      F  ...                        0.0                  2   \n",
       "10897      M  ...                        0.0                  8   \n",
       "10902      F  ...                        2.0                  1   \n",
       "10903      M  ...                        4.0                  1   \n",
       "10906      F  ...                        0.0                  6   \n",
       "\n",
       "          Policy Type        Policy  Renew Offer Type  Sales Channel  \\\n",
       "3      Corporate Auto  Corporate L3            Offer2         Branch   \n",
       "10     Corporate Auto  Corporate L3            Offer2         Branch   \n",
       "13      Personal Auto   Personal L3            Offer4    Call Center   \n",
       "17     Corporate Auto  Corporate L2            Offer2         Branch   \n",
       "22      Personal Auto   Personal L3            Offer2    Call Center   \n",
       "...               ...           ...               ...            ...   \n",
       "10896   Personal Auto   Personal L2            Offer3          Agent   \n",
       "10897   Personal Auto   Personal L1            Offer1          Agent   \n",
       "10902   Personal Auto   Personal L2            Offer2          Agent   \n",
       "10903   Personal Auto   Personal L2            Offer2         Branch   \n",
       "10906   Personal Auto   Personal L3            Offer2         Branch   \n",
       "\n",
       "       Total Claim Amount  Vehicle Class Vehicle Size Vehicle Type  \n",
       "3              484.013411  Four-Door Car      Medsize            A  \n",
       "10             442.521087            SUV        Large            A  \n",
       "13             331.200000   Two-Door Car      Medsize            A  \n",
       "17             272.381465   Two-Door Car      Medsize            A  \n",
       "22             907.200000     Luxury Car        Large            A  \n",
       "...                   ...            ...          ...          ...  \n",
       "10896          256.813837  Four-Door Car      Medsize            A  \n",
       "10897          158.077504     Sports Car      Medsize            A  \n",
       "10902          655.200000  Four-Door Car      Medsize            A  \n",
       "10903          355.200000   Two-Door Car      Medsize            A  \n",
       "10906          273.018929  Four-Door Car      Medsize            A  \n",
       "\n",
       "[2409 rows x 26 columns]"
      ]
     },
     "execution_count": 1182,
     "metadata": {},
     "output_type": "execute_result"
    }
   ],
   "source": [
    "month_grp = insurance_df.groupby(['Month'])\n",
    "month_grp.get_group('January')"
   ]
  },
  {
   "cell_type": "markdown",
   "id": "80309088",
   "metadata": {},
   "source": [
    "### Prepare df for plotting"
   ]
  },
  {
   "cell_type": "code",
   "execution_count": 1183,
   "id": "5c9b14bd",
   "metadata": {},
   "outputs": [
    {
     "data": {
      "text/html": [
       "<div>\n",
       "<style scoped>\n",
       "    .dataframe tbody tr th:only-of-type {\n",
       "        vertical-align: middle;\n",
       "    }\n",
       "\n",
       "    .dataframe tbody tr th {\n",
       "        vertical-align: top;\n",
       "    }\n",
       "\n",
       "    .dataframe thead th {\n",
       "        text-align: right;\n",
       "    }\n",
       "</style>\n",
       "<table border=\"1\" class=\"dataframe\">\n",
       "  <thead>\n",
       "    <tr style=\"text-align: right;\">\n",
       "      <th></th>\n",
       "      <th>Customer Lifetime Value</th>\n",
       "      <th>Income</th>\n",
       "      <th>Monthly Premium Auto</th>\n",
       "      <th>Months Since Last Claim</th>\n",
       "      <th>Months Since Policy Inception</th>\n",
       "      <th>Number of Open Complaints</th>\n",
       "      <th>Number of Policies</th>\n",
       "      <th>Total Claim Amount</th>\n",
       "    </tr>\n",
       "  </thead>\n",
       "  <tbody>\n",
       "    <tr>\n",
       "      <th>2</th>\n",
       "      <td>14947.917300</td>\n",
       "      <td>22139</td>\n",
       "      <td>100</td>\n",
       "      <td>34.0</td>\n",
       "      <td>31</td>\n",
       "      <td>0.0</td>\n",
       "      <td>2</td>\n",
       "      <td>480.000000</td>\n",
       "    </tr>\n",
       "    <tr>\n",
       "      <th>3</th>\n",
       "      <td>22332.439460</td>\n",
       "      <td>49078</td>\n",
       "      <td>97</td>\n",
       "      <td>10.0</td>\n",
       "      <td>3</td>\n",
       "      <td>0.0</td>\n",
       "      <td>2</td>\n",
       "      <td>484.013411</td>\n",
       "    </tr>\n",
       "    <tr>\n",
       "      <th>10</th>\n",
       "      <td>5154.764074</td>\n",
       "      <td>82730</td>\n",
       "      <td>127</td>\n",
       "      <td>13.0</td>\n",
       "      <td>31</td>\n",
       "      <td>0.0</td>\n",
       "      <td>1</td>\n",
       "      <td>442.521087</td>\n",
       "    </tr>\n",
       "    <tr>\n",
       "      <th>13</th>\n",
       "      <td>5454.587929</td>\n",
       "      <td>66334</td>\n",
       "      <td>69</td>\n",
       "      <td>25.0</td>\n",
       "      <td>25</td>\n",
       "      <td>0.0</td>\n",
       "      <td>4</td>\n",
       "      <td>331.200000</td>\n",
       "    </tr>\n",
       "    <tr>\n",
       "      <th>16</th>\n",
       "      <td>5326.677654</td>\n",
       "      <td>76717</td>\n",
       "      <td>66</td>\n",
       "      <td>26.0</td>\n",
       "      <td>10</td>\n",
       "      <td>0.0</td>\n",
       "      <td>6</td>\n",
       "      <td>300.528579</td>\n",
       "    </tr>\n",
       "  </tbody>\n",
       "</table>\n",
       "</div>"
      ],
      "text/plain": [
       "    Customer Lifetime Value  Income  Monthly Premium Auto  \\\n",
       "2              14947.917300   22139                   100   \n",
       "3              22332.439460   49078                    97   \n",
       "10              5154.764074   82730                   127   \n",
       "13              5454.587929   66334                    69   \n",
       "16              5326.677654   76717                    66   \n",
       "\n",
       "    Months Since Last Claim  Months Since Policy Inception  \\\n",
       "2                      34.0                             31   \n",
       "3                      10.0                              3   \n",
       "10                     13.0                             31   \n",
       "13                     25.0                             25   \n",
       "16                     26.0                             10   \n",
       "\n",
       "    Number of Open Complaints  Number of Policies  Total Claim Amount  \n",
       "2                         0.0                   2          480.000000  \n",
       "3                         0.0                   2          484.013411  \n",
       "10                        0.0                   1          442.521087  \n",
       "13                        0.0                   4          331.200000  \n",
       "16                        0.0                   6          300.528579  "
      ]
     },
     "execution_count": 1183,
     "metadata": {},
     "output_type": "execute_result"
    }
   ],
   "source": [
    "numerical_df = insurance_df[numerical_data]\n",
    "numerical_df.head()"
   ]
  },
  {
   "cell_type": "code",
   "execution_count": 1184,
   "id": "7a62d9bb",
   "metadata": {},
   "outputs": [
    {
     "data": {
      "text/html": [
       "<div>\n",
       "<style scoped>\n",
       "    .dataframe tbody tr th:only-of-type {\n",
       "        vertical-align: middle;\n",
       "    }\n",
       "\n",
       "    .dataframe tbody tr th {\n",
       "        vertical-align: top;\n",
       "    }\n",
       "\n",
       "    .dataframe thead th {\n",
       "        text-align: right;\n",
       "    }\n",
       "</style>\n",
       "<table border=\"1\" class=\"dataframe\">\n",
       "  <thead>\n",
       "    <tr style=\"text-align: right;\">\n",
       "      <th></th>\n",
       "      <th>Customer</th>\n",
       "      <th>State</th>\n",
       "      <th>Response</th>\n",
       "      <th>Coverage</th>\n",
       "      <th>Education</th>\n",
       "      <th>Effective To Date</th>\n",
       "      <th>EmploymentStatus</th>\n",
       "      <th>Gender</th>\n",
       "      <th>Location Code</th>\n",
       "      <th>Marital Status</th>\n",
       "      <th>Policy Type</th>\n",
       "      <th>Policy</th>\n",
       "      <th>Renew Offer Type</th>\n",
       "      <th>Sales Channel</th>\n",
       "      <th>Vehicle Class</th>\n",
       "      <th>Vehicle Size</th>\n",
       "      <th>Vehicle Type</th>\n",
       "    </tr>\n",
       "  </thead>\n",
       "  <tbody>\n",
       "    <tr>\n",
       "      <th>2</th>\n",
       "      <td>LZ68649</td>\n",
       "      <td>Washington</td>\n",
       "      <td>No</td>\n",
       "      <td>Basic</td>\n",
       "      <td>Bachelor</td>\n",
       "      <td>2/10/11</td>\n",
       "      <td>Employed</td>\n",
       "      <td>M</td>\n",
       "      <td>Suburban</td>\n",
       "      <td>Single</td>\n",
       "      <td>Personal Auto</td>\n",
       "      <td>Personal L3</td>\n",
       "      <td>Offer3</td>\n",
       "      <td>Call Center</td>\n",
       "      <td>SUV</td>\n",
       "      <td>Medsize</td>\n",
       "      <td>A</td>\n",
       "    </tr>\n",
       "    <tr>\n",
       "      <th>3</th>\n",
       "      <td>XL78013</td>\n",
       "      <td>Oregon</td>\n",
       "      <td>Yes</td>\n",
       "      <td>Extended</td>\n",
       "      <td>College</td>\n",
       "      <td>1/11/11</td>\n",
       "      <td>Employed</td>\n",
       "      <td>M</td>\n",
       "      <td>Suburban</td>\n",
       "      <td>Single</td>\n",
       "      <td>Corporate Auto</td>\n",
       "      <td>Corporate L3</td>\n",
       "      <td>Offer2</td>\n",
       "      <td>Branch</td>\n",
       "      <td>Four-Door Car</td>\n",
       "      <td>Medsize</td>\n",
       "      <td>A</td>\n",
       "    </tr>\n",
       "    <tr>\n",
       "      <th>10</th>\n",
       "      <td>HG93801</td>\n",
       "      <td>Arizona</td>\n",
       "      <td>No</td>\n",
       "      <td>Extended</td>\n",
       "      <td>High School or Below</td>\n",
       "      <td>1/2/11</td>\n",
       "      <td>Employed</td>\n",
       "      <td>M</td>\n",
       "      <td>Urban</td>\n",
       "      <td>Married</td>\n",
       "      <td>Corporate Auto</td>\n",
       "      <td>Corporate L3</td>\n",
       "      <td>Offer2</td>\n",
       "      <td>Branch</td>\n",
       "      <td>SUV</td>\n",
       "      <td>Large</td>\n",
       "      <td>A</td>\n",
       "    </tr>\n",
       "    <tr>\n",
       "      <th>13</th>\n",
       "      <td>KR82385</td>\n",
       "      <td>California</td>\n",
       "      <td>No</td>\n",
       "      <td>Basic</td>\n",
       "      <td>Master</td>\n",
       "      <td>1/26/11</td>\n",
       "      <td>Employed</td>\n",
       "      <td>M</td>\n",
       "      <td>Suburban</td>\n",
       "      <td>Single</td>\n",
       "      <td>Personal Auto</td>\n",
       "      <td>Personal L3</td>\n",
       "      <td>Offer4</td>\n",
       "      <td>Call Center</td>\n",
       "      <td>Two-Door Car</td>\n",
       "      <td>Medsize</td>\n",
       "      <td>A</td>\n",
       "    </tr>\n",
       "    <tr>\n",
       "      <th>16</th>\n",
       "      <td>FH51383</td>\n",
       "      <td>California</td>\n",
       "      <td>No</td>\n",
       "      <td>Basic</td>\n",
       "      <td>High School or Below</td>\n",
       "      <td>2/7/11</td>\n",
       "      <td>Employed</td>\n",
       "      <td>F</td>\n",
       "      <td>Urban</td>\n",
       "      <td>Married</td>\n",
       "      <td>Personal Auto</td>\n",
       "      <td>Personal L3</td>\n",
       "      <td>Offer4</td>\n",
       "      <td>Call Center</td>\n",
       "      <td>Two-Door Car</td>\n",
       "      <td>Large</td>\n",
       "      <td>A</td>\n",
       "    </tr>\n",
       "  </tbody>\n",
       "</table>\n",
       "</div>"
      ],
      "text/plain": [
       "   Customer       State Response  Coverage             Education  \\\n",
       "2   LZ68649  Washington       No     Basic              Bachelor   \n",
       "3   XL78013      Oregon      Yes  Extended               College   \n",
       "10  HG93801     Arizona       No  Extended  High School or Below   \n",
       "13  KR82385  California       No     Basic                Master   \n",
       "16  FH51383  California       No     Basic  High School or Below   \n",
       "\n",
       "   Effective To Date EmploymentStatus Gender Location Code Marital Status  \\\n",
       "2            2/10/11         Employed      M      Suburban         Single   \n",
       "3            1/11/11         Employed      M      Suburban         Single   \n",
       "10            1/2/11         Employed      M         Urban        Married   \n",
       "13           1/26/11         Employed      M      Suburban         Single   \n",
       "16            2/7/11         Employed      F         Urban        Married   \n",
       "\n",
       "       Policy Type        Policy Renew Offer Type Sales Channel  \\\n",
       "2    Personal Auto   Personal L3           Offer3   Call Center   \n",
       "3   Corporate Auto  Corporate L3           Offer2        Branch   \n",
       "10  Corporate Auto  Corporate L3           Offer2        Branch   \n",
       "13   Personal Auto   Personal L3           Offer4   Call Center   \n",
       "16   Personal Auto   Personal L3           Offer4   Call Center   \n",
       "\n",
       "    Vehicle Class Vehicle Size Vehicle Type  \n",
       "2             SUV      Medsize            A  \n",
       "3   Four-Door Car      Medsize            A  \n",
       "10            SUV        Large            A  \n",
       "13   Two-Door Car      Medsize            A  \n",
       "16   Two-Door Car        Large            A  "
      ]
     },
     "execution_count": 1184,
     "metadata": {},
     "output_type": "execute_result"
    }
   ],
   "source": [
    "categorical_df = insurance_df[categorical_data]\n",
    "categorical_df.head()"
   ]
  },
  {
   "cell_type": "markdown",
   "id": "749e4399",
   "metadata": {},
   "source": [
    "## Distribution Plots"
   ]
  },
  {
   "cell_type": "code",
   "execution_count": 1185,
   "id": "60fe333e",
   "metadata": {},
   "outputs": [],
   "source": [
    "# sns.pairplot(numerical_df)"
   ]
  },
  {
   "cell_type": "markdown",
   "id": "92f99d92",
   "metadata": {},
   "source": [
    "## Histograms"
   ]
  },
  {
   "cell_type": "code",
   "execution_count": 1186,
   "id": "e5cb5d72",
   "metadata": {},
   "outputs": [
    {
     "data": {
      "text/plain": [
       "array([[<AxesSubplot:title={'center':'Customer Lifetime Value'}>,\n",
       "        <AxesSubplot:title={'center':'Income'}>,\n",
       "        <AxesSubplot:title={'center':'Monthly Premium Auto'}>],\n",
       "       [<AxesSubplot:title={'center':'Months Since Last Claim'}>,\n",
       "        <AxesSubplot:title={'center':'Months Since Policy Inception'}>,\n",
       "        <AxesSubplot:title={'center':'Number of Open Complaints'}>],\n",
       "       [<AxesSubplot:title={'center':'Number of Policies'}>,\n",
       "        <AxesSubplot:title={'center':'Total Claim Amount'}>,\n",
       "        <AxesSubplot:>]], dtype=object)"
      ]
     },
     "execution_count": 1186,
     "metadata": {},
     "output_type": "execute_result"
    },
    {
     "data": {
      "image/png": "[encoded data removed]",
      "text/plain": [
       "<Figure size 864x864 with 9 Axes>"
      ]
     },
     "metadata": {
      "needs_background": "light"
     },
     "output_type": "display_data"
    }
   ],
   "source": [
    "numerical_df.hist(figsize=(12,12))"
   ]
  },
  {
   "cell_type": "markdown",
   "id": "b621cb88",
   "metadata": {},
   "source": [
    "### Normal Distribution"
   ]
  },
  {
   "cell_type": "code",
   "execution_count": 1187,
   "id": "38c00774",
   "metadata": {},
   "outputs": [],
   "source": [
    "def distrib_plots(num_df):\n",
    "    plt.figure(figsize = (14,12))\n",
    "    for i, col in enumerate(num_df.columns, 1):\n",
    "        plt.subplot(3,3,i)\n",
    "        sns.histplot(num_df[col], bins=20)\n",
    "        "
   ]
  },
  {
   "cell_type": "code",
   "execution_count": 1188,
   "id": "59111c94",
   "metadata": {},
   "outputs": [
    {
     "data": {
      "image/png": "[encoded data removed]",
      "text/plain": [
       "<Figure size 1008x864 with 8 Axes>"
      ]
     },
     "metadata": {
      "needs_background": "light"
     },
     "output_type": "display_data"
    }
   ],
   "source": [
    "distrib_plots(numerical_df)"
   ]
  },
  {
   "cell_type": "markdown",
   "id": "3e1e4898",
   "metadata": {},
   "source": [
    "#### Replace the 0 income values with NaN"
   ]
  },
  {
   "cell_type": "code",
   "execution_count": 1189,
   "id": "f7269786",
   "metadata": {},
   "outputs": [],
   "source": [
    "#insurance_df['Income'].replace(0, np.nan, inplace=True)"
   ]
  },
  {
   "cell_type": "code",
   "execution_count": 1190,
   "id": "ae87dc5c",
   "metadata": {},
   "outputs": [],
   "source": [
    "#insurance_df['Income']"
   ]
  },
  {
   "cell_type": "code",
   "execution_count": 1191,
   "id": "2356a9ef",
   "metadata": {},
   "outputs": [],
   "source": [
    "numerical_df = insurance_df[numerical_data]"
   ]
  },
  {
   "cell_type": "code",
   "execution_count": 1192,
   "id": "d37a4d1c",
   "metadata": {},
   "outputs": [
    {
     "data": {
      "image/png": "[encoded data removed]",
      "text/plain": [
       "<Figure size 1008x864 with 8 Axes>"
      ]
     },
     "metadata": {
      "needs_background": "light"
     },
     "output_type": "display_data"
    }
   ],
   "source": [
    "distrib_plots(numerical_df) "
   ]
  },
  {
   "cell_type": "markdown",
   "id": "e3a32f88",
   "metadata": {},
   "source": [
    "## Correlation"
   ]
  },
  {
   "cell_type": "code",
   "execution_count": 1193,
   "id": "4dac5ab8",
   "metadata": {},
   "outputs": [
    {
     "data": {
      "text/html": [
       "<div>\n",
       "<style scoped>\n",
       "    .dataframe tbody tr th:only-of-type {\n",
       "        vertical-align: middle;\n",
       "    }\n",
       "\n",
       "    .dataframe tbody tr th {\n",
       "        vertical-align: top;\n",
       "    }\n",
       "\n",
       "    .dataframe thead th {\n",
       "        text-align: right;\n",
       "    }\n",
       "</style>\n",
       "<table border=\"1\" class=\"dataframe\">\n",
       "  <thead>\n",
       "    <tr style=\"text-align: right;\">\n",
       "      <th></th>\n",
       "      <th>Customer Lifetime Value</th>\n",
       "      <th>Income</th>\n",
       "      <th>Monthly Premium Auto</th>\n",
       "      <th>Months Since Last Claim</th>\n",
       "      <th>Months Since Policy Inception</th>\n",
       "      <th>Number of Open Complaints</th>\n",
       "      <th>Number of Policies</th>\n",
       "      <th>Total Claim Amount</th>\n",
       "    </tr>\n",
       "  </thead>\n",
       "  <tbody>\n",
       "    <tr>\n",
       "      <th>Customer Lifetime Value</th>\n",
       "      <td>1.000000</td>\n",
       "      <td>0.015914</td>\n",
       "      <td>0.413739</td>\n",
       "      <td>0.029199</td>\n",
       "      <td>0.022465</td>\n",
       "      <td>-0.034924</td>\n",
       "      <td>0.015397</td>\n",
       "      <td>0.228579</td>\n",
       "    </tr>\n",
       "    <tr>\n",
       "      <th>Income</th>\n",
       "      <td>0.015914</td>\n",
       "      <td>1.000000</td>\n",
       "      <td>-0.007594</td>\n",
       "      <td>-0.010556</td>\n",
       "      <td>-0.007987</td>\n",
       "      <td>0.001149</td>\n",
       "      <td>-0.013199</td>\n",
       "      <td>-0.355311</td>\n",
       "    </tr>\n",
       "    <tr>\n",
       "      <th>Monthly Premium Auto</th>\n",
       "      <td>0.413739</td>\n",
       "      <td>-0.007594</td>\n",
       "      <td>1.000000</td>\n",
       "      <td>0.000890</td>\n",
       "      <td>0.033422</td>\n",
       "      <td>-0.002469</td>\n",
       "      <td>-0.025578</td>\n",
       "      <td>0.630894</td>\n",
       "    </tr>\n",
       "    <tr>\n",
       "      <th>Months Since Last Claim</th>\n",
       "      <td>0.029199</td>\n",
       "      <td>-0.010556</td>\n",
       "      <td>0.000890</td>\n",
       "      <td>1.000000</td>\n",
       "      <td>-0.036879</td>\n",
       "      <td>-0.000364</td>\n",
       "      <td>0.001089</td>\n",
       "      <td>-0.011449</td>\n",
       "    </tr>\n",
       "    <tr>\n",
       "      <th>Months Since Policy Inception</th>\n",
       "      <td>0.022465</td>\n",
       "      <td>-0.007987</td>\n",
       "      <td>0.033422</td>\n",
       "      <td>-0.036879</td>\n",
       "      <td>1.000000</td>\n",
       "      <td>-0.001965</td>\n",
       "      <td>-0.009029</td>\n",
       "      <td>0.012610</td>\n",
       "    </tr>\n",
       "    <tr>\n",
       "      <th>Number of Open Complaints</th>\n",
       "      <td>-0.034924</td>\n",
       "      <td>0.001149</td>\n",
       "      <td>-0.002469</td>\n",
       "      <td>-0.000364</td>\n",
       "      <td>-0.001965</td>\n",
       "      <td>1.000000</td>\n",
       "      <td>0.014388</td>\n",
       "      <td>-0.003433</td>\n",
       "    </tr>\n",
       "    <tr>\n",
       "      <th>Number of Policies</th>\n",
       "      <td>0.015397</td>\n",
       "      <td>-0.013199</td>\n",
       "      <td>-0.025578</td>\n",
       "      <td>0.001089</td>\n",
       "      <td>-0.009029</td>\n",
       "      <td>0.014388</td>\n",
       "      <td>1.000000</td>\n",
       "      <td>0.002864</td>\n",
       "    </tr>\n",
       "    <tr>\n",
       "      <th>Total Claim Amount</th>\n",
       "      <td>0.228579</td>\n",
       "      <td>-0.355311</td>\n",
       "      <td>0.630894</td>\n",
       "      <td>-0.011449</td>\n",
       "      <td>0.012610</td>\n",
       "      <td>-0.003433</td>\n",
       "      <td>0.002864</td>\n",
       "      <td>1.000000</td>\n",
       "    </tr>\n",
       "  </tbody>\n",
       "</table>\n",
       "</div>"
      ],
      "text/plain": [
       "                               Customer Lifetime Value    Income  \\\n",
       "Customer Lifetime Value                       1.000000  0.015914   \n",
       "Income                                        0.015914  1.000000   \n",
       "Monthly Premium Auto                          0.413739 -0.007594   \n",
       "Months Since Last Claim                       0.029199 -0.010556   \n",
       "Months Since Policy Inception                 0.022465 -0.007987   \n",
       "Number of Open Complaints                    -0.034924  0.001149   \n",
       "Number of Policies                            0.015397 -0.013199   \n",
       "Total Claim Amount                            0.228579 -0.355311   \n",
       "\n",
       "                               Monthly Premium Auto  Months Since Last Claim  \\\n",
       "Customer Lifetime Value                    0.413739                 0.029199   \n",
       "Income                                    -0.007594                -0.010556   \n",
       "Monthly Premium Auto                       1.000000                 0.000890   \n",
       "Months Since Last Claim                    0.000890                 1.000000   \n",
       "Months Since Policy Inception              0.033422                -0.036879   \n",
       "Number of Open Complaints                 -0.002469                -0.000364   \n",
       "Number of Policies                        -0.025578                 0.001089   \n",
       "Total Claim Amount                         0.630894                -0.011449   \n",
       "\n",
       "                               Months Since Policy Inception  \\\n",
       "Customer Lifetime Value                             0.022465   \n",
       "Income                                             -0.007987   \n",
       "Monthly Premium Auto                                0.033422   \n",
       "Months Since Last Claim                            -0.036879   \n",
       "Months Since Policy Inception                       1.000000   \n",
       "Number of Open Complaints                          -0.001965   \n",
       "Number of Policies                                 -0.009029   \n",
       "Total Claim Amount                                  0.012610   \n",
       "\n",
       "                               Number of Open Complaints  Number of Policies  \\\n",
       "Customer Lifetime Value                        -0.034924            0.015397   \n",
       "Income                                          0.001149           -0.013199   \n",
       "Monthly Premium Auto                           -0.002469           -0.025578   \n",
       "Months Since Last Claim                        -0.000364            0.001089   \n",
       "Months Since Policy Inception                  -0.001965           -0.009029   \n",
       "Number of Open Complaints                       1.000000            0.014388   \n",
       "Number of Policies                              0.014388            1.000000   \n",
       "Total Claim Amount                             -0.003433            0.002864   \n",
       "\n",
       "                               Total Claim Amount  \n",
       "Customer Lifetime Value                  0.228579  \n",
       "Income                                  -0.355311  \n",
       "Monthly Premium Auto                     0.630894  \n",
       "Months Since Last Claim                 -0.011449  \n",
       "Months Since Policy Inception            0.012610  \n",
       "Number of Open Complaints               -0.003433  \n",
       "Number of Policies                       0.002864  \n",
       "Total Claim Amount                       1.000000  "
      ]
     },
     "execution_count": 1193,
     "metadata": {},
     "output_type": "execute_result"
    }
   ],
   "source": [
    "insurance_df.corr()"
   ]
  },
  {
   "cell_type": "code",
   "execution_count": 1194,
   "id": "eb2bd165",
   "metadata": {},
   "outputs": [
    {
     "data": {
      "image/png": "[encoded data removed]",
      "text/plain": [
       "<Figure size 648x504 with 2 Axes>"
      ]
     },
     "metadata": {},
     "output_type": "display_data"
    }
   ],
   "source": [
    "corr = insurance_df.corr()\n",
    "mask = np.zeros_like(corr)\n",
    "mask[np.triu_indices_from(mask)] = True\n",
    "with sns.axes_style(\"white\"):\n",
    "    f, ax = plt.subplots(figsize=(9, 7))\n",
    "    ax = sns.heatmap(corr, mask=mask,cmap='coolwarm', vmin=-1,vmax=1,annot=True, square=True)"
   ]
  },
  {
   "cell_type": "code",
   "execution_count": 1195,
   "id": "3e77cd0f",
   "metadata": {},
   "outputs": [
    {
     "data": {
      "text/plain": [
       "[]"
      ]
     },
     "execution_count": 1195,
     "metadata": {},
     "output_type": "execute_result"
    }
   ],
   "source": [
    "corr_matrix=insurance_df.corr().abs()\n",
    "upper_triangle=corr_matrix.where(np.triu(np.ones(corr_matrix.shape),k=1).astype(bool))\n",
    "[column for column in upper_triangle.columns if any(upper_triangle[column] > 0.90)]\n",
    "\n",
    "# Observation:\n",
    "# no highly correlated columns detected"
   ]
  },
  {
   "cell_type": "markdown",
   "id": "8631f2ce",
   "metadata": {},
   "source": [
    "## Boxplotting and checking for Outliers\n"
   ]
  },
  {
   "cell_type": "code",
   "execution_count": 1196,
   "id": "b6e54974",
   "metadata": {},
   "outputs": [
    {
     "name": "stderr",
     "output_type": "stream",
     "text": [
      "/Users/selenaeberwein/opt/anaconda3/envs/DA_Env/lib/python3.9/site-packages/seaborn/_decorators.py:36: FutureWarning: Pass the following variable as a keyword arg: x. From version 0.12, the only valid positional argument will be `data`, and passing other arguments without an explicit keyword will result in an error or misinterpretation.\n",
      "  warnings.warn(\n"
     ]
    },
    {
     "data": {
      "text/plain": [
       "<AxesSubplot:xlabel='Income'>"
      ]
     },
     "execution_count": 1196,
     "metadata": {},
     "output_type": "execute_result"
    },
    {
     "data": {
      "image/png": "[encoded data removed]",
      "text/plain": [
       "<Figure size 432x288 with 1 Axes>"
      ]
     },
     "metadata": {
      "needs_background": "light"
     },
     "output_type": "display_data"
    }
   ],
   "source": [
    "sns.boxplot(insurance_df['Income'])"
   ]
  },
  {
   "cell_type": "code",
   "execution_count": 1197,
   "id": "4ec205de",
   "metadata": {},
   "outputs": [
    {
     "name": "stderr",
     "output_type": "stream",
     "text": [
      "/Users/selenaeberwein/opt/anaconda3/envs/DA_Env/lib/python3.9/site-packages/seaborn/_decorators.py:36: FutureWarning: Pass the following variable as a keyword arg: x. From version 0.12, the only valid positional argument will be `data`, and passing other arguments without an explicit keyword will result in an error or misinterpretation.\n",
      "  warnings.warn(\n"
     ]
    },
    {
     "data": {
      "text/plain": [
       "<AxesSubplot:xlabel='Customer Lifetime Value'>"
      ]
     },
     "execution_count": 1197,
     "metadata": {},
     "output_type": "execute_result"
    },
    {
     "data": {
      "image/png": "[encoded data removed]",
      "text/plain": [
       "<Figure size 432x288 with 1 Axes>"
      ]
     },
     "metadata": {
      "needs_background": "light"
     },
     "output_type": "display_data"
    }
   ],
   "source": [
    "sns.boxplot(insurance_df['Customer Lifetime Value'])"
   ]
  },
  {
   "cell_type": "code",
   "execution_count": 1198,
   "id": "87940b8b",
   "metadata": {},
   "outputs": [
    {
     "name": "stderr",
     "output_type": "stream",
     "text": [
      "/Users/selenaeberwein/opt/anaconda3/envs/DA_Env/lib/python3.9/site-packages/seaborn/_decorators.py:36: FutureWarning: Pass the following variable as a keyword arg: x. From version 0.12, the only valid positional argument will be `data`, and passing other arguments without an explicit keyword will result in an error or misinterpretation.\n",
      "  warnings.warn(\n"
     ]
    },
    {
     "data": {
      "text/plain": [
       "<AxesSubplot:xlabel='Monthly Premium Auto'>"
      ]
     },
     "execution_count": 1198,
     "metadata": {},
     "output_type": "execute_result"
    },
    {
     "data": {
      "image/png": "[encoded data removed]",
      "text/plain": [
       "<Figure size 432x288 with 1 Axes>"
      ]
     },
     "metadata": {
      "needs_background": "light"
     },
     "output_type": "display_data"
    }
   ],
   "source": [
    "sns.boxplot(insurance_df['Monthly Premium Auto'])"
   ]
  },
  {
   "cell_type": "markdown",
   "id": "2cc59742",
   "metadata": {},
   "source": [
    "## Response Data "
   ]
  },
  {
   "cell_type": "markdown",
   "id": "b3131877",
   "metadata": {},
   "source": [
    "### Total Response"
   ]
  },
  {
   "cell_type": "code",
   "execution_count": 1199,
   "id": "7bcee66d",
   "metadata": {},
   "outputs": [
    {
     "data": {
      "text/plain": [
       "<AxesSubplot:xlabel='Response', ylabel='count'>"
      ]
     },
     "execution_count": 1199,
     "metadata": {},
     "output_type": "execute_result"
    },
    {
     "data": {
      "image/png": "[encoded data removed]",
      "text/plain": [
       "<Figure size 432x288 with 1 Axes>"
      ]
     },
     "metadata": {
      "needs_background": "light"
     },
     "output_type": "display_data"
    }
   ],
   "source": [
    "sns.countplot(x=\"Response\", data=insurance_df, palette=sns.color_palette(\"Paired\"))"
   ]
  },
  {
   "cell_type": "markdown",
   "id": "8f5b2c71",
   "metadata": {},
   "source": [
    "###  Response Rate/ Sales Channel\n"
   ]
  },
  {
   "cell_type": "code",
   "execution_count": 1200,
   "id": "1a9541f1",
   "metadata": {},
   "outputs": [],
   "source": [
    "channel_grp = insurance_df.groupby(['Sales Channel'])"
   ]
  },
  {
   "cell_type": "code",
   "execution_count": 1201,
   "id": "a30c0f36",
   "metadata": {},
   "outputs": [
    {
     "data": {
      "text/html": [
       "<div>\n",
       "<style scoped>\n",
       "    .dataframe tbody tr th:only-of-type {\n",
       "        vertical-align: middle;\n",
       "    }\n",
       "\n",
       "    .dataframe tbody tr th {\n",
       "        vertical-align: top;\n",
       "    }\n",
       "\n",
       "    .dataframe thead th {\n",
       "        text-align: right;\n",
       "    }\n",
       "</style>\n",
       "<table border=\"1\" class=\"dataframe\">\n",
       "  <thead>\n",
       "    <tr style=\"text-align: right;\">\n",
       "      <th></th>\n",
       "      <th>Customer</th>\n",
       "      <th>State</th>\n",
       "      <th>Customer Lifetime Value</th>\n",
       "      <th>Response</th>\n",
       "      <th>Coverage</th>\n",
       "      <th>Education</th>\n",
       "      <th>Effective To Date</th>\n",
       "      <th>Month</th>\n",
       "      <th>EmploymentStatus</th>\n",
       "      <th>Gender</th>\n",
       "      <th>...</th>\n",
       "      <th>Number of Open Complaints</th>\n",
       "      <th>Number of Policies</th>\n",
       "      <th>Policy Type</th>\n",
       "      <th>Policy</th>\n",
       "      <th>Renew Offer Type</th>\n",
       "      <th>Sales Channel</th>\n",
       "      <th>Total Claim Amount</th>\n",
       "      <th>Vehicle Class</th>\n",
       "      <th>Vehicle Size</th>\n",
       "      <th>Vehicle Type</th>\n",
       "    </tr>\n",
       "  </thead>\n",
       "  <tbody>\n",
       "    <tr>\n",
       "      <th>18</th>\n",
       "      <td>ZC97968</td>\n",
       "      <td>California</td>\n",
       "      <td>2736.352663</td>\n",
       "      <td>No</td>\n",
       "      <td>Basic</td>\n",
       "      <td>College</td>\n",
       "      <td>2/14/11</td>\n",
       "      <td>February</td>\n",
       "      <td>Disabled</td>\n",
       "      <td>M</td>\n",
       "      <td>...</td>\n",
       "      <td>0.0</td>\n",
       "      <td>1</td>\n",
       "      <td>Personal Auto</td>\n",
       "      <td>Personal L3</td>\n",
       "      <td>Offer1</td>\n",
       "      <td>Agent</td>\n",
       "      <td>350.400000</td>\n",
       "      <td>Two-Door Car</td>\n",
       "      <td>Medsize</td>\n",
       "      <td>A</td>\n",
       "    </tr>\n",
       "    <tr>\n",
       "      <th>24</th>\n",
       "      <td>YK32760</td>\n",
       "      <td>Oregon</td>\n",
       "      <td>2502.209885</td>\n",
       "      <td>No</td>\n",
       "      <td>Basic</td>\n",
       "      <td>High School or Below</td>\n",
       "      <td>2/15/11</td>\n",
       "      <td>February</td>\n",
       "      <td>Unemployed</td>\n",
       "      <td>M</td>\n",
       "      <td>...</td>\n",
       "      <td>1.0</td>\n",
       "      <td>1</td>\n",
       "      <td>Corporate Auto</td>\n",
       "      <td>Corporate L1</td>\n",
       "      <td>Offer1</td>\n",
       "      <td>Agent</td>\n",
       "      <td>355.200000</td>\n",
       "      <td>Four-Door Car</td>\n",
       "      <td>Medsize</td>\n",
       "      <td>A</td>\n",
       "    </tr>\n",
       "    <tr>\n",
       "      <th>25</th>\n",
       "      <td>AY59197</td>\n",
       "      <td>Nevada</td>\n",
       "      <td>9521.222806</td>\n",
       "      <td>No</td>\n",
       "      <td>Extended</td>\n",
       "      <td>College</td>\n",
       "      <td>1/24/11</td>\n",
       "      <td>January</td>\n",
       "      <td>Employed</td>\n",
       "      <td>M</td>\n",
       "      <td>...</td>\n",
       "      <td>0.0</td>\n",
       "      <td>6</td>\n",
       "      <td>Special Auto</td>\n",
       "      <td>Special L3</td>\n",
       "      <td>Offer4</td>\n",
       "      <td>Agent</td>\n",
       "      <td>123.154160</td>\n",
       "      <td>SUV</td>\n",
       "      <td>Small</td>\n",
       "      <td>A</td>\n",
       "    </tr>\n",
       "    <tr>\n",
       "      <th>43</th>\n",
       "      <td>BL12371</td>\n",
       "      <td>Arizona</td>\n",
       "      <td>5790.565333</td>\n",
       "      <td>No</td>\n",
       "      <td>Basic</td>\n",
       "      <td>Master</td>\n",
       "      <td>2/3/11</td>\n",
       "      <td>February</td>\n",
       "      <td>Employed</td>\n",
       "      <td>M</td>\n",
       "      <td>...</td>\n",
       "      <td>0.0</td>\n",
       "      <td>5</td>\n",
       "      <td>Personal Auto</td>\n",
       "      <td>Personal L3</td>\n",
       "      <td>Offer2</td>\n",
       "      <td>Agent</td>\n",
       "      <td>28.925840</td>\n",
       "      <td>Four-Door Car</td>\n",
       "      <td>Large</td>\n",
       "      <td>A</td>\n",
       "    </tr>\n",
       "    <tr>\n",
       "      <th>55</th>\n",
       "      <td>XQ74827</td>\n",
       "      <td>Arizona</td>\n",
       "      <td>19435.629240</td>\n",
       "      <td>No</td>\n",
       "      <td>Extended</td>\n",
       "      <td>High School or Below</td>\n",
       "      <td>2/1/11</td>\n",
       "      <td>February</td>\n",
       "      <td>Employed</td>\n",
       "      <td>F</td>\n",
       "      <td>...</td>\n",
       "      <td>0.0</td>\n",
       "      <td>3</td>\n",
       "      <td>Special Auto</td>\n",
       "      <td>Special L3</td>\n",
       "      <td>Offer1</td>\n",
       "      <td>Agent</td>\n",
       "      <td>2294.631639</td>\n",
       "      <td>Luxury Car</td>\n",
       "      <td>Medsize</td>\n",
       "      <td>A</td>\n",
       "    </tr>\n",
       "    <tr>\n",
       "      <th>...</th>\n",
       "      <td>...</td>\n",
       "      <td>...</td>\n",
       "      <td>...</td>\n",
       "      <td>...</td>\n",
       "      <td>...</td>\n",
       "      <td>...</td>\n",
       "      <td>...</td>\n",
       "      <td>...</td>\n",
       "      <td>...</td>\n",
       "      <td>...</td>\n",
       "      <td>...</td>\n",
       "      <td>...</td>\n",
       "      <td>...</td>\n",
       "      <td>...</td>\n",
       "      <td>...</td>\n",
       "      <td>...</td>\n",
       "      <td>...</td>\n",
       "      <td>...</td>\n",
       "      <td>...</td>\n",
       "      <td>...</td>\n",
       "      <td>...</td>\n",
       "    </tr>\n",
       "    <tr>\n",
       "      <th>10887</th>\n",
       "      <td>BY78730</td>\n",
       "      <td>Oregon</td>\n",
       "      <td>8879.790017</td>\n",
       "      <td>Yes</td>\n",
       "      <td>Basic</td>\n",
       "      <td>High School or Below</td>\n",
       "      <td>2/3/11</td>\n",
       "      <td>February</td>\n",
       "      <td>Employed</td>\n",
       "      <td>F</td>\n",
       "      <td>...</td>\n",
       "      <td>0.0</td>\n",
       "      <td>7</td>\n",
       "      <td>Special Auto</td>\n",
       "      <td>Special L2</td>\n",
       "      <td>Offer1</td>\n",
       "      <td>Agent</td>\n",
       "      <td>528.200860</td>\n",
       "      <td>SUV</td>\n",
       "      <td>Small</td>\n",
       "      <td>A</td>\n",
       "    </tr>\n",
       "    <tr>\n",
       "      <th>10895</th>\n",
       "      <td>EG40670</td>\n",
       "      <td>California</td>\n",
       "      <td>6232.687923</td>\n",
       "      <td>No</td>\n",
       "      <td>Extended</td>\n",
       "      <td>Bachelor</td>\n",
       "      <td>1/8/11</td>\n",
       "      <td>January</td>\n",
       "      <td>Disabled</td>\n",
       "      <td>F</td>\n",
       "      <td>...</td>\n",
       "      <td>0.0</td>\n",
       "      <td>7</td>\n",
       "      <td>Special Auto</td>\n",
       "      <td>Special L3</td>\n",
       "      <td>Offer1</td>\n",
       "      <td>Agent</td>\n",
       "      <td>537.765151</td>\n",
       "      <td>Four-Door Car</td>\n",
       "      <td>Medsize</td>\n",
       "      <td>A</td>\n",
       "    </tr>\n",
       "    <tr>\n",
       "      <th>10896</th>\n",
       "      <td>HT87217</td>\n",
       "      <td>Oregon</td>\n",
       "      <td>19776.566540</td>\n",
       "      <td>No</td>\n",
       "      <td>Extended</td>\n",
       "      <td>High School or Below</td>\n",
       "      <td>1/16/11</td>\n",
       "      <td>January</td>\n",
       "      <td>Employed</td>\n",
       "      <td>F</td>\n",
       "      <td>...</td>\n",
       "      <td>0.0</td>\n",
       "      <td>2</td>\n",
       "      <td>Personal Auto</td>\n",
       "      <td>Personal L2</td>\n",
       "      <td>Offer3</td>\n",
       "      <td>Agent</td>\n",
       "      <td>256.813837</td>\n",
       "      <td>Four-Door Car</td>\n",
       "      <td>Medsize</td>\n",
       "      <td>A</td>\n",
       "    </tr>\n",
       "    <tr>\n",
       "      <th>10897</th>\n",
       "      <td>MM70762</td>\n",
       "      <td>Arizona</td>\n",
       "      <td>9075.768214</td>\n",
       "      <td>Yes</td>\n",
       "      <td>Basic</td>\n",
       "      <td>Master</td>\n",
       "      <td>1/26/11</td>\n",
       "      <td>January</td>\n",
       "      <td>Employed</td>\n",
       "      <td>M</td>\n",
       "      <td>...</td>\n",
       "      <td>0.0</td>\n",
       "      <td>8</td>\n",
       "      <td>Personal Auto</td>\n",
       "      <td>Personal L1</td>\n",
       "      <td>Offer1</td>\n",
       "      <td>Agent</td>\n",
       "      <td>158.077504</td>\n",
       "      <td>Sports Car</td>\n",
       "      <td>Medsize</td>\n",
       "      <td>A</td>\n",
       "    </tr>\n",
       "    <tr>\n",
       "      <th>10902</th>\n",
       "      <td>PP30874</td>\n",
       "      <td>California</td>\n",
       "      <td>3579.023825</td>\n",
       "      <td>No</td>\n",
       "      <td>Extended</td>\n",
       "      <td>High School or Below</td>\n",
       "      <td>1/24/11</td>\n",
       "      <td>January</td>\n",
       "      <td>Employed</td>\n",
       "      <td>F</td>\n",
       "      <td>...</td>\n",
       "      <td>2.0</td>\n",
       "      <td>1</td>\n",
       "      <td>Personal Auto</td>\n",
       "      <td>Personal L2</td>\n",
       "      <td>Offer2</td>\n",
       "      <td>Agent</td>\n",
       "      <td>655.200000</td>\n",
       "      <td>Four-Door Car</td>\n",
       "      <td>Medsize</td>\n",
       "      <td>A</td>\n",
       "    </tr>\n",
       "  </tbody>\n",
       "</table>\n",
       "<p>1751 rows × 26 columns</p>\n",
       "</div>"
      ],
      "text/plain": [
       "      Customer       State  Customer Lifetime Value Response  Coverage  \\\n",
       "18     ZC97968  California              2736.352663       No     Basic   \n",
       "24     YK32760      Oregon              2502.209885       No     Basic   \n",
       "25     AY59197      Nevada              9521.222806       No  Extended   \n",
       "43     BL12371     Arizona              5790.565333       No     Basic   \n",
       "55     XQ74827     Arizona             19435.629240       No  Extended   \n",
       "...        ...         ...                      ...      ...       ...   \n",
       "10887  BY78730      Oregon              8879.790017      Yes     Basic   \n",
       "10895  EG40670  California              6232.687923       No  Extended   \n",
       "10896  HT87217      Oregon             19776.566540       No  Extended   \n",
       "10897  MM70762     Arizona              9075.768214      Yes     Basic   \n",
       "10902  PP30874  California              3579.023825       No  Extended   \n",
       "\n",
       "                  Education Effective To Date     Month EmploymentStatus  \\\n",
       "18                  College           2/14/11  February         Disabled   \n",
       "24     High School or Below           2/15/11  February       Unemployed   \n",
       "25                  College           1/24/11   January         Employed   \n",
       "43                   Master            2/3/11  February         Employed   \n",
       "55     High School or Below            2/1/11  February         Employed   \n",
       "...                     ...               ...       ...              ...   \n",
       "10887  High School or Below            2/3/11  February         Employed   \n",
       "10895              Bachelor            1/8/11   January         Disabled   \n",
       "10896  High School or Below           1/16/11   January         Employed   \n",
       "10897                Master           1/26/11   January         Employed   \n",
       "10902  High School or Below           1/24/11   January         Employed   \n",
       "\n",
       "      Gender  ...  Number of Open Complaints Number of Policies  \\\n",
       "18         M  ...                        0.0                  1   \n",
       "24         M  ...                        1.0                  1   \n",
       "25         M  ...                        0.0                  6   \n",
       "43         M  ...                        0.0                  5   \n",
       "55         F  ...                        0.0                  3   \n",
       "...      ...  ...                        ...                ...   \n",
       "10887      F  ...                        0.0                  7   \n",
       "10895      F  ...                        0.0                  7   \n",
       "10896      F  ...                        0.0                  2   \n",
       "10897      M  ...                        0.0                  8   \n",
       "10902      F  ...                        2.0                  1   \n",
       "\n",
       "          Policy Type        Policy  Renew Offer Type  Sales Channel  \\\n",
       "18      Personal Auto   Personal L3            Offer1          Agent   \n",
       "24     Corporate Auto  Corporate L1            Offer1          Agent   \n",
       "25       Special Auto    Special L3            Offer4          Agent   \n",
       "43      Personal Auto   Personal L3            Offer2          Agent   \n",
       "55       Special Auto    Special L3            Offer1          Agent   \n",
       "...               ...           ...               ...            ...   \n",
       "10887    Special Auto    Special L2            Offer1          Agent   \n",
       "10895    Special Auto    Special L3            Offer1          Agent   \n",
       "10896   Personal Auto   Personal L2            Offer3          Agent   \n",
       "10897   Personal Auto   Personal L1            Offer1          Agent   \n",
       "10902   Personal Auto   Personal L2            Offer2          Agent   \n",
       "\n",
       "       Total Claim Amount  Vehicle Class Vehicle Size Vehicle Type  \n",
       "18             350.400000   Two-Door Car      Medsize            A  \n",
       "24             355.200000  Four-Door Car      Medsize            A  \n",
       "25             123.154160            SUV        Small            A  \n",
       "43              28.925840  Four-Door Car        Large            A  \n",
       "55            2294.631639     Luxury Car      Medsize            A  \n",
       "...                   ...            ...          ...          ...  \n",
       "10887          528.200860            SUV        Small            A  \n",
       "10895          537.765151  Four-Door Car      Medsize            A  \n",
       "10896          256.813837  Four-Door Car      Medsize            A  \n",
       "10897          158.077504     Sports Car      Medsize            A  \n",
       "10902          655.200000  Four-Door Car      Medsize            A  \n",
       "\n",
       "[1751 rows x 26 columns]"
      ]
     },
     "execution_count": 1201,
     "metadata": {},
     "output_type": "execute_result"
    }
   ],
   "source": [
    "channel_grp.get_group('Agent')"
   ]
  },
  {
   "cell_type": "code",
   "execution_count": 1202,
   "id": "e8f24025",
   "metadata": {},
   "outputs": [
    {
     "data": {
      "text/plain": [
       "Sales Channel  Response\n",
       "Agent          No          1419\n",
       "               Yes          332\n",
       "Branch         No          1123\n",
       "               Yes          123\n",
       "Call Center    No           786\n",
       "               Yes           97\n",
       "Web            No           574\n",
       "               Yes           89\n",
       "Name: Response, dtype: int64"
      ]
     },
     "execution_count": 1202,
     "metadata": {},
     "output_type": "execute_result"
    }
   ],
   "source": [
    "channel_grp['Response'].value_counts() # returns a series with multiple indexes"
   ]
  },
  {
   "cell_type": "code",
   "execution_count": 1203,
   "id": "b759ad4a",
   "metadata": {},
   "outputs": [
    {
     "data": {
      "text/plain": [
       "Response\n",
       "No     1123\n",
       "Yes     123\n",
       "Name: Response, dtype: int64"
      ]
     },
     "execution_count": 1203,
     "metadata": {},
     "output_type": "execute_result"
    }
   ],
   "source": [
    "channel_grp['Response'].value_counts().loc['Branch']"
   ]
  },
  {
   "cell_type": "code",
   "execution_count": 1204,
   "id": "7b6f6324",
   "metadata": {},
   "outputs": [
    {
     "data": {
      "text/plain": [
       "Response\n",
       "No     0.901284\n",
       "Yes    0.098716\n",
       "Name: Response, dtype: float64"
      ]
     },
     "execution_count": 1204,
     "metadata": {},
     "output_type": "execute_result"
    }
   ],
   "source": [
    "channel_grp['Response'].value_counts(normalize=True).loc['Branch'] # gives percentages"
   ]
  },
  {
   "cell_type": "code",
   "execution_count": 1205,
   "id": "53175e3e",
   "metadata": {},
   "outputs": [
    {
     "data": {
      "text/plain": [
       "Sales Channel  Response\n",
       "Agent          No          0.810394\n",
       "               Yes         0.189606\n",
       "Branch         No          0.901284\n",
       "               Yes         0.098716\n",
       "Call Center    No          0.890147\n",
       "               Yes         0.109853\n",
       "Web            No          0.865762\n",
       "               Yes         0.134238\n",
       "Name: Response, dtype: float64"
      ]
     },
     "execution_count": 1205,
     "metadata": {},
     "output_type": "execute_result"
    }
   ],
   "source": [
    "channel_grp['Response'].value_counts(normalize=True) # gives percentages"
   ]
  },
  {
   "cell_type": "code",
   "execution_count": 1206,
   "id": "ce531641",
   "metadata": {},
   "outputs": [
    {
     "data": {
      "text/html": [
       "<div>\n",
       "<style scoped>\n",
       "    .dataframe tbody tr th:only-of-type {\n",
       "        vertical-align: middle;\n",
       "    }\n",
       "\n",
       "    .dataframe tbody tr th {\n",
       "        vertical-align: top;\n",
       "    }\n",
       "\n",
       "    .dataframe thead th {\n",
       "        text-align: right;\n",
       "    }\n",
       "</style>\n",
       "<table border=\"1\" class=\"dataframe\">\n",
       "  <thead>\n",
       "    <tr style=\"text-align: right;\">\n",
       "      <th></th>\n",
       "      <th>Sales Channel</th>\n",
       "      <th>Response</th>\n",
       "      <th>count</th>\n",
       "    </tr>\n",
       "  </thead>\n",
       "  <tbody>\n",
       "    <tr>\n",
       "      <th>0</th>\n",
       "      <td>Agent</td>\n",
       "      <td>No</td>\n",
       "      <td>1419</td>\n",
       "    </tr>\n",
       "    <tr>\n",
       "      <th>1</th>\n",
       "      <td>Agent</td>\n",
       "      <td>Yes</td>\n",
       "      <td>332</td>\n",
       "    </tr>\n",
       "    <tr>\n",
       "      <th>2</th>\n",
       "      <td>Branch</td>\n",
       "      <td>No</td>\n",
       "      <td>1123</td>\n",
       "    </tr>\n",
       "    <tr>\n",
       "      <th>3</th>\n",
       "      <td>Branch</td>\n",
       "      <td>Yes</td>\n",
       "      <td>123</td>\n",
       "    </tr>\n",
       "    <tr>\n",
       "      <th>4</th>\n",
       "      <td>Call Center</td>\n",
       "      <td>No</td>\n",
       "      <td>786</td>\n",
       "    </tr>\n",
       "    <tr>\n",
       "      <th>5</th>\n",
       "      <td>Call Center</td>\n",
       "      <td>Yes</td>\n",
       "      <td>97</td>\n",
       "    </tr>\n",
       "    <tr>\n",
       "      <th>6</th>\n",
       "      <td>Web</td>\n",
       "      <td>No</td>\n",
       "      <td>574</td>\n",
       "    </tr>\n",
       "    <tr>\n",
       "      <th>7</th>\n",
       "      <td>Web</td>\n",
       "      <td>Yes</td>\n",
       "      <td>89</td>\n",
       "    </tr>\n",
       "  </tbody>\n",
       "</table>\n",
       "</div>"
      ],
      "text/plain": [
       "  Sales Channel Response  count\n",
       "0         Agent       No   1419\n",
       "1         Agent      Yes    332\n",
       "2        Branch       No   1123\n",
       "3        Branch      Yes    123\n",
       "4   Call Center       No    786\n",
       "5   Call Center      Yes     97\n",
       "6           Web       No    574\n",
       "7           Web      Yes     89"
      ]
     },
     "execution_count": 1206,
     "metadata": {},
     "output_type": "execute_result"
    }
   ],
   "source": [
    "channel_df = pd.DataFrame({'count': insurance_df.groupby([\"Sales Channel\", \"Response\"]).size()}).reset_index()\n",
    "channel_df"
   ]
  },
  {
   "cell_type": "code",
   "execution_count": 1207,
   "id": "572cd14e",
   "metadata": {},
   "outputs": [
    {
     "data": {
      "text/plain": [
       "<AxesSubplot:title={'center':'Response Rate by Sales Channel'}, xlabel='Sales Channel', ylabel='count'>"
      ]
     },
     "execution_count": 1207,
     "metadata": {},
     "output_type": "execute_result"
    },
    {
     "data": {
      "image/png": "[encoded data removed]",
      "text/plain": [
       "<Figure size 720x576 with 1 Axes>"
      ]
     },
     "metadata": {
      "needs_background": "light"
     },
     "output_type": "display_data"
    }
   ],
   "source": [
    "fig4, ax4 = plt.subplots(figsize = (10,8))\n",
    "ax4.set_title('Response Rate by Sales Channel', size='20', fontweight='bold')\n",
    "\n",
    "sns.barplot(x = channel_df['Sales Channel'],y = channel_df['count'], hue = channel_df['Response'],palette=sns.color_palette(\"Paired\"), ax = ax4)"
   ]
  },
  {
   "cell_type": "code",
   "execution_count": 1208,
   "id": "5463f6bc",
   "metadata": {},
   "outputs": [],
   "source": [
    "# Function for grouping\n",
    "\n",
    "def data_grouping(df, group_by, rate):\n",
    "    pd.DataFrame({'count': df.groupby([group_by, rate]).size()}).reset_index()\n",
    "    "
   ]
  },
  {
   "cell_type": "code",
   "execution_count": 1209,
   "id": "f39bb8f0",
   "metadata": {},
   "outputs": [
    {
     "data": {
      "text/plain": [
       "<AxesSubplot:xlabel='Sales Channel', ylabel='count'>"
      ]
     },
     "execution_count": 1209,
     "metadata": {},
     "output_type": "execute_result"
    },
    {
     "data": {
      "image/png": "[encoded data removed]",
      "text/plain": [
       "<Figure size 432x288 with 1 Axes>"
      ]
     },
     "metadata": {
      "needs_background": "light"
     },
     "output_type": "display_data"
    }
   ],
   "source": [
    "sns.countplot(x = categorical_df[\"Sales Channel\"]\n",
    "              ,y = None, hue=categorical_df[\"Response\"]\n",
    "              , palette=sns.color_palette(\"Paired\")\n",
    "             )"
   ]
  },
  {
   "cell_type": "markdown",
   "id": "9df85910",
   "metadata": {},
   "source": [
    "### Response Rate / Total Claims "
   ]
  },
  {
   "cell_type": "code",
   "execution_count": 1210,
   "id": "cf702f26",
   "metadata": {},
   "outputs": [
    {
     "name": "stdout",
     "output_type": "stream",
     "text": [
      "0.099007\n",
      "2893.239678\n"
     ]
    }
   ],
   "source": [
    "print(min(numerical_df['Total Claim Amount']))\n",
    "print(max(numerical_df['Total Claim Amount']))"
   ]
  },
  {
   "cell_type": "code",
   "execution_count": 1211,
   "id": "03653f29",
   "metadata": {},
   "outputs": [
    {
     "data": {
      "text/plain": [
       "292.800000    64\n",
       "316.800000    56\n",
       "331.200000    55\n",
       "350.400000    54\n",
       "302.400000    49\n",
       "              ..\n",
       "199.460544     1\n",
       "487.070965     1\n",
       "342.481173     1\n",
       "937.824847     1\n",
       "618.288849     1\n",
       "Name: Total Claim Amount, Length: 2716, dtype: int64"
      ]
     },
     "execution_count": 1211,
     "metadata": {},
     "output_type": "execute_result"
    }
   ],
   "source": [
    "numerical_df['Total Claim Amount'].value_counts()"
   ]
  },
  {
   "cell_type": "code",
   "execution_count": 1212,
   "id": "f38db0cf",
   "metadata": {},
   "outputs": [
    {
     "data": {
      "text/html": [
       "<div>\n",
       "<style scoped>\n",
       "    .dataframe tbody tr th:only-of-type {\n",
       "        vertical-align: middle;\n",
       "    }\n",
       "\n",
       "    .dataframe tbody tr th {\n",
       "        vertical-align: top;\n",
       "    }\n",
       "\n",
       "    .dataframe thead th {\n",
       "        text-align: right;\n",
       "    }\n",
       "</style>\n",
       "<table border=\"1\" class=\"dataframe\">\n",
       "  <thead>\n",
       "    <tr style=\"text-align: right;\">\n",
       "      <th></th>\n",
       "      <th>Total Claim Amount</th>\n",
       "      <th>Response</th>\n",
       "      <th>count</th>\n",
       "    </tr>\n",
       "  </thead>\n",
       "  <tbody>\n",
       "    <tr>\n",
       "      <th>0</th>\n",
       "      <td>0.099007</td>\n",
       "      <td>No</td>\n",
       "      <td>1</td>\n",
       "    </tr>\n",
       "    <tr>\n",
       "      <th>1</th>\n",
       "      <td>0.769185</td>\n",
       "      <td>No</td>\n",
       "      <td>1</td>\n",
       "    </tr>\n",
       "    <tr>\n",
       "      <th>2</th>\n",
       "      <td>0.887629</td>\n",
       "      <td>No</td>\n",
       "      <td>1</td>\n",
       "    </tr>\n",
       "    <tr>\n",
       "      <th>3</th>\n",
       "      <td>1.208908</td>\n",
       "      <td>No</td>\n",
       "      <td>1</td>\n",
       "    </tr>\n",
       "    <tr>\n",
       "      <th>4</th>\n",
       "      <td>1.332349</td>\n",
       "      <td>No</td>\n",
       "      <td>1</td>\n",
       "    </tr>\n",
       "  </tbody>\n",
       "</table>\n",
       "</div>"
      ],
      "text/plain": [
       "   Total Claim Amount Response  count\n",
       "0            0.099007       No      1\n",
       "1            0.769185       No      1\n",
       "2            0.887629       No      1\n",
       "3            1.208908       No      1\n",
       "4            1.332349       No      1"
      ]
     },
     "execution_count": 1212,
     "metadata": {},
     "output_type": "execute_result"
    }
   ],
   "source": [
    "total_claim_df = pd.DataFrame({'count': insurance_df.groupby([\"Total Claim Amount\", \"Response\"])\n",
    "                               .size()}).reset_index()\n",
    "total_claim_df.head()"
   ]
  },
  {
   "cell_type": "code",
   "execution_count": 1213,
   "id": "4ae4da0c",
   "metadata": {},
   "outputs": [
    {
     "data": {
      "text/plain": [
       "<AxesSubplot:xlabel='Total Claim Amount', ylabel='count'>"
      ]
     },
     "execution_count": 1213,
     "metadata": {},
     "output_type": "execute_result"
    },
    {
     "data": {
      "image/png": "[encoded data removed]",
      "text/plain": [
       "<Figure size 432x288 with 1 Axes>"
      ]
     },
     "metadata": {
      "needs_background": "light"
     },
     "output_type": "display_data"
    }
   ],
   "source": [
    "sns.countplot(x = pd.cut(insurance_df[\"Total Claim Amount\"]\n",
    "                         , bins=[0,500,1000,1500,2000]\n",
    "                         ,labels=[\"< 500\",\"<1000\",\"<1500\",\"<2000\"])\n",
    "              ,y = None, hue=categorical_df[\"Response\"], palette=sns.color_palette(\"Paired\"))"
   ]
  },
  {
   "cell_type": "markdown",
   "id": "dfe44342",
   "metadata": {},
   "source": [
    "###  Response Rate/ Income"
   ]
  },
  {
   "cell_type": "code",
   "execution_count": 1214,
   "id": "1d4d38d1",
   "metadata": {},
   "outputs": [
    {
     "name": "stdout",
     "output_type": "stream",
     "text": [
      "0\n",
      "99961\n"
     ]
    }
   ],
   "source": [
    "print(min(numerical_df['Income']))\n",
    "print(max(numerical_df['Income']))"
   ]
  },
  {
   "cell_type": "code",
   "execution_count": 1215,
   "id": "534f29c6",
   "metadata": {},
   "outputs": [
    {
     "data": {
      "text/plain": [
       "<AxesSubplot:xlabel='Income', ylabel='count'>"
      ]
     },
     "execution_count": 1215,
     "metadata": {},
     "output_type": "execute_result"
    },
    {
     "data": {
      "image/png": "[encoded data removed]",
      "text/plain": [
       "<Figure size 432x288 with 1 Axes>"
      ]
     },
     "metadata": {
      "needs_background": "light"
     },
     "output_type": "display_data"
    }
   ],
   "source": [
    "sns.countplot(x = pd.cut(insurance_df[\"Income\"]\n",
    "                         , bins=[10000,20000,40000,60000,100000]\n",
    "                         ,labels=[\"low\",\"medium\",\"high\",\"very_high\"])\n",
    "              ,y = None, hue=categorical_df[\"Response\"], palette=sns.color_palette(\"Paired\"))"
   ]
  },
  {
   "cell_type": "markdown",
   "id": "903aa1bd",
   "metadata": {},
   "source": [
    "### Customer Lifetime Value "
   ]
  },
  {
   "cell_type": "code",
   "execution_count": 1216,
   "id": "3941fe14",
   "metadata": {},
   "outputs": [
    {
     "data": {
      "text/html": [
       "<div>\n",
       "<style scoped>\n",
       "    .dataframe tbody tr th:only-of-type {\n",
       "        vertical-align: middle;\n",
       "    }\n",
       "\n",
       "    .dataframe tbody tr th {\n",
       "        vertical-align: top;\n",
       "    }\n",
       "\n",
       "    .dataframe thead th {\n",
       "        text-align: right;\n",
       "    }\n",
       "</style>\n",
       "<table border=\"1\" class=\"dataframe\">\n",
       "  <thead>\n",
       "    <tr style=\"text-align: right;\">\n",
       "      <th></th>\n",
       "      <th>Customer</th>\n",
       "      <th>State</th>\n",
       "      <th>Customer Lifetime Value</th>\n",
       "      <th>Response</th>\n",
       "      <th>Coverage</th>\n",
       "      <th>Education</th>\n",
       "      <th>Effective To Date</th>\n",
       "      <th>Month</th>\n",
       "      <th>EmploymentStatus</th>\n",
       "      <th>Gender</th>\n",
       "      <th>...</th>\n",
       "      <th>Number of Open Complaints</th>\n",
       "      <th>Number of Policies</th>\n",
       "      <th>Policy Type</th>\n",
       "      <th>Policy</th>\n",
       "      <th>Renew Offer Type</th>\n",
       "      <th>Sales Channel</th>\n",
       "      <th>Total Claim Amount</th>\n",
       "      <th>Vehicle Class</th>\n",
       "      <th>Vehicle Size</th>\n",
       "      <th>Vehicle Type</th>\n",
       "    </tr>\n",
       "  </thead>\n",
       "  <tbody>\n",
       "    <tr>\n",
       "      <th>2</th>\n",
       "      <td>LZ68649</td>\n",
       "      <td>Washington</td>\n",
       "      <td>14947.917300</td>\n",
       "      <td>No</td>\n",
       "      <td>Basic</td>\n",
       "      <td>Bachelor</td>\n",
       "      <td>2/10/11</td>\n",
       "      <td>February</td>\n",
       "      <td>Employed</td>\n",
       "      <td>M</td>\n",
       "      <td>...</td>\n",
       "      <td>0.0</td>\n",
       "      <td>2</td>\n",
       "      <td>Personal Auto</td>\n",
       "      <td>Personal L3</td>\n",
       "      <td>Offer3</td>\n",
       "      <td>Call Center</td>\n",
       "      <td>480.000000</td>\n",
       "      <td>SUV</td>\n",
       "      <td>Medsize</td>\n",
       "      <td>A</td>\n",
       "    </tr>\n",
       "    <tr>\n",
       "      <th>3</th>\n",
       "      <td>XL78013</td>\n",
       "      <td>Oregon</td>\n",
       "      <td>22332.439460</td>\n",
       "      <td>Yes</td>\n",
       "      <td>Extended</td>\n",
       "      <td>College</td>\n",
       "      <td>1/11/11</td>\n",
       "      <td>January</td>\n",
       "      <td>Employed</td>\n",
       "      <td>M</td>\n",
       "      <td>...</td>\n",
       "      <td>0.0</td>\n",
       "      <td>2</td>\n",
       "      <td>Corporate Auto</td>\n",
       "      <td>Corporate L3</td>\n",
       "      <td>Offer2</td>\n",
       "      <td>Branch</td>\n",
       "      <td>484.013411</td>\n",
       "      <td>Four-Door Car</td>\n",
       "      <td>Medsize</td>\n",
       "      <td>A</td>\n",
       "    </tr>\n",
       "    <tr>\n",
       "      <th>10</th>\n",
       "      <td>HG93801</td>\n",
       "      <td>Arizona</td>\n",
       "      <td>5154.764074</td>\n",
       "      <td>No</td>\n",
       "      <td>Extended</td>\n",
       "      <td>High School or Below</td>\n",
       "      <td>1/2/11</td>\n",
       "      <td>January</td>\n",
       "      <td>Employed</td>\n",
       "      <td>M</td>\n",
       "      <td>...</td>\n",
       "      <td>0.0</td>\n",
       "      <td>1</td>\n",
       "      <td>Corporate Auto</td>\n",
       "      <td>Corporate L3</td>\n",
       "      <td>Offer2</td>\n",
       "      <td>Branch</td>\n",
       "      <td>442.521087</td>\n",
       "      <td>SUV</td>\n",
       "      <td>Large</td>\n",
       "      <td>A</td>\n",
       "    </tr>\n",
       "    <tr>\n",
       "      <th>13</th>\n",
       "      <td>KR82385</td>\n",
       "      <td>California</td>\n",
       "      <td>5454.587929</td>\n",
       "      <td>No</td>\n",
       "      <td>Basic</td>\n",
       "      <td>Master</td>\n",
       "      <td>1/26/11</td>\n",
       "      <td>January</td>\n",
       "      <td>Employed</td>\n",
       "      <td>M</td>\n",
       "      <td>...</td>\n",
       "      <td>0.0</td>\n",
       "      <td>4</td>\n",
       "      <td>Personal Auto</td>\n",
       "      <td>Personal L3</td>\n",
       "      <td>Offer4</td>\n",
       "      <td>Call Center</td>\n",
       "      <td>331.200000</td>\n",
       "      <td>Two-Door Car</td>\n",
       "      <td>Medsize</td>\n",
       "      <td>A</td>\n",
       "    </tr>\n",
       "    <tr>\n",
       "      <th>16</th>\n",
       "      <td>FH51383</td>\n",
       "      <td>California</td>\n",
       "      <td>5326.677654</td>\n",
       "      <td>No</td>\n",
       "      <td>Basic</td>\n",
       "      <td>High School or Below</td>\n",
       "      <td>2/7/11</td>\n",
       "      <td>February</td>\n",
       "      <td>Employed</td>\n",
       "      <td>F</td>\n",
       "      <td>...</td>\n",
       "      <td>0.0</td>\n",
       "      <td>6</td>\n",
       "      <td>Personal Auto</td>\n",
       "      <td>Personal L3</td>\n",
       "      <td>Offer4</td>\n",
       "      <td>Call Center</td>\n",
       "      <td>300.528579</td>\n",
       "      <td>Two-Door Car</td>\n",
       "      <td>Large</td>\n",
       "      <td>A</td>\n",
       "    </tr>\n",
       "    <tr>\n",
       "      <th>...</th>\n",
       "      <td>...</td>\n",
       "      <td>...</td>\n",
       "      <td>...</td>\n",
       "      <td>...</td>\n",
       "      <td>...</td>\n",
       "      <td>...</td>\n",
       "      <td>...</td>\n",
       "      <td>...</td>\n",
       "      <td>...</td>\n",
       "      <td>...</td>\n",
       "      <td>...</td>\n",
       "      <td>...</td>\n",
       "      <td>...</td>\n",
       "      <td>...</td>\n",
       "      <td>...</td>\n",
       "      <td>...</td>\n",
       "      <td>...</td>\n",
       "      <td>...</td>\n",
       "      <td>...</td>\n",
       "      <td>...</td>\n",
       "      <td>...</td>\n",
       "    </tr>\n",
       "    <tr>\n",
       "      <th>10902</th>\n",
       "      <td>PP30874</td>\n",
       "      <td>California</td>\n",
       "      <td>3579.023825</td>\n",
       "      <td>No</td>\n",
       "      <td>Extended</td>\n",
       "      <td>High School or Below</td>\n",
       "      <td>1/24/11</td>\n",
       "      <td>January</td>\n",
       "      <td>Employed</td>\n",
       "      <td>F</td>\n",
       "      <td>...</td>\n",
       "      <td>2.0</td>\n",
       "      <td>1</td>\n",
       "      <td>Personal Auto</td>\n",
       "      <td>Personal L2</td>\n",
       "      <td>Offer2</td>\n",
       "      <td>Agent</td>\n",
       "      <td>655.200000</td>\n",
       "      <td>Four-Door Car</td>\n",
       "      <td>Medsize</td>\n",
       "      <td>A</td>\n",
       "    </tr>\n",
       "    <tr>\n",
       "      <th>10903</th>\n",
       "      <td>SU71163</td>\n",
       "      <td>Arizona</td>\n",
       "      <td>2771.663013</td>\n",
       "      <td>No</td>\n",
       "      <td>Basic</td>\n",
       "      <td>College</td>\n",
       "      <td>1/7/11</td>\n",
       "      <td>January</td>\n",
       "      <td>Employed</td>\n",
       "      <td>M</td>\n",
       "      <td>...</td>\n",
       "      <td>4.0</td>\n",
       "      <td>1</td>\n",
       "      <td>Personal Auto</td>\n",
       "      <td>Personal L2</td>\n",
       "      <td>Offer2</td>\n",
       "      <td>Branch</td>\n",
       "      <td>355.200000</td>\n",
       "      <td>Two-Door Car</td>\n",
       "      <td>Medsize</td>\n",
       "      <td>A</td>\n",
       "    </tr>\n",
       "    <tr>\n",
       "      <th>10904</th>\n",
       "      <td>QI63521</td>\n",
       "      <td>Nevada</td>\n",
       "      <td>19228.463620</td>\n",
       "      <td>No</td>\n",
       "      <td>Basic</td>\n",
       "      <td>High School or Below</td>\n",
       "      <td>2/24/11</td>\n",
       "      <td>February</td>\n",
       "      <td>Unemployed</td>\n",
       "      <td>M</td>\n",
       "      <td>...</td>\n",
       "      <td>0.0</td>\n",
       "      <td>2</td>\n",
       "      <td>Personal Auto</td>\n",
       "      <td>Personal L2</td>\n",
       "      <td>Offer1</td>\n",
       "      <td>Branch</td>\n",
       "      <td>897.600000</td>\n",
       "      <td>Luxury SUV</td>\n",
       "      <td>Medsize</td>\n",
       "      <td>A</td>\n",
       "    </tr>\n",
       "    <tr>\n",
       "      <th>10906</th>\n",
       "      <td>KX53892</td>\n",
       "      <td>Oregon</td>\n",
       "      <td>5259.444853</td>\n",
       "      <td>No</td>\n",
       "      <td>Basic</td>\n",
       "      <td>College</td>\n",
       "      <td>1/6/11</td>\n",
       "      <td>January</td>\n",
       "      <td>Employed</td>\n",
       "      <td>F</td>\n",
       "      <td>...</td>\n",
       "      <td>0.0</td>\n",
       "      <td>6</td>\n",
       "      <td>Personal Auto</td>\n",
       "      <td>Personal L3</td>\n",
       "      <td>Offer2</td>\n",
       "      <td>Branch</td>\n",
       "      <td>273.018929</td>\n",
       "      <td>Four-Door Car</td>\n",
       "      <td>Medsize</td>\n",
       "      <td>A</td>\n",
       "    </tr>\n",
       "    <tr>\n",
       "      <th>10908</th>\n",
       "      <td>WA60547</td>\n",
       "      <td>California</td>\n",
       "      <td>11971.977650</td>\n",
       "      <td>No</td>\n",
       "      <td>Premium</td>\n",
       "      <td>College</td>\n",
       "      <td>2/13/11</td>\n",
       "      <td>February</td>\n",
       "      <td>Employed</td>\n",
       "      <td>F</td>\n",
       "      <td>...</td>\n",
       "      <td>4.0</td>\n",
       "      <td>6</td>\n",
       "      <td>Personal Auto</td>\n",
       "      <td>Personal L1</td>\n",
       "      <td>Offer1</td>\n",
       "      <td>Branch</td>\n",
       "      <td>618.288849</td>\n",
       "      <td>SUV</td>\n",
       "      <td>Medsize</td>\n",
       "      <td>A</td>\n",
       "    </tr>\n",
       "  </tbody>\n",
       "</table>\n",
       "<p>4543 rows × 26 columns</p>\n",
       "</div>"
      ],
      "text/plain": [
       "      Customer       State  Customer Lifetime Value Response  Coverage  \\\n",
       "2      LZ68649  Washington             14947.917300       No     Basic   \n",
       "3      XL78013      Oregon             22332.439460      Yes  Extended   \n",
       "10     HG93801     Arizona              5154.764074       No  Extended   \n",
       "13     KR82385  California              5454.587929       No     Basic   \n",
       "16     FH51383  California              5326.677654       No     Basic   \n",
       "...        ...         ...                      ...      ...       ...   \n",
       "10902  PP30874  California              3579.023825       No  Extended   \n",
       "10903  SU71163     Arizona              2771.663013       No     Basic   \n",
       "10904  QI63521      Nevada             19228.463620       No     Basic   \n",
       "10906  KX53892      Oregon              5259.444853       No     Basic   \n",
       "10908  WA60547  California             11971.977650       No   Premium   \n",
       "\n",
       "                  Education Effective To Date     Month EmploymentStatus  \\\n",
       "2                  Bachelor           2/10/11  February         Employed   \n",
       "3                   College           1/11/11   January         Employed   \n",
       "10     High School or Below            1/2/11   January         Employed   \n",
       "13                   Master           1/26/11   January         Employed   \n",
       "16     High School or Below            2/7/11  February         Employed   \n",
       "...                     ...               ...       ...              ...   \n",
       "10902  High School or Below           1/24/11   January         Employed   \n",
       "10903               College            1/7/11   January         Employed   \n",
       "10904  High School or Below           2/24/11  February       Unemployed   \n",
       "10906               College            1/6/11   January         Employed   \n",
       "10908               College           2/13/11  February         Employed   \n",
       "\n",
       "      Gender  ...  Number of Open Complaints Number of Policies  \\\n",
       "2          M  ...                        0.0                  2   \n",
       "3          M  ...                        0.0                  2   \n",
       "10         M  ...                        0.0                  1   \n",
       "13         M  ...                        0.0                  4   \n",
       "16         F  ...                        0.0                  6   \n",
       "...      ...  ...                        ...                ...   \n",
       "10902      F  ...                        2.0                  1   \n",
       "10903      M  ...                        4.0                  1   \n",
       "10904      M  ...                        0.0                  2   \n",
       "10906      F  ...                        0.0                  6   \n",
       "10908      F  ...                        4.0                  6   \n",
       "\n",
       "          Policy Type        Policy  Renew Offer Type  Sales Channel  \\\n",
       "2       Personal Auto   Personal L3            Offer3    Call Center   \n",
       "3      Corporate Auto  Corporate L3            Offer2         Branch   \n",
       "10     Corporate Auto  Corporate L3            Offer2         Branch   \n",
       "13      Personal Auto   Personal L3            Offer4    Call Center   \n",
       "16      Personal Auto   Personal L3            Offer4    Call Center   \n",
       "...               ...           ...               ...            ...   \n",
       "10902   Personal Auto   Personal L2            Offer2          Agent   \n",
       "10903   Personal Auto   Personal L2            Offer2         Branch   \n",
       "10904   Personal Auto   Personal L2            Offer1         Branch   \n",
       "10906   Personal Auto   Personal L3            Offer2         Branch   \n",
       "10908   Personal Auto   Personal L1            Offer1         Branch   \n",
       "\n",
       "       Total Claim Amount  Vehicle Class Vehicle Size Vehicle Type  \n",
       "2              480.000000            SUV      Medsize            A  \n",
       "3              484.013411  Four-Door Car      Medsize            A  \n",
       "10             442.521087            SUV        Large            A  \n",
       "13             331.200000   Two-Door Car      Medsize            A  \n",
       "16             300.528579   Two-Door Car        Large            A  \n",
       "...                   ...            ...          ...          ...  \n",
       "10902          655.200000  Four-Door Car      Medsize            A  \n",
       "10903          355.200000   Two-Door Car      Medsize            A  \n",
       "10904          897.600000     Luxury SUV      Medsize            A  \n",
       "10906          273.018929  Four-Door Car      Medsize            A  \n",
       "10908          618.288849            SUV      Medsize            A  \n",
       "\n",
       "[4543 rows x 26 columns]"
      ]
     },
     "execution_count": 1216,
     "metadata": {},
     "output_type": "execute_result"
    }
   ],
   "source": [
    "insurance_df"
   ]
  },
  {
   "cell_type": "code",
   "execution_count": 1217,
   "id": "097b0d3f",
   "metadata": {},
   "outputs": [
    {
     "name": "stdout",
     "output_type": "stream",
     "text": [
      "1904.000852\n",
      "83325.38119\n"
     ]
    }
   ],
   "source": [
    "print(min(numerical_df['Customer Lifetime Value']))\n",
    "print(max(numerical_df['Customer Lifetime Value']))"
   ]
  },
  {
   "cell_type": "code",
   "execution_count": 1218,
   "id": "85e524b2",
   "metadata": {},
   "outputs": [
    {
     "data": {
      "text/plain": [
       "<AxesSubplot:xlabel='Customer Lifetime Value', ylabel='count'>"
      ]
     },
     "execution_count": 1218,
     "metadata": {},
     "output_type": "execute_result"
    },
    {
     "data": {
      "image/png": "[encoded data removed]",
      "text/plain": [
       "<Figure size 432x288 with 1 Axes>"
      ]
     },
     "metadata": {
      "needs_background": "light"
     },
     "output_type": "display_data"
    }
   ],
   "source": [
    "sns.countplot(x = pd.cut(insurance_df[\"Customer Lifetime Value\"]\n",
    "                         , bins=[0,20000,40000,60000,80000]\n",
    "                         ,labels=[\"low\",\"medium\",\"high\",\"very_high\"])\n",
    "              ,y = None, hue=categorical_df[\"Sales Channel\"], palette=sns.color_palette(\"Paired\"))"
   ]
  },
  {
   "cell_type": "markdown",
   "id": "f20ba713",
   "metadata": {},
   "source": [
    "# Modelling\n",
    "- Xy Split\n",
    "- split in numeric & categorical\n",
    "- get dummies\n",
    "- concat\n",
    "- Data Split in Train/Test\n",
    "- Standardize\n",
    "- Model "
   ]
  },
  {
   "cell_type": "code",
   "execution_count": 1219,
   "id": "8e43072b",
   "metadata": {},
   "outputs": [],
   "source": [
    "import numpy as np\n",
    "import pandas as pd\n",
    "import matplotlib.pyplot as plt\n",
    "%matplotlib inline\n",
    "import seaborn as sns\n",
    "from sklearn.preprocessing import StandardScaler\n",
    "from sklearn.preprocessing import minmax_scale\n",
    "from sklearn.preprocessing import OneHotEncoder\n",
    "from sklearn.preprocessing import QuantileTransformer\n",
    "from sklearn.linear_model import LinearRegression\n",
    "from sklearn.model_selection import train_test_split\n",
    "from sklearn.preprocessing import PowerTransformer\n",
    "from sklearn.linear_model import LinearRegression\n",
    "import statsmodels.api as sm\n",
    "from scipy.stats import boxcox\n",
    "from sklearn.model_selection import train_test_split\n",
    "from sklearn.metrics import r2_score\n",
    "from sklearn.metrics import mean_squared_error as mse\n",
    "from sklearn.metrics import mean_absolute_error as mae\n",
    "pd.options.display.max_rows = 50"
   ]
  },
  {
   "cell_type": "markdown",
   "id": "6d4ec05e",
   "metadata": {},
   "source": [
    "## X-y Split\n",
    "Remove the target variable, which you want to make predictions about."
   ]
  },
  {
   "cell_type": "code",
   "execution_count": 1220,
   "id": "2d1bb108",
   "metadata": {},
   "outputs": [],
   "source": [
    "X=insurance_df.drop('Total Claim Amount', axis=1) ## drop the target\n",
    "y=insurance_df['Total Claim Amount'] ## save it as y "
   ]
  },
  {
   "cell_type": "code",
   "execution_count": 1221,
   "id": "128d2219",
   "metadata": {},
   "outputs": [],
   "source": [
    "## handle as categorical variables\n",
    "X.drop(['Number of Open Complaints', 'Number of Policies'], axis=1, inplace=True) "
   ]
  },
  {
   "cell_type": "code",
   "execution_count": 1222,
   "id": "0a64f185",
   "metadata": {},
   "outputs": [
    {
     "data": {
      "text/html": [
       "<div>\n",
       "<style scoped>\n",
       "    .dataframe tbody tr th:only-of-type {\n",
       "        vertical-align: middle;\n",
       "    }\n",
       "\n",
       "    .dataframe tbody tr th {\n",
       "        vertical-align: top;\n",
       "    }\n",
       "\n",
       "    .dataframe thead th {\n",
       "        text-align: right;\n",
       "    }\n",
       "</style>\n",
       "<table border=\"1\" class=\"dataframe\">\n",
       "  <thead>\n",
       "    <tr style=\"text-align: right;\">\n",
       "      <th></th>\n",
       "      <th>Customer Lifetime Value</th>\n",
       "      <th>Income</th>\n",
       "      <th>Monthly Premium Auto</th>\n",
       "      <th>Months Since Last Claim</th>\n",
       "      <th>Months Since Policy Inception</th>\n",
       "    </tr>\n",
       "  </thead>\n",
       "  <tbody>\n",
       "    <tr>\n",
       "      <th>2</th>\n",
       "      <td>14947.917300</td>\n",
       "      <td>22139</td>\n",
       "      <td>100</td>\n",
       "      <td>34.0</td>\n",
       "      <td>31</td>\n",
       "    </tr>\n",
       "    <tr>\n",
       "      <th>3</th>\n",
       "      <td>22332.439460</td>\n",
       "      <td>49078</td>\n",
       "      <td>97</td>\n",
       "      <td>10.0</td>\n",
       "      <td>3</td>\n",
       "    </tr>\n",
       "    <tr>\n",
       "      <th>10</th>\n",
       "      <td>5154.764074</td>\n",
       "      <td>82730</td>\n",
       "      <td>127</td>\n",
       "      <td>13.0</td>\n",
       "      <td>31</td>\n",
       "    </tr>\n",
       "    <tr>\n",
       "      <th>13</th>\n",
       "      <td>5454.587929</td>\n",
       "      <td>66334</td>\n",
       "      <td>69</td>\n",
       "      <td>25.0</td>\n",
       "      <td>25</td>\n",
       "    </tr>\n",
       "    <tr>\n",
       "      <th>16</th>\n",
       "      <td>5326.677654</td>\n",
       "      <td>76717</td>\n",
       "      <td>66</td>\n",
       "      <td>26.0</td>\n",
       "      <td>10</td>\n",
       "    </tr>\n",
       "  </tbody>\n",
       "</table>\n",
       "</div>"
      ],
      "text/plain": [
       "    Customer Lifetime Value  Income  Monthly Premium Auto  \\\n",
       "2              14947.917300   22139                   100   \n",
       "3              22332.439460   49078                    97   \n",
       "10              5154.764074   82730                   127   \n",
       "13              5454.587929   66334                    69   \n",
       "16              5326.677654   76717                    66   \n",
       "\n",
       "    Months Since Last Claim  Months Since Policy Inception  \n",
       "2                      34.0                             31  \n",
       "3                      10.0                              3  \n",
       "10                     13.0                             31  \n",
       "13                     25.0                             25  \n",
       "16                     26.0                             10  "
      ]
     },
     "execution_count": 1222,
     "metadata": {},
     "output_type": "execute_result"
    }
   ],
   "source": [
    "X=X._get_numeric_data()\n",
    "X.head()"
   ]
  },
  {
   "cell_type": "code",
   "execution_count": 1223,
   "id": "fd6f6ad6",
   "metadata": {},
   "outputs": [
    {
     "data": {
      "text/html": [
       "<div>\n",
       "<style scoped>\n",
       "    .dataframe tbody tr th:only-of-type {\n",
       "        vertical-align: middle;\n",
       "    }\n",
       "\n",
       "    .dataframe tbody tr th {\n",
       "        vertical-align: top;\n",
       "    }\n",
       "\n",
       "    .dataframe thead th {\n",
       "        text-align: right;\n",
       "    }\n",
       "</style>\n",
       "<table border=\"1\" class=\"dataframe\">\n",
       "  <thead>\n",
       "    <tr style=\"text-align: right;\">\n",
       "      <th></th>\n",
       "      <th>Customer Lifetime Value</th>\n",
       "      <th>Income</th>\n",
       "      <th>Monthly Premium Auto</th>\n",
       "      <th>Months Since Last Claim</th>\n",
       "      <th>Months Since Policy Inception</th>\n",
       "    </tr>\n",
       "  </thead>\n",
       "  <tbody>\n",
       "    <tr>\n",
       "      <th>2</th>\n",
       "      <td>14947.917300</td>\n",
       "      <td>22139</td>\n",
       "      <td>100</td>\n",
       "      <td>34.0</td>\n",
       "      <td>31</td>\n",
       "    </tr>\n",
       "    <tr>\n",
       "      <th>3</th>\n",
       "      <td>22332.439460</td>\n",
       "      <td>49078</td>\n",
       "      <td>97</td>\n",
       "      <td>10.0</td>\n",
       "      <td>3</td>\n",
       "    </tr>\n",
       "    <tr>\n",
       "      <th>10</th>\n",
       "      <td>5154.764074</td>\n",
       "      <td>82730</td>\n",
       "      <td>127</td>\n",
       "      <td>13.0</td>\n",
       "      <td>31</td>\n",
       "    </tr>\n",
       "    <tr>\n",
       "      <th>13</th>\n",
       "      <td>5454.587929</td>\n",
       "      <td>66334</td>\n",
       "      <td>69</td>\n",
       "      <td>25.0</td>\n",
       "      <td>25</td>\n",
       "    </tr>\n",
       "    <tr>\n",
       "      <th>16</th>\n",
       "      <td>5326.677654</td>\n",
       "      <td>76717</td>\n",
       "      <td>66</td>\n",
       "      <td>26.0</td>\n",
       "      <td>10</td>\n",
       "    </tr>\n",
       "  </tbody>\n",
       "</table>\n",
       "</div>"
      ],
      "text/plain": [
       "    Customer Lifetime Value  Income  Monthly Premium Auto  \\\n",
       "2              14947.917300   22139                   100   \n",
       "3              22332.439460   49078                    97   \n",
       "10              5154.764074   82730                   127   \n",
       "13              5454.587929   66334                    69   \n",
       "16              5326.677654   76717                    66   \n",
       "\n",
       "    Months Since Last Claim  Months Since Policy Inception  \n",
       "2                      34.0                             31  \n",
       "3                      10.0                              3  \n",
       "10                     13.0                             31  \n",
       "13                     25.0                             25  \n",
       "16                     26.0                             10  "
      ]
     },
     "execution_count": 1223,
     "metadata": {},
     "output_type": "execute_result"
    }
   ],
   "source": [
    "X.reset_index(drop=True)\n",
    "X.head()"
   ]
  },
  {
   "cell_type": "code",
   "execution_count": 1224,
   "id": "36f031bf",
   "metadata": {},
   "outputs": [
    {
     "data": {
      "text/plain": [
       "Index(['Customer', 'State', 'Response', 'Coverage', 'Education',\n",
       "       'Effective To Date', 'Month', 'EmploymentStatus', 'Gender',\n",
       "       'Location Code', 'Marital Status', 'Policy Type', 'Policy',\n",
       "       'Renew Offer Type', 'Sales Channel', 'Vehicle Class', 'Vehicle Size',\n",
       "       'Vehicle Type'],\n",
       "      dtype='object')"
      ]
     },
     "execution_count": 1224,
     "metadata": {},
     "output_type": "execute_result"
    }
   ],
   "source": [
    "## select categorical features\n",
    "categoricals_features= insurance_df.select_dtypes(\"object\")\n",
    "categoricals_features.columns"
   ]
  },
  {
   "cell_type": "code",
   "execution_count": 1225,
   "id": "f0d33993",
   "metadata": {},
   "outputs": [
    {
     "name": "stderr",
     "output_type": "stream",
     "text": [
      "/Users/selenaeberwein/opt/anaconda3/envs/DA_Env/lib/python3.9/site-packages/pandas/core/frame.py:4906: SettingWithCopyWarning: \n",
      "A value is trying to be set on a copy of a slice from a DataFrame\n",
      "\n",
      "See the caveats in the documentation: https://pandas.pydata.org/pandas-docs/stable/user_guide/indexing.html#returning-a-view-versus-a-copy\n",
      "  return super().drop(\n"
     ]
    }
   ],
   "source": [
    "## drop columns which (in my objection) don't impact the total claim amount\n",
    "categoricals_features.drop(['Customer', 'Effective To Date', 'Sales Channel', 'Renew Offer Type'], axis=1, inplace=True) "
   ]
  },
  {
   "cell_type": "code",
   "execution_count": 1226,
   "id": "5bcd89fe",
   "metadata": {},
   "outputs": [
    {
     "data": {
      "text/plain": [
       "Index(['State', 'Response', 'Coverage', 'Education', 'Month',\n",
       "       'EmploymentStatus', 'Gender', 'Location Code', 'Marital Status',\n",
       "       'Policy Type', 'Policy', 'Vehicle Class', 'Vehicle Size',\n",
       "       'Vehicle Type'],\n",
       "      dtype='object')"
      ]
     },
     "execution_count": 1226,
     "metadata": {},
     "output_type": "execute_result"
    }
   ],
   "source": [
    "categoricals_features.columns"
   ]
  },
  {
   "cell_type": "code",
   "execution_count": 1227,
   "id": "8a09c0d4",
   "metadata": {},
   "outputs": [
    {
     "data": {
      "text/html": [
       "<div>\n",
       "<style scoped>\n",
       "    .dataframe tbody tr th:only-of-type {\n",
       "        vertical-align: middle;\n",
       "    }\n",
       "\n",
       "    .dataframe tbody tr th {\n",
       "        vertical-align: top;\n",
       "    }\n",
       "\n",
       "    .dataframe thead th {\n",
       "        text-align: right;\n",
       "    }\n",
       "</style>\n",
       "<table border=\"1\" class=\"dataframe\">\n",
       "  <thead>\n",
       "    <tr style=\"text-align: right;\">\n",
       "      <th></th>\n",
       "      <th>State_California</th>\n",
       "      <th>State_Nevada</th>\n",
       "      <th>State_Oregon</th>\n",
       "      <th>State_Washington</th>\n",
       "      <th>Response_Yes</th>\n",
       "      <th>Coverage_Extended</th>\n",
       "      <th>Coverage_Premium</th>\n",
       "      <th>Education_College</th>\n",
       "      <th>Education_Doctor</th>\n",
       "      <th>Education_High School or Below</th>\n",
       "      <th>...</th>\n",
       "      <th>Policy_Special L1</th>\n",
       "      <th>Policy_Special L2</th>\n",
       "      <th>Policy_Special L3</th>\n",
       "      <th>Vehicle Class_Luxury Car</th>\n",
       "      <th>Vehicle Class_Luxury SUV</th>\n",
       "      <th>Vehicle Class_SUV</th>\n",
       "      <th>Vehicle Class_Sports Car</th>\n",
       "      <th>Vehicle Class_Two-Door Car</th>\n",
       "      <th>Vehicle Size_Medsize</th>\n",
       "      <th>Vehicle Size_Small</th>\n",
       "    </tr>\n",
       "  </thead>\n",
       "  <tbody>\n",
       "    <tr>\n",
       "      <th>2</th>\n",
       "      <td>0</td>\n",
       "      <td>0</td>\n",
       "      <td>0</td>\n",
       "      <td>1</td>\n",
       "      <td>0</td>\n",
       "      <td>0</td>\n",
       "      <td>0</td>\n",
       "      <td>0</td>\n",
       "      <td>0</td>\n",
       "      <td>0</td>\n",
       "      <td>...</td>\n",
       "      <td>0</td>\n",
       "      <td>0</td>\n",
       "      <td>0</td>\n",
       "      <td>0</td>\n",
       "      <td>0</td>\n",
       "      <td>1</td>\n",
       "      <td>0</td>\n",
       "      <td>0</td>\n",
       "      <td>1</td>\n",
       "      <td>0</td>\n",
       "    </tr>\n",
       "    <tr>\n",
       "      <th>3</th>\n",
       "      <td>0</td>\n",
       "      <td>0</td>\n",
       "      <td>1</td>\n",
       "      <td>0</td>\n",
       "      <td>1</td>\n",
       "      <td>1</td>\n",
       "      <td>0</td>\n",
       "      <td>1</td>\n",
       "      <td>0</td>\n",
       "      <td>0</td>\n",
       "      <td>...</td>\n",
       "      <td>0</td>\n",
       "      <td>0</td>\n",
       "      <td>0</td>\n",
       "      <td>0</td>\n",
       "      <td>0</td>\n",
       "      <td>0</td>\n",
       "      <td>0</td>\n",
       "      <td>0</td>\n",
       "      <td>1</td>\n",
       "      <td>0</td>\n",
       "    </tr>\n",
       "    <tr>\n",
       "      <th>10</th>\n",
       "      <td>0</td>\n",
       "      <td>0</td>\n",
       "      <td>0</td>\n",
       "      <td>0</td>\n",
       "      <td>0</td>\n",
       "      <td>1</td>\n",
       "      <td>0</td>\n",
       "      <td>0</td>\n",
       "      <td>0</td>\n",
       "      <td>1</td>\n",
       "      <td>...</td>\n",
       "      <td>0</td>\n",
       "      <td>0</td>\n",
       "      <td>0</td>\n",
       "      <td>0</td>\n",
       "      <td>0</td>\n",
       "      <td>1</td>\n",
       "      <td>0</td>\n",
       "      <td>0</td>\n",
       "      <td>0</td>\n",
       "      <td>0</td>\n",
       "    </tr>\n",
       "    <tr>\n",
       "      <th>13</th>\n",
       "      <td>1</td>\n",
       "      <td>0</td>\n",
       "      <td>0</td>\n",
       "      <td>0</td>\n",
       "      <td>0</td>\n",
       "      <td>0</td>\n",
       "      <td>0</td>\n",
       "      <td>0</td>\n",
       "      <td>0</td>\n",
       "      <td>0</td>\n",
       "      <td>...</td>\n",
       "      <td>0</td>\n",
       "      <td>0</td>\n",
       "      <td>0</td>\n",
       "      <td>0</td>\n",
       "      <td>0</td>\n",
       "      <td>0</td>\n",
       "      <td>0</td>\n",
       "      <td>1</td>\n",
       "      <td>1</td>\n",
       "      <td>0</td>\n",
       "    </tr>\n",
       "    <tr>\n",
       "      <th>16</th>\n",
       "      <td>1</td>\n",
       "      <td>0</td>\n",
       "      <td>0</td>\n",
       "      <td>0</td>\n",
       "      <td>0</td>\n",
       "      <td>0</td>\n",
       "      <td>0</td>\n",
       "      <td>0</td>\n",
       "      <td>0</td>\n",
       "      <td>1</td>\n",
       "      <td>...</td>\n",
       "      <td>0</td>\n",
       "      <td>0</td>\n",
       "      <td>0</td>\n",
       "      <td>0</td>\n",
       "      <td>0</td>\n",
       "      <td>0</td>\n",
       "      <td>0</td>\n",
       "      <td>1</td>\n",
       "      <td>0</td>\n",
       "      <td>0</td>\n",
       "    </tr>\n",
       "  </tbody>\n",
       "</table>\n",
       "<p>5 rows × 38 columns</p>\n",
       "</div>"
      ],
      "text/plain": [
       "    State_California  State_Nevada  State_Oregon  State_Washington  \\\n",
       "2                  0             0             0                 1   \n",
       "3                  0             0             1                 0   \n",
       "10                 0             0             0                 0   \n",
       "13                 1             0             0                 0   \n",
       "16                 1             0             0                 0   \n",
       "\n",
       "    Response_Yes  Coverage_Extended  Coverage_Premium  Education_College  \\\n",
       "2              0                  0                 0                  0   \n",
       "3              1                  1                 0                  1   \n",
       "10             0                  1                 0                  0   \n",
       "13             0                  0                 0                  0   \n",
       "16             0                  0                 0                  0   \n",
       "\n",
       "    Education_Doctor  Education_High School or Below  ...  Policy_Special L1  \\\n",
       "2                  0                               0  ...                  0   \n",
       "3                  0                               0  ...                  0   \n",
       "10                 0                               1  ...                  0   \n",
       "13                 0                               0  ...                  0   \n",
       "16                 0                               1  ...                  0   \n",
       "\n",
       "    Policy_Special L2  Policy_Special L3  Vehicle Class_Luxury Car  \\\n",
       "2                   0                  0                         0   \n",
       "3                   0                  0                         0   \n",
       "10                  0                  0                         0   \n",
       "13                  0                  0                         0   \n",
       "16                  0                  0                         0   \n",
       "\n",
       "    Vehicle Class_Luxury SUV  Vehicle Class_SUV  Vehicle Class_Sports Car  \\\n",
       "2                          0                  1                         0   \n",
       "3                          0                  0                         0   \n",
       "10                         0                  1                         0   \n",
       "13                         0                  0                         0   \n",
       "16                         0                  0                         0   \n",
       "\n",
       "    Vehicle Class_Two-Door Car  Vehicle Size_Medsize  Vehicle Size_Small  \n",
       "2                            0                     1                   0  \n",
       "3                            0                     1                   0  \n",
       "10                           0                     0                   0  \n",
       "13                           1                     1                   0  \n",
       "16                           1                     0                   0  \n",
       "\n",
       "[5 rows x 38 columns]"
      ]
     },
     "execution_count": 1227,
     "metadata": {},
     "output_type": "execute_result"
    }
   ],
   "source": [
    "categoricals_features=pd.get_dummies(categoricals_features[['State', 'Response', 'Coverage', 'Education', 'Month',\n",
    "       'EmploymentStatus', 'Gender', 'Location Code', 'Marital Status',\n",
    "       'Policy Type', 'Policy', 'Vehicle Class', 'Vehicle Size',\n",
    "       'Vehicle Type']], drop_first=True)\n",
    "categoricals_features.head()"
   ]
  },
  {
   "cell_type": "code",
   "execution_count": 1228,
   "id": "9e79bc4b",
   "metadata": {},
   "outputs": [
    {
     "data": {
      "text/html": [
       "<div>\n",
       "<style scoped>\n",
       "    .dataframe tbody tr th:only-of-type {\n",
       "        vertical-align: middle;\n",
       "    }\n",
       "\n",
       "    .dataframe tbody tr th {\n",
       "        vertical-align: top;\n",
       "    }\n",
       "\n",
       "    .dataframe thead th {\n",
       "        text-align: right;\n",
       "    }\n",
       "</style>\n",
       "<table border=\"1\" class=\"dataframe\">\n",
       "  <thead>\n",
       "    <tr style=\"text-align: right;\">\n",
       "      <th></th>\n",
       "      <th>State_California</th>\n",
       "      <th>State_Nevada</th>\n",
       "      <th>State_Oregon</th>\n",
       "      <th>State_Washington</th>\n",
       "      <th>Response_Yes</th>\n",
       "      <th>Coverage_Extended</th>\n",
       "      <th>Coverage_Premium</th>\n",
       "      <th>Education_College</th>\n",
       "      <th>Education_Doctor</th>\n",
       "      <th>Education_High School or Below</th>\n",
       "      <th>...</th>\n",
       "      <th>Policy_Special L1</th>\n",
       "      <th>Policy_Special L2</th>\n",
       "      <th>Policy_Special L3</th>\n",
       "      <th>Vehicle Class_Luxury Car</th>\n",
       "      <th>Vehicle Class_Luxury SUV</th>\n",
       "      <th>Vehicle Class_SUV</th>\n",
       "      <th>Vehicle Class_Sports Car</th>\n",
       "      <th>Vehicle Class_Two-Door Car</th>\n",
       "      <th>Vehicle Size_Medsize</th>\n",
       "      <th>Vehicle Size_Small</th>\n",
       "    </tr>\n",
       "  </thead>\n",
       "  <tbody>\n",
       "    <tr>\n",
       "      <th>2</th>\n",
       "      <td>0</td>\n",
       "      <td>0</td>\n",
       "      <td>0</td>\n",
       "      <td>1</td>\n",
       "      <td>0</td>\n",
       "      <td>0</td>\n",
       "      <td>0</td>\n",
       "      <td>0</td>\n",
       "      <td>0</td>\n",
       "      <td>0</td>\n",
       "      <td>...</td>\n",
       "      <td>0</td>\n",
       "      <td>0</td>\n",
       "      <td>0</td>\n",
       "      <td>0</td>\n",
       "      <td>0</td>\n",
       "      <td>1</td>\n",
       "      <td>0</td>\n",
       "      <td>0</td>\n",
       "      <td>1</td>\n",
       "      <td>0</td>\n",
       "    </tr>\n",
       "    <tr>\n",
       "      <th>3</th>\n",
       "      <td>0</td>\n",
       "      <td>0</td>\n",
       "      <td>1</td>\n",
       "      <td>0</td>\n",
       "      <td>1</td>\n",
       "      <td>1</td>\n",
       "      <td>0</td>\n",
       "      <td>1</td>\n",
       "      <td>0</td>\n",
       "      <td>0</td>\n",
       "      <td>...</td>\n",
       "      <td>0</td>\n",
       "      <td>0</td>\n",
       "      <td>0</td>\n",
       "      <td>0</td>\n",
       "      <td>0</td>\n",
       "      <td>0</td>\n",
       "      <td>0</td>\n",
       "      <td>0</td>\n",
       "      <td>1</td>\n",
       "      <td>0</td>\n",
       "    </tr>\n",
       "    <tr>\n",
       "      <th>10</th>\n",
       "      <td>0</td>\n",
       "      <td>0</td>\n",
       "      <td>0</td>\n",
       "      <td>0</td>\n",
       "      <td>0</td>\n",
       "      <td>1</td>\n",
       "      <td>0</td>\n",
       "      <td>0</td>\n",
       "      <td>0</td>\n",
       "      <td>1</td>\n",
       "      <td>...</td>\n",
       "      <td>0</td>\n",
       "      <td>0</td>\n",
       "      <td>0</td>\n",
       "      <td>0</td>\n",
       "      <td>0</td>\n",
       "      <td>1</td>\n",
       "      <td>0</td>\n",
       "      <td>0</td>\n",
       "      <td>0</td>\n",
       "      <td>0</td>\n",
       "    </tr>\n",
       "    <tr>\n",
       "      <th>13</th>\n",
       "      <td>1</td>\n",
       "      <td>0</td>\n",
       "      <td>0</td>\n",
       "      <td>0</td>\n",
       "      <td>0</td>\n",
       "      <td>0</td>\n",
       "      <td>0</td>\n",
       "      <td>0</td>\n",
       "      <td>0</td>\n",
       "      <td>0</td>\n",
       "      <td>...</td>\n",
       "      <td>0</td>\n",
       "      <td>0</td>\n",
       "      <td>0</td>\n",
       "      <td>0</td>\n",
       "      <td>0</td>\n",
       "      <td>0</td>\n",
       "      <td>0</td>\n",
       "      <td>1</td>\n",
       "      <td>1</td>\n",
       "      <td>0</td>\n",
       "    </tr>\n",
       "    <tr>\n",
       "      <th>16</th>\n",
       "      <td>1</td>\n",
       "      <td>0</td>\n",
       "      <td>0</td>\n",
       "      <td>0</td>\n",
       "      <td>0</td>\n",
       "      <td>0</td>\n",
       "      <td>0</td>\n",
       "      <td>0</td>\n",
       "      <td>0</td>\n",
       "      <td>1</td>\n",
       "      <td>...</td>\n",
       "      <td>0</td>\n",
       "      <td>0</td>\n",
       "      <td>0</td>\n",
       "      <td>0</td>\n",
       "      <td>0</td>\n",
       "      <td>0</td>\n",
       "      <td>0</td>\n",
       "      <td>1</td>\n",
       "      <td>0</td>\n",
       "      <td>0</td>\n",
       "    </tr>\n",
       "  </tbody>\n",
       "</table>\n",
       "<p>5 rows × 38 columns</p>\n",
       "</div>"
      ],
      "text/plain": [
       "    State_California  State_Nevada  State_Oregon  State_Washington  \\\n",
       "2                  0             0             0                 1   \n",
       "3                  0             0             1                 0   \n",
       "10                 0             0             0                 0   \n",
       "13                 1             0             0                 0   \n",
       "16                 1             0             0                 0   \n",
       "\n",
       "    Response_Yes  Coverage_Extended  Coverage_Premium  Education_College  \\\n",
       "2              0                  0                 0                  0   \n",
       "3              1                  1                 0                  1   \n",
       "10             0                  1                 0                  0   \n",
       "13             0                  0                 0                  0   \n",
       "16             0                  0                 0                  0   \n",
       "\n",
       "    Education_Doctor  Education_High School or Below  ...  Policy_Special L1  \\\n",
       "2                  0                               0  ...                  0   \n",
       "3                  0                               0  ...                  0   \n",
       "10                 0                               1  ...                  0   \n",
       "13                 0                               0  ...                  0   \n",
       "16                 0                               1  ...                  0   \n",
       "\n",
       "    Policy_Special L2  Policy_Special L3  Vehicle Class_Luxury Car  \\\n",
       "2                   0                  0                         0   \n",
       "3                   0                  0                         0   \n",
       "10                  0                  0                         0   \n",
       "13                  0                  0                         0   \n",
       "16                  0                  0                         0   \n",
       "\n",
       "    Vehicle Class_Luxury SUV  Vehicle Class_SUV  Vehicle Class_Sports Car  \\\n",
       "2                          0                  1                         0   \n",
       "3                          0                  0                         0   \n",
       "10                         0                  1                         0   \n",
       "13                         0                  0                         0   \n",
       "16                         0                  0                         0   \n",
       "\n",
       "    Vehicle Class_Two-Door Car  Vehicle Size_Medsize  Vehicle Size_Small  \n",
       "2                            0                     1                   0  \n",
       "3                            0                     1                   0  \n",
       "10                           0                     0                   0  \n",
       "13                           1                     1                   0  \n",
       "16                           1                     0                   0  \n",
       "\n",
       "[5 rows x 38 columns]"
      ]
     },
     "execution_count": 1228,
     "metadata": {},
     "output_type": "execute_result"
    }
   ],
   "source": [
    "## drop index so the categoricals can be concatinated with the numericals\n",
    "categoricals_features.reset_index(drop=True)\n",
    "categoricals_features.head()"
   ]
  },
  {
   "cell_type": "code",
   "execution_count": 1229,
   "id": "ca0a843b",
   "metadata": {},
   "outputs": [],
   "source": [
    "X=pd.concat([X,categoricals_features],axis=1)"
   ]
  },
  {
   "cell_type": "markdown",
   "id": "6e47175a",
   "metadata": {},
   "source": [
    "## Data splitting\n",
    "\n",
    "Before creating any model, you want to split into:\n",
    "- Train set 70-80% (to train the model with)\n",
    "- Test set 20-30% (to test your model on) \n"
   ]
  },
  {
   "cell_type": "code",
   "execution_count": 1230,
   "id": "f1b3f3a0",
   "metadata": {},
   "outputs": [
    {
     "data": {
      "text/plain": [
       "(4543, 43)"
      ]
     },
     "execution_count": 1230,
     "metadata": {},
     "output_type": "execute_result"
    }
   ],
   "source": [
    "X.shape ## just to check, if you run into a Value Error"
   ]
  },
  {
   "cell_type": "code",
   "execution_count": 1231,
   "id": "b97eb27f",
   "metadata": {},
   "outputs": [
    {
     "data": {
      "text/plain": [
       "(10910,)"
      ]
     },
     "execution_count": 1231,
     "metadata": {},
     "output_type": "execute_result"
    }
   ],
   "source": [
    "Y.shape ## just to check, if you run into a Value Error"
   ]
  },
  {
   "cell_type": "code",
   "execution_count": 1232,
   "id": "bdcc35dd",
   "metadata": {},
   "outputs": [],
   "source": [
    "X_train, X_test, y_train, y_test=train_test_split(X, y, test_size=.30,random_state=123)"
   ]
  },
  {
   "cell_type": "markdown",
   "id": "5535ece4",
   "metadata": {},
   "source": [
    "## Normalize/Standardize"
   ]
  },
  {
   "cell_type": "code",
   "execution_count": 1233,
   "id": "52eb3dbc",
   "metadata": {},
   "outputs": [],
   "source": [
    "std_scaler=StandardScaler().fit(X_train)   ##finding the parameters (mean, variance from the training set)\n",
    "\n",
    "X_train_scaled=std_scaler.transform(X_train)"
   ]
  },
  {
   "cell_type": "code",
   "execution_count": 1234,
   "id": "ce537086",
   "metadata": {},
   "outputs": [],
   "source": [
    "X_test_scaled=std_scaler.transform(X_test)"
   ]
  },
  {
   "cell_type": "code",
   "execution_count": 1235,
   "id": "112c90be",
   "metadata": {},
   "outputs": [
    {
     "name": "stdout",
     "output_type": "stream",
     "text": [
      "[[-0.41576668  0.77857914 -0.82777864 ... -0.50637969  0.65563413\n",
      "  -0.48620151]\n",
      " [ 1.23541236  0.30144517 -0.68280706 ...  1.97480275  0.65563413\n",
      "  -0.48620151]\n",
      " [-0.16427994  0.53799582 -0.16090934 ... -0.50637969  0.65563413\n",
      "  -0.48620151]\n",
      " ...\n",
      " [-0.33315365  1.19922291 -0.5958241  ... -0.50637969  0.65563413\n",
      "  -0.48620151]\n",
      " [ 1.64955612 -0.53243274 -0.5958241  ... -0.50637969  0.65563413\n",
      "  -0.48620151]\n",
      " [ 3.06415205 -0.53535069  2.94148262 ... -0.50637969 -1.52524091\n",
      "   2.05676035]]\n",
      "--------\n",
      "[[-0.58362539  0.90772301  0.27400542 ... -0.50637969  0.65563413\n",
      "  -0.48620151]\n",
      " [ 1.50634132 -1.22615071 -0.5958241  ... -0.50637969 -1.52524091\n",
      "   2.05676035]\n",
      " [ 0.16624077 -1.22615071  0.99886335 ... -0.50637969  0.65563413\n",
      "  -0.48620151]\n",
      " ...\n",
      " [-0.45985812 -0.47725399 -0.82777864 ... -0.50637969  0.65563413\n",
      "  -0.48620151]\n",
      " [-0.08556768 -0.19414729  0.01305656 ... -0.50637969  0.65563413\n",
      "  -0.48620151]\n",
      " [-0.60446299  0.39819652  0.21601678 ... -0.50637969  0.65563413\n",
      "  -0.48620151]]\n"
     ]
    }
   ],
   "source": [
    "print(X_train_scaled)\n",
    "print(\"--------\")\n",
    "print(X_test_scaled)"
   ]
  },
  {
   "cell_type": "code",
   "execution_count": 1236,
   "id": "35c1ec3a",
   "metadata": {},
   "outputs": [
    {
     "data": {
      "text/plain": [
       "array([[<AxesSubplot:title={'center':'Customer Lifetime Value'}>,\n",
       "        <AxesSubplot:title={'center':'Income'}>,\n",
       "        <AxesSubplot:title={'center':'Monthly Premium Auto'}>,\n",
       "        <AxesSubplot:title={'center':'Months Since Last Claim'}>,\n",
       "        <AxesSubplot:title={'center':'Months Since Policy Inception'}>,\n",
       "        <AxesSubplot:title={'center':'State_California'}>,\n",
       "        <AxesSubplot:title={'center':'State_Nevada'}>],\n",
       "       [<AxesSubplot:title={'center':'State_Oregon'}>,\n",
       "        <AxesSubplot:title={'center':'State_Washington'}>,\n",
       "        <AxesSubplot:title={'center':'Response_Yes'}>,\n",
       "        <AxesSubplot:title={'center':'Coverage_Extended'}>,\n",
       "        <AxesSubplot:title={'center':'Coverage_Premium'}>,\n",
       "        <AxesSubplot:title={'center':'Education_College'}>,\n",
       "        <AxesSubplot:title={'center':'Education_Doctor'}>],\n",
       "       [<AxesSubplot:title={'center':'Education_High School or Below'}>,\n",
       "        <AxesSubplot:title={'center':'Education_Master'}>,\n",
       "        <AxesSubplot:title={'center':'Month_January'}>,\n",
       "        <AxesSubplot:title={'center':'EmploymentStatus_Employed'}>,\n",
       "        <AxesSubplot:title={'center':'EmploymentStatus_Medical Leave'}>,\n",
       "        <AxesSubplot:title={'center':'EmploymentStatus_Retired'}>,\n",
       "        <AxesSubplot:title={'center':'EmploymentStatus_Unemployed'}>],\n",
       "       [<AxesSubplot:title={'center':'Gender_M'}>,\n",
       "        <AxesSubplot:title={'center':'Location Code_Suburban'}>,\n",
       "        <AxesSubplot:title={'center':'Location Code_Urban'}>,\n",
       "        <AxesSubplot:title={'center':'Marital Status_Married'}>,\n",
       "        <AxesSubplot:title={'center':'Marital Status_Single'}>,\n",
       "        <AxesSubplot:title={'center':'Policy Type_Personal Auto'}>,\n",
       "        <AxesSubplot:title={'center':'Policy Type_Special Auto'}>],\n",
       "       [<AxesSubplot:title={'center':'Policy_Corporate L2'}>,\n",
       "        <AxesSubplot:title={'center':'Policy_Corporate L3'}>,\n",
       "        <AxesSubplot:title={'center':'Policy_Personal L1'}>,\n",
       "        <AxesSubplot:title={'center':'Policy_Personal L2'}>,\n",
       "        <AxesSubplot:title={'center':'Policy_Personal L3'}>,\n",
       "        <AxesSubplot:title={'center':'Policy_Special L1'}>,\n",
       "        <AxesSubplot:title={'center':'Policy_Special L2'}>],\n",
       "       [<AxesSubplot:title={'center':'Policy_Special L3'}>,\n",
       "        <AxesSubplot:title={'center':'Vehicle Class_Luxury Car'}>,\n",
       "        <AxesSubplot:title={'center':'Vehicle Class_Luxury SUV'}>,\n",
       "        <AxesSubplot:title={'center':'Vehicle Class_SUV'}>,\n",
       "        <AxesSubplot:title={'center':'Vehicle Class_Sports Car'}>,\n",
       "        <AxesSubplot:title={'center':'Vehicle Class_Two-Door Car'}>,\n",
       "        <AxesSubplot:title={'center':'Vehicle Size_Medsize'}>],\n",
       "       [<AxesSubplot:title={'center':'Vehicle Size_Small'}>,\n",
       "        <AxesSubplot:>, <AxesSubplot:>, <AxesSubplot:>, <AxesSubplot:>,\n",
       "        <AxesSubplot:>, <AxesSubplot:>]], dtype=object)"
      ]
     },
     "execution_count": 1236,
     "metadata": {},
     "output_type": "execute_result"
    },
    {
     "data": {
      "image/png": "[encoded data removed]",
      "text/plain": [
       "<Figure size 1008x1008 with 49 Axes>"
      ]
     },
     "metadata": {
      "needs_background": "light"
     },
     "output_type": "display_data"
    }
   ],
   "source": [
    "X.hist(figsize=(14,14))"
   ]
  },
  {
   "cell_type": "code",
   "execution_count": 1237,
   "id": "9956d04f",
   "metadata": {},
   "outputs": [],
   "source": [
    "## Power Transformer (uses/searches lambda to end up with a new distribution with smallest skewness)\n",
    "## two methods \n",
    "bc = PowerTransformer(method=\"box-cox\")\n",
    "yj = PowerTransformer(method=\"yeo-johnson\")"
   ]
  },
  {
   "cell_type": "code",
   "execution_count": 1238,
   "id": "17dbab9a",
   "metadata": {},
   "outputs": [
    {
     "data": {
      "text/plain": [
       "<seaborn.axisgrid.FacetGrid at 0x7fcf2b25dfd0>"
      ]
     },
     "execution_count": 1238,
     "metadata": {},
     "output_type": "execute_result"
    },
    {
     "data": {
      "image/png": "[encoded data removed]",
      "text/plain": [
       "<Figure size 402.375x360 with 1 Axes>"
      ]
     },
     "metadata": {
      "needs_background": "light"
     },
     "output_type": "display_data"
    }
   ],
   "source": [
    "income_yj=yj.fit_transform(insurance_df['Income'].to_numpy().reshape(-1,1))\n",
    "sns.displot(income_yj)"
   ]
  },
  {
   "cell_type": "code",
   "execution_count": 1239,
   "id": "2da1f7b0",
   "metadata": {},
   "outputs": [
    {
     "data": {
      "text/plain": [
       "array([0.27067406])"
      ]
     },
     "execution_count": 1239,
     "metadata": {},
     "output_type": "execute_result"
    }
   ],
   "source": [
    "yj.lambdas_"
   ]
  },
  {
   "cell_type": "code",
   "execution_count": 1240,
   "id": "7f9f6e14",
   "metadata": {},
   "outputs": [
    {
     "data": {
      "text/plain": [
       "<seaborn.axisgrid.FacetGrid at 0x7fcf19c98bb0>"
      ]
     },
     "execution_count": 1240,
     "metadata": {},
     "output_type": "execute_result"
    },
    {
     "data": {
      "image/png": "[encoded data removed]",
      "text/plain": [
       "<Figure size 402.375x360 with 1 Axes>"
      ]
     },
     "metadata": {
      "needs_background": "light"
     },
     "output_type": "display_data"
    }
   ],
   "source": [
    "## Quartile Transformer\n",
    "qt = QuantileTransformer(output_distribution='normal')\n",
    "income_qt = qt.fit_transform(insurance_df['Income'].to_numpy().reshape(-1,1))\n",
    "sns.displot(income_qt)"
   ]
  },
  {
   "cell_type": "code",
   "execution_count": 1241,
   "id": "737515fb",
   "metadata": {},
   "outputs": [],
   "source": [
    "## drop Income and replace with transformed income\n",
    "insurance_df[\"income_qt\"]= income_qt\n",
    "insurance_df.drop([\"Income\"],axis=1,inplace=True)"
   ]
  },
  {
   "cell_type": "code",
   "execution_count": 1242,
   "id": "7cdb1022",
   "metadata": {},
   "outputs": [
    {
     "data": {
      "text/plain": [
       "<seaborn.axisgrid.FacetGrid at 0x7fcf19c92e50>"
      ]
     },
     "execution_count": 1242,
     "metadata": {},
     "output_type": "execute_result"
    },
    {
     "data": {
      "image/png": "[encoded data removed]",
      "text/plain": [
       "<Figure size 402.375x360 with 1 Axes>"
      ]
     },
     "metadata": {
      "needs_background": "light"
     },
     "output_type": "display_data"
    }
   ],
   "source": [
    "customer_value_bc=bc.fit_transform(insurance_df['Customer Lifetime Value'].to_numpy().reshape(-1,1))\n",
    "sns.displot(customer_value_bc)"
   ]
  },
  {
   "cell_type": "code",
   "execution_count": 1243,
   "id": "0b6a742c",
   "metadata": {},
   "outputs": [
    {
     "data": {
      "text/plain": [
       "<seaborn.axisgrid.FacetGrid at 0x7fcf3ba3f6d0>"
      ]
     },
     "execution_count": 1243,
     "metadata": {},
     "output_type": "execute_result"
    },
    {
     "data": {
      "image/png": "[encoded data removed]",
      "text/plain": [
       "<Figure size 402.375x360 with 1 Axes>"
      ]
     },
     "metadata": {
      "needs_background": "light"
     },
     "output_type": "display_data"
    }
   ],
   "source": [
    "## Quartile Transformer\n",
    "qt = QuantileTransformer(output_distribution='normal')\n",
    "customer_value_qt = qt.fit_transform(insurance_df['Customer Lifetime Value'].to_numpy().reshape(-1,1))\n",
    "sns.displot(customer_value_qt)"
   ]
  },
  {
   "cell_type": "code",
   "execution_count": 1244,
   "id": "12d09da1",
   "metadata": {},
   "outputs": [],
   "source": [
    "## drop customer lifetime value and replace with transformed income\n",
    "insurance_df[\"customer_value_qt\"]= customer_value_qt\n",
    "insurance_df.drop([\"Customer Lifetime Value\"],axis=1,inplace=True)"
   ]
  },
  {
   "cell_type": "code",
   "execution_count": 1245,
   "id": "3b638ebc",
   "metadata": {},
   "outputs": [
    {
     "data": {
      "text/plain": [
       "<seaborn.axisgrid.FacetGrid at 0x7fcfaea4a670>"
      ]
     },
     "execution_count": 1245,
     "metadata": {},
     "output_type": "execute_result"
    },
    {
     "data": {
      "image/png": "[encoded data removed]",
      "text/plain": [
       "<Figure size 402.375x360 with 1 Axes>"
      ]
     },
     "metadata": {
      "needs_background": "light"
     },
     "output_type": "display_data"
    }
   ],
   "source": [
    "monthly_auto_bc=bc.fit_transform(insurance_df['Monthly Premium Auto'].to_numpy().reshape(-1,1))\n",
    "sns.displot(monthly_auto_bc)"
   ]
  },
  {
   "cell_type": "code",
   "execution_count": 1246,
   "id": "d05f97f6",
   "metadata": {},
   "outputs": [
    {
     "data": {
      "text/plain": [
       "<seaborn.axisgrid.FacetGrid at 0x7fcf19c92ca0>"
      ]
     },
     "execution_count": 1246,
     "metadata": {},
     "output_type": "execute_result"
    },
    {
     "data": {
      "image/png": "[encoded data removed]",
      "text/plain": [
       "<Figure size 402.375x360 with 1 Axes>"
      ]
     },
     "metadata": {
      "needs_background": "light"
     },
     "output_type": "display_data"
    }
   ],
   "source": [
    "qt = QuantileTransformer(output_distribution='normal')\n",
    "monthly_auto_qt = qt.fit_transform(insurance_df['Monthly Premium Auto'].to_numpy().reshape(-1,1))\n",
    "sns.displot(monthly_auto_qt)"
   ]
  },
  {
   "cell_type": "code",
   "execution_count": 1247,
   "id": "8a7aa5ad",
   "metadata": {},
   "outputs": [],
   "source": [
    "## drop Monthly Premium Auto and replace with transformed income\n",
    "insurance_df[\"monthly_auto_qt\"]= monthly_auto_qt\n",
    "insurance_df.drop([\"Monthly Premium Auto\"],axis=1,inplace=True)"
   ]
  },
  {
   "cell_type": "code",
   "execution_count": 1248,
   "id": "7bf1b912",
   "metadata": {},
   "outputs": [
    {
     "data": {
      "text/plain": [
       "<seaborn.axisgrid.FacetGrid at 0x7fcf2b4a2f40>"
      ]
     },
     "execution_count": 1248,
     "metadata": {},
     "output_type": "execute_result"
    },
    {
     "data": {
      "image/png": "[encoded data removed]",
      "text/plain": [
       "<Figure size 402.375x360 with 1 Axes>"
      ]
     },
     "metadata": {
      "needs_background": "light"
     },
     "output_type": "display_data"
    }
   ],
   "source": [
    "last_claim_yj=yj.fit_transform(insurance_df['Months Since Last Claim'].to_numpy().reshape(-1,1))\n",
    "sns.displot(last_claim_yj)"
   ]
  },
  {
   "cell_type": "code",
   "execution_count": 1249,
   "id": "ff4cd007",
   "metadata": {},
   "outputs": [
    {
     "data": {
      "text/plain": [
       "<seaborn.axisgrid.FacetGrid at 0x7fcf4d276520>"
      ]
     },
     "execution_count": 1249,
     "metadata": {},
     "output_type": "execute_result"
    },
    {
     "data": {
      "image/png": "[encoded data removed]",
      "text/plain": [
       "<Figure size 402.375x360 with 1 Axes>"
      ]
     },
     "metadata": {
      "needs_background": "light"
     },
     "output_type": "display_data"
    }
   ],
   "source": [
    "last_claim_qt = qt.fit_transform(insurance_df['Months Since Last Claim'].to_numpy().reshape(-1,1))\n",
    "sns.displot(last_claim_qt)"
   ]
  },
  {
   "cell_type": "code",
   "execution_count": 1250,
   "id": "ef1a9664",
   "metadata": {},
   "outputs": [],
   "source": [
    "## drop Months Since Last Claim and replace with transformed income\n",
    "insurance_df[\"last_claim_qt\"]= last_claim_qt\n",
    "insurance_df.drop([\"Months Since Last Claim\"],axis=1,inplace=True)"
   ]
  },
  {
   "cell_type": "code",
   "execution_count": 1251,
   "id": "53efe305",
   "metadata": {},
   "outputs": [
    {
     "data": {
      "text/plain": [
       "<seaborn.axisgrid.FacetGrid at 0x7fcf2b29be80>"
      ]
     },
     "execution_count": 1251,
     "metadata": {},
     "output_type": "execute_result"
    },
    {
     "data": {
      "image/png": "[encoded data removed]",
      "text/plain": [
       "<Figure size 402.375x360 with 1 Axes>"
      ]
     },
     "metadata": {
      "needs_background": "light"
     },
     "output_type": "display_data"
    }
   ],
   "source": [
    "inspection_yj=yj.fit_transform(insurance_df['Months Since Policy Inception'].to_numpy().reshape(-1,1))\n",
    "sns.displot(inspection_yj)"
   ]
  },
  {
   "cell_type": "code",
   "execution_count": 1252,
   "id": "03f34abd",
   "metadata": {},
   "outputs": [
    {
     "data": {
      "text/plain": [
       "<seaborn.axisgrid.FacetGrid at 0x7fcf1a24e0d0>"
      ]
     },
     "execution_count": 1252,
     "metadata": {},
     "output_type": "execute_result"
    },
    {
     "data": {
      "image/png": "[encoded data removed]",
      "text/plain": [
       "<Figure size 402.375x360 with 1 Axes>"
      ]
     },
     "metadata": {
      "needs_background": "light"
     },
     "output_type": "display_data"
    }
   ],
   "source": [
    "inspection_qt = qt.fit_transform(insurance_df['Months Since Policy Inception'].to_numpy().reshape(-1,1))\n",
    "sns.displot(inspection_qt)"
   ]
  },
  {
   "cell_type": "code",
   "execution_count": 1253,
   "id": "d304818f",
   "metadata": {},
   "outputs": [],
   "source": [
    "## drop Months Since Policy Inception and replace with transformed income\n",
    "insurance_df[\"inspection_qt\"]= inspection_qt\n",
    "insurance_df.drop([\"Months Since Policy Inception\"],axis=1,inplace=True)"
   ]
  },
  {
   "cell_type": "code",
   "execution_count": null,
   "id": "074f3032",
   "metadata": {},
   "outputs": [],
   "source": []
  },
  {
   "cell_type": "markdown",
   "id": "e8f2f72b",
   "metadata": {},
   "source": [
    "# Apply Linear Regression"
   ]
  },
  {
   "cell_type": "code",
   "execution_count": 1254,
   "id": "cf0c5786",
   "metadata": {},
   "outputs": [
    {
     "data": {
      "text/plain": [
       "Index(['Customer Lifetime Value', 'Income', 'Monthly Premium Auto',\n",
       "       'Months Since Last Claim', 'Months Since Policy Inception',\n",
       "       'State_California', 'State_Nevada', 'State_Oregon', 'State_Washington',\n",
       "       'Response_Yes', 'Coverage_Extended', 'Coverage_Premium',\n",
       "       'Education_College', 'Education_Doctor',\n",
       "       'Education_High School or Below', 'Education_Master', 'Month_January',\n",
       "       'EmploymentStatus_Employed', 'EmploymentStatus_Medical Leave',\n",
       "       'EmploymentStatus_Retired', 'EmploymentStatus_Unemployed', 'Gender_M',\n",
       "       'Location Code_Suburban', 'Location Code_Urban',\n",
       "       'Marital Status_Married', 'Marital Status_Single',\n",
       "       'Policy Type_Personal Auto', 'Policy Type_Special Auto',\n",
       "       'Policy_Corporate L2', 'Policy_Corporate L3', 'Policy_Personal L1',\n",
       "       'Policy_Personal L2', 'Policy_Personal L3', 'Policy_Special L1',\n",
       "       'Policy_Special L2', 'Policy_Special L3', 'Vehicle Class_Luxury Car',\n",
       "       'Vehicle Class_Luxury SUV', 'Vehicle Class_SUV',\n",
       "       'Vehicle Class_Sports Car', 'Vehicle Class_Two-Door Car',\n",
       "       'Vehicle Size_Medsize', 'Vehicle Size_Small'],\n",
       "      dtype='object')"
      ]
     },
     "execution_count": 1254,
     "metadata": {},
     "output_type": "execute_result"
    }
   ],
   "source": [
    "X.columns"
   ]
  },
  {
   "cell_type": "code",
   "execution_count": 1255,
   "id": "b327934b",
   "metadata": {},
   "outputs": [
    {
     "data": {
      "text/plain": [
       "LinearRegression()"
      ]
     },
     "execution_count": 1255,
     "metadata": {},
     "output_type": "execute_result"
    }
   ],
   "source": [
    "## Model fitting\n",
    "model=LinearRegression()    # model\n",
    "model.fit(X_train_scaled, y_train)   # model train"
   ]
  },
  {
   "cell_type": "code",
   "execution_count": 1256,
   "id": "a3b14c8f",
   "metadata": {},
   "outputs": [
    {
     "data": {
      "text/plain": [
       "array([-1.82191142e+00, -8.26858714e+00,  1.59658112e+02,  4.16083846e+00,\n",
       "       -1.04268714e+00, -9.27502904e-01, -3.26442614e+00, -4.62533426e+00,\n",
       "       -1.49044777e+00, -8.48979541e+00,  1.71852510e+00,  2.82792338e+00,\n",
       "       -7.65851089e+00, -3.00627439e+00,  2.96966734e+00, -5.43855190e+00,\n",
       "       -1.37471159e+00, -4.17104082e+00,  5.32490546e+00, -2.65274491e+00,\n",
       "        2.77372295e+01,  1.01500076e+01,  1.84942666e+02,  8.63225172e+01,\n",
       "       -4.23893831e+00,  2.80158883e+01,  6.36143883e+13, -6.79503801e+13,\n",
       "       -4.99660989e+00, -2.45247909e+00, -5.11721044e+13, -6.16587843e+13,\n",
       "       -7.09869146e+13,  2.84171730e+13,  4.43151337e+13,  4.46528369e+13,\n",
       "        1.15805089e+01,  8.58041189e+00,  4.74423726e+00, -1.64279797e+00,\n",
       "        1.56616388e-01, -4.24339837e+00, -5.96506777e-01])"
      ]
     },
     "execution_count": 1256,
     "metadata": {},
     "output_type": "execute_result"
    }
   ],
   "source": [
    "model.coef_"
   ]
  },
  {
   "cell_type": "code",
   "execution_count": 1257,
   "id": "87dbfefa",
   "metadata": {},
   "outputs": [
    {
     "data": {
      "text/plain": [
       "436.1617650622665"
      ]
     },
     "execution_count": 1257,
     "metadata": {},
     "output_type": "execute_result"
    }
   ],
   "source": [
    "model.intercept_"
   ]
  },
  {
   "cell_type": "code",
   "execution_count": 1258,
   "id": "234bf801",
   "metadata": {},
   "outputs": [],
   "source": [
    "## Making prediction\n",
    "y_pred=model.predict(X_test_scaled)   # model prediction\n",
    "##y_pred_train=model.predict(X_train_scaled)"
   ]
  },
  {
   "cell_type": "markdown",
   "id": "84cb48cd",
   "metadata": {},
   "source": [
    "# Evaluating Model performance"
   ]
  },
  {
   "cell_type": "code",
   "execution_count": 1259,
   "id": "6c823700",
   "metadata": {},
   "outputs": [
    {
     "data": {
      "text/plain": [
       "6783      480.073548\n",
       "3775      525.600000\n",
       "1481      921.600000\n",
       "5094     1008.569798\n",
       "6298      640.800000\n",
       "            ...     \n",
       "5646      495.670802\n",
       "10541     446.084760\n",
       "9882      468.000000\n",
       "2952      146.950756\n",
       "10529       0.769185\n",
       "Name: Total Claim Amount, Length: 1363, dtype: float64"
      ]
     },
     "execution_count": 1259,
     "metadata": {},
     "output_type": "execute_result"
    }
   ],
   "source": [
    "y_test"
   ]
  },
  {
   "cell_type": "code",
   "execution_count": 1260,
   "id": "0294b254",
   "metadata": {},
   "outputs": [
    {
     "data": {
      "text/plain": [
       "array([371.05688948, 552.4661921 , 818.3943945 , ..., 400.74438948,\n",
       "       126.60376448, 202.1443945 ])"
      ]
     },
     "execution_count": 1260,
     "metadata": {},
     "output_type": "execute_result"
    }
   ],
   "source": [
    "y_pred"
   ]
  },
  {
   "cell_type": "code",
   "execution_count": 1261,
   "id": "97812553",
   "metadata": {},
   "outputs": [],
   "source": [
    "result=pd.DataFrame({\"y_test\":y_test,\"y_pred\":y_pred})"
   ]
  },
  {
   "cell_type": "code",
   "execution_count": 1262,
   "id": "ea2c881f",
   "metadata": {},
   "outputs": [
    {
     "data": {
      "text/plain": [
       "[<matplotlib.lines.Line2D at 0x7fcfaf009640>]"
      ]
     },
     "execution_count": 1262,
     "metadata": {},
     "output_type": "execute_result"
    },
    {
     "data": {
      "image/png": "[encoded data removed]",
      "text/plain": [
       "<Figure size 1008x288 with 3 Axes>"
      ]
     },
     "metadata": {
      "needs_background": "light"
     },
     "output_type": "display_data"
    }
   ],
   "source": [
    "# Make an scatter plot y_pred vs y\n",
    "# What kind of plot you will get if all the all the predictions are ok?\n",
    "# A stright line\n",
    "\n",
    "fig, ax = plt.subplots(1,3,figsize=(14,4))\n",
    "ax[0].plot(y_pred, y_test, 'o')\n",
    "ax[0].set_xlabel(\"y_test\")\n",
    "ax[0].set_ylabel(\"y_pred\")\n",
    "ax[0].set_title(\"Test Set -Predicted vs real\")\n",
    "\n",
    "# Get a histogram of the residuals ie: y - y_pred.  Homoscdasticity\n",
    "# It resembles a normal distribution?\n",
    "ax[1].hist(y_test - y_pred)\n",
    "ax[1].set_xlabel(\"Test y-y_pred\")\n",
    "ax[1].set_title(\"Test Set Residual histogram\")\n",
    "\n",
    "ax[2].plot(y_pred,y_test - y_pred,\"o\")\n",
    "ax[2].set_xlabel(\"predited\")\n",
    "ax[2].set_ylabel(\"residuals\")\n",
    "ax[2].set_title(\"Residuals by Predicted\")\n",
    "ax[2].plot(y_pred,np.zeros(len(y_pred)),linestyle='dashed')"
   ]
  },
  {
   "cell_type": "code",
   "execution_count": 1263,
   "id": "138e36db",
   "metadata": {},
   "outputs": [
    {
     "name": "stdout",
     "output_type": "stream",
     "text": [
      "18269.55985409686\n",
      "94.54471773467915\n",
      "0.7896699365265063\n"
     ]
    }
   ],
   "source": [
    "## Error metrics\n",
    "print(mse(y_test,y_pred))\n",
    "print(mae(y_test,y_pred))\n",
    "print(r2_score(y_test, y_pred))"
   ]
  },
  {
   "cell_type": "markdown",
   "id": "a62641a3",
   "metadata": {},
   "source": [
    "#### Label encoding"
   ]
  },
  {
   "cell_type": "code",
   "execution_count": 1264,
   "id": "3a45ea68",
   "metadata": {},
   "outputs": [],
   "source": [
    "## Label encoder for Number of Policies\n",
    "## Import label encoder \n",
    "#from sklearn import preprocessing\n",
    "## label_encoder object knows how to understand word labels. \n",
    "#label_encoder = preprocessing.LabelEncoder()\n",
    "## Encode labels in column ''. \n",
    "#insurance_df['State']= label_encoder.fit_transform(insurance_df['State']) \n",
    "#insurance_df.head()"
   ]
  },
  {
   "cell_type": "code",
   "execution_count": null,
   "id": "60c4b0ce",
   "metadata": {},
   "outputs": [],
   "source": []
  }
 ],
 "metadata": {
  "kernelspec": {
   "display_name": "Python 3 (ipykernel)",
   "language": "python",
   "name": "python3"
  },
  "language_info": {
   "codemirror_mode": {
    "name": "ipython",
    "version": 3
   },
   "file_extension": ".py",
   "mimetype": "text/x-python",
   "name": "python",
   "nbconvert_exporter": "python",
   "pygments_lexer": "ipython3",
   "version": "3.9.7"
  },
  "toc": {
   "base_numbering": 1,
   "nav_menu": {},
   "number_sections": true,
   "sideBar": true,
   "skip_h1_title": true,
   "title_cell": "Table of Contents",
   "title_sidebar": "Contents",
   "toc_cell": false,
   "toc_position": {
    "height": "calc(100% - 180px)",
    "left": "10px",
    "top": "150px",
    "width": "320px"
   },
   "toc_section_display": true,
   "toc_window_display": true
  }
 },
 "nbformat": 4,
 "nbformat_minor": 5
}
